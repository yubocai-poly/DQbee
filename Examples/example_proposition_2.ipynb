{
 "cells": [
  {
   "cell_type": "code",
   "execution_count": 1,
   "metadata": {},
   "outputs": [
    {
     "name": "stdout",
     "output_type": "stream",
     "text": [
      "------------------- Import Dqbee -------------------\n",
      "---------- Dqbee Module loaded successfully ----------\n"
     ]
    }
   ],
   "source": [
    "from DQbee import *\n",
    "import sympy as sp\n",
    "%config InlineBackend.figure_format = 'retina'\n",
    "%matplotlib inline\n",
    "import matplotlib.pyplot as plt\n",
    "import matplotlib.gridspec as gridspec\n",
    "from scipy.integrate import solve_ivp\n",
    "import matplotlib.pyplot as plt\n",
    "import numpy as np\n",
    "from IPython.display import display, Latex"
   ]
  },
  {
   "cell_type": "markdown",
   "metadata": {},
   "source": [
    "### Example of the proof for Proposition 2\n",
    "\n",
    "---\n",
    "\n",
    "Here we use the **Example 3** in the paper to illustrate the proof for Proposition 2. Consider the following system:\n",
    "$$\n",
    "x_1^{\\prime}=-3 x_1+x_2^4, \\quad x_2^{\\prime}=-2 x_2+x_1^2 .\n",
    "$$\n",
    "By applying Algorithm 1, we introduce the following new variables to obtain the inner-quadratic system:\n",
    "$$\n",
    "y_1=x_1^2, \\quad y_2=x_2^2, \\quad y_3=x_1 x_2, \\quad y_4=x_2^3=x_2 y_2\n",
    "$$\n",
    "Then we got the inner-quadratic system:\n",
    "\\begin{align*}\n",
    "q_1(x, y) \\text{ part:} \\\\\n",
    "x_1' &= -3x_1 + y_2^2 \\\\\n",
    "x_2' &= -2x_2 + x_1^2\n",
    "\\end{align*}\n",
    "\n",
    "\\begin{align*}\n",
    "q_2(x, y) \\text{ part:} \\\\\n",
    "y_1' &= 2y_4y_3 - 6x_1^2 \\\\\n",
    "y_2' &= 2y_1x_2 - 4x_2^2 \\\\\n",
    "y_3' &= y_4y_2 + y_1x_1 - 5x_1x_2 \\\\\n",
    "y_4' &= 3y_1y_2 - 6y_2x_2\n",
    "\\end{align*}"
   ]
  },
  {
   "cell_type": "code",
   "execution_count": 3,
   "metadata": {},
   "outputs": [],
   "source": [
    "x1, x2, y1, y2, y3, y4, z1, z2, z3, z4 = sp.symbols(\n",
    "    'x1 x2 y1 y2 y3 y4 z1 z2 z3 z4')\n",
    "x1_d, x2_d, y1_d, y2_d, y3_d, y4_d, z1_d, z2_d, z3_d, z4_d = sp.symbols(\n",
    "    'x1_d x2_d y1_d y2_d y3_d y4_d z1_d z2_d z3_d z4_d')\n",
    "lambda_ = sp.symbols('lambda')\n",
    "t = sp.symbols('t')\n",
    "\n",
    "substitutions_y = {\n",
    "    y1: z1 + x1**2,\n",
    "    y2: z2 + x2**2,\n",
    "    y3: z3 + x1 * x2,\n",
    "    y4: z4 + x2**3\n",
    "}"
   ]
  },
  {
   "cell_type": "markdown",
   "metadata": {},
   "source": [
    "\n",
    "### Step 2 - compute $\\mathbf{x}^{\\prime}=\\widetilde{\\mathbf{q}}_1(\\mathbf{x}, \\mathbf{z})$ and $\\mathbf{z}^{\\prime}=\\widetilde{\\mathbf{q}}_2(\\mathbf{x}, \\mathbf{z})$\n",
    "\n",
    "---"
   ]
  },
  {
   "cell_type": "code",
   "execution_count": 4,
   "metadata": {},
   "outputs": [
    {
     "data": {
      "text/latex": [
       "$\\frac{d}{d t} x_{1} = - 3 x_{1} + x_{2}^{4} + 2 x_{2}^{2} z_{2} + z_{2}^{2}$"
      ],
      "text/plain": [
       "<IPython.core.display.Latex object>"
      ]
     },
     "metadata": {},
     "output_type": "display_data"
    },
    {
     "data": {
      "text/latex": [
       "$\\frac{d}{d t} x_{2} = x_{1}^{2} - 2 x_{2}$"
      ],
      "text/plain": [
       "<IPython.core.display.Latex object>"
      ]
     },
     "metadata": {},
     "output_type": "display_data"
    },
    {
     "data": {
      "text/latex": [
       "$\\frac{d}{d t} y_{1} = - 6 x_{1}^{2} + 2 x_{1} x_{2}^{4} + 2 x_{1} x_{2} z_{4} + 2 x_{2}^{3} z_{3} + 2 z_{3} z_{4}$"
      ],
      "text/plain": [
       "<IPython.core.display.Latex object>"
      ]
     },
     "metadata": {},
     "output_type": "display_data"
    },
    {
     "data": {
      "text/latex": [
       "$\\frac{d}{d t} y_{2} = 2 x_{1}^{2} x_{2} - 4 x_{2}^{2} + 2 x_{2} z_{1}$"
      ],
      "text/plain": [
       "<IPython.core.display.Latex object>"
      ]
     },
     "metadata": {},
     "output_type": "display_data"
    },
    {
     "data": {
      "text/latex": [
       "$\\frac{d}{d t} y_{3} = x_{1}^{3} - 5 x_{1} x_{2} + x_{1} z_{1} + x_{2}^{5} + x_{2}^{3} z_{2} + x_{2}^{2} z_{4} + z_{2} z_{4}$"
      ],
      "text/plain": [
       "<IPython.core.display.Latex object>"
      ]
     },
     "metadata": {},
     "output_type": "display_data"
    },
    {
     "data": {
      "text/latex": [
       "$\\frac{d}{d t} y_{4} = 3 x_{1}^{2} x_{2}^{2} + 3 x_{1}^{2} z_{2} - 6 x_{2}^{3} + 3 x_{2}^{2} z_{1} - 6 x_{2} z_{2} + 3 z_{1} z_{2}$"
      ],
      "text/plain": [
       "<IPython.core.display.Latex object>"
      ]
     },
     "metadata": {},
     "output_type": "display_data"
    }
   ],
   "source": [
    "example_system = [\n",
    "    sp.Eq(sp.Derivative(x1, t), -3 * x1 + y2 ** 2),\n",
    "    sp.Eq(sp.Derivative(x2, t), -2 * x2 + x1 ** 2),\n",
    "    sp.Eq(sp.Derivative(y1, t), 2 * y4 * y3 - 6 * x1 ** 2),\n",
    "    sp.Eq(sp.Derivative(y2, t), 2 * y1 * x2 - 4 * x2 ** 2 ),\n",
    "    sp.Eq(sp.Derivative(y3, t), y4 * y2 + y1 * x1 - 5 * x1 * x2 ),\n",
    "    sp.Eq(sp.Derivative(y4, t), 3 * y1 * y2 - 6 * y2 * x2)\n",
    "]\n",
    "\n",
    "for i in range(len(example_system)):\n",
    "    rhs = example_system[i].rhs\n",
    "    rhs = rhs.subs(substitutions_y)\n",
    "    lhs_latex = sp.latex(example_system[i].lhs)\n",
    "    rhs_latex = sp.latex(rhs.expand())\n",
    "    display(Latex(f'${lhs_latex} = {rhs_latex}$'))"
   ]
  },
  {
   "cell_type": "code",
   "execution_count": 5,
   "metadata": {},
   "outputs": [
    {
     "data": {
      "text/latex": [
       "$\\frac{d}{d t} z_{1} = - 4 x_{1} x_{2}^{2} z_{2} + 2 x_{1} x_{2} z_{4} - 2 x_{1} z_{2}^{2} + 2 x_{2}^{3} z_{3} + 2 z_{3} z_{4}$"
      ],
      "text/plain": [
       "<IPython.core.display.Latex object>"
      ]
     },
     "metadata": {},
     "output_type": "display_data"
    },
    {
     "data": {
      "text/latex": [
       "$\\frac{d}{d t} z_{2} = 2 x_{2} z_{1}$"
      ],
      "text/plain": [
       "<IPython.core.display.Latex object>"
      ]
     },
     "metadata": {},
     "output_type": "display_data"
    },
    {
     "data": {
      "text/latex": [
       "$\\frac{d}{d t} z_{3} = x_{1} z_{1} - x_{2}^{3} z_{2} + x_{2}^{2} z_{4} - x_{2} z_{2}^{2} + z_{2} z_{4}$"
      ],
      "text/plain": [
       "<IPython.core.display.Latex object>"
      ]
     },
     "metadata": {},
     "output_type": "display_data"
    },
    {
     "data": {
      "text/latex": [
       "$\\frac{d}{d t} z_{4} = 3 x_{1}^{2} z_{2} + 3 x_{2}^{2} z_{1} - 6 x_{2} z_{2} + 3 z_{1} z_{2}$"
      ],
      "text/plain": [
       "<IPython.core.display.Latex object>"
      ]
     },
     "metadata": {},
     "output_type": "display_data"
    }
   ],
   "source": [
    "dict_subs_tlide = {\n",
    "    x1_d: -3 * x1 + x2 ** 4 + 2 * x2 ** 2 * z2 + z2 ** 2,\n",
    "    x2_d: -2 * x2 + x1 ** 2,\n",
    "    y1: - 6 * x1**2 + 2 * x1 * x2**4 + 2 * x1 * x2 * z4 + 2 * x2**3 * z3 + 2 * z3 * z4,\n",
    "    y2: 2 * x1**2 * x2 - 4 * x2**2 + 2 * x2 * z1,\n",
    "    y3: x1**3 - 5 * x1 * x2 + x1 * z1 + x2**5 + x2**3 * z2 + x2**2 * z4 + z2 * z4,\n",
    "    y4: 3 * x1**2 * x2**2 + 3 * x1**2 * z2 - 6 * x2**3 + 3 * x2**2 * z1 - 6 * x2 * z2 + 3 * z1 * z2\n",
    "}\n",
    "\n",
    "differential_q2 = [\n",
    "    sp.Eq(sp.Derivative(z1 ,t), y1 - 2 * x1 * x1_d),\n",
    "    sp.Eq(sp.Derivative(z2 ,t), y2 - 2 * x2 * x2_d),\n",
    "    sp.Eq(sp.Derivative(z3 ,t), y3 - x1 * x2_d - x2 * x1_d),\n",
    "    sp.Eq(sp.Derivative(z4 ,t), y4 - 3 * x2 ** 2 * x2_d)\n",
    "]\n",
    "\n",
    "for i in range(len(differential_q2)):\n",
    "    rhs = differential_q2[i].rhs\n",
    "    rhs = rhs.subs(dict_subs_tlide).expand()\n",
    "    lhs_latex = sp.latex(differential_q2[i].lhs)\n",
    "    rhs_latex = sp.latex(rhs)\n",
    "    display(Latex(f'${lhs_latex} = {rhs_latex}$'))\n"
   ]
  },
  {
   "cell_type": "markdown",
   "metadata": {},
   "source": [
    "Therefore, we have the following system:\n",
    "$$\n",
    "\\begin{gathered}\n",
    "\\mathbf{x}^{\\prime}=\\widetilde{\\mathbf{q}}_1(\\mathbf{x}, \\mathbf{z}):\\left\\{\\begin{array}{l}\n",
    "x_1^{\\prime}=-3 x_1+x_2^4+2 x_2^2 z_2+z_2^2 \\\\\n",
    "x_2^{\\prime}=x_1^2-2 x_2\n",
    "\\end{array}\\right. \\\\\\\\\n",
    "\\mathbf{z}^{\\prime}=\\widetilde{\\mathbf{q}}_2(\\mathbf{x}, \\mathbf{z}):\\left\\{\\begin{array}{l}\n",
    "z_1^{\\prime}=-4 x_1 x_2^2 z_2+2 x_1 x_2 z_4-2 x_1 z_2^2+2 x_2^3 z_3+2 z_3 z_4 \\\\\n",
    "z_2^{\\prime}=2 x_2 z_1 \\\\\n",
    "z_3^{\\prime}=x_1 z_1-x_2^3 z_2+x_2^2 z_4-x_2 z_2^2+z_2 z_4 \\\\\n",
    "z_4^{\\prime}=3x_1^2 z_2+3 x_2^2 z_1-6 x_2 z_2+3 z_1 z_2\n",
    "\\end{array}\\right.\n",
    "\\end{gathered}\n",
    "$$"
   ]
  },
  {
   "cell_type": "code",
   "execution_count": 6,
   "metadata": {},
   "outputs": [],
   "source": [
    "system_tilde = [\n",
    "    sp.Eq(sp.Derivative(x1, t), -3 * x1 + x2**4 + 2 * x2**2 * z2 + z2**2),\n",
    "    sp.Eq(sp.Derivative(x2, t), x1**2 - 2 * x2),\n",
    "    sp.Eq(sp.Derivative(z1, t), -4 * x1 * x2**2 * z2 + 2 * x1 * x2 * z4 -\n",
    "          2 * x1 * z2**2 + 2 * x2**3 * z3 + 2 * z3 * z4),\n",
    "    sp.Eq(sp.Derivative(z2, t), 2 * x2 * z1),\n",
    "    sp.Eq(sp.Derivative(z3, t), x1 * z1 - x2**3 * z2 + x2**2 * z4 - x2 * z2**2 + z2 * z4),\n",
    "    sp.Eq(sp.Derivative(z4, t), 3 * x1**2 * z2 + 3 * x2**2 * z1 - 6 * x2 * z2 + 3 * z1 * z2),\n",
    "]"
   ]
  },
  {
   "cell_type": "markdown",
   "metadata": {},
   "source": [
    "### Step 3 - Compute the Jacobian matrix of system_tilde\n",
    "\n",
    "---"
   ]
  },
  {
   "cell_type": "code",
   "execution_count": 7,
   "metadata": {},
   "outputs": [
    {
     "data": {
      "image/png": "[encoded data removed]",
      "text/latex": [
       "$\\displaystyle \\left[\\begin{matrix}-3 & 4 x_{2}^{3} & 0 & 2 x_{2}^{2} & 0 & 0\\\\2 x_{1} & -2 & 0 & 0 & 0 & 0\\\\0 & 0 & 0 & - 4 x_{1} x_{2}^{2} & 2 x_{2}^{3} & 2 x_{1} x_{2}\\\\0 & 0 & 2 x_{2} & 0 & 0 & 0\\\\0 & 0 & x_{1} & - x_{2}^{3} & 0 & x_{2}^{2}\\\\0 & 0 & 3 x_{2}^{2} & 3 x_{1}^{2} - 6 x_{2} & 0 & 0\\end{matrix}\\right]$"
      ],
      "text/plain": [
       "⎡          3                2                    ⎤\n",
       "⎢ -3   4⋅x₂     0       2⋅x₂         0       0   ⎥\n",
       "⎢                                                ⎥\n",
       "⎢2⋅x₁   -2      0         0          0       0   ⎥\n",
       "⎢                                                ⎥\n",
       "⎢                             2        3         ⎥\n",
       "⎢ 0      0      0     -4⋅x₁⋅x₂     2⋅x₂   2⋅x₁⋅x₂⎥\n",
       "⎢                                                ⎥\n",
       "⎢ 0      0    2⋅x₂        0          0       0   ⎥\n",
       "⎢                                                ⎥\n",
       "⎢                           3                 2  ⎥\n",
       "⎢ 0      0     x₁        -x₂         0      x₂   ⎥\n",
       "⎢                                                ⎥\n",
       "⎢                 2      2                       ⎥\n",
       "⎣ 0      0    3⋅x₂   3⋅x₁  - 6⋅x₂    0       0   ⎦"
      ]
     },
     "metadata": {},
     "output_type": "display_data"
    }
   ],
   "source": [
    "rhs_system = [eq.rhs for eq in system_tilde]\n",
    "jacobian_matrix = sp.Matrix(rhs_system).jacobian([x1, x2, z1, z2, z3, z4])\n",
    "substitutions = {z1: 0, z2: 0, z3: 0, z4: 0}\n",
    "jacobian_substituted = jacobian_matrix.subs(substitutions)\n",
    "sp.init_printing(use_latex=True)\n",
    "display(jacobian_substituted)"
   ]
  },
  {
   "cell_type": "markdown",
   "metadata": {},
   "source": [
    "### Step 4 - Compute $\\tilde{\\mathbf{q}}_{2, \\lambda}(\\mathbf{x}, \\mathbf{z})$\n",
    "\n",
    "---\n",
    "\n",
    "We take an arbitrary parameter $\\lambda \\in \\mathbb{R}$ and consider $\\mathbf{q}_{2, \\lambda}(\\mathbf{x}, \\mathbf{y})$ as the following:\n",
    "$$\n",
    "\\mathbf{q}_{2, \\lambda}(\\mathbf{x}, \\mathbf{y})=\\mathbf{q}_2(\\mathbf{x}, \\mathbf{y})-\\lambda \\mathbf{h}(\\mathbf{x}, \\mathbf{y})=\\left\\{\\begin{array}{l}\n",
    "2 y_4 y_3-6 x_1^2-\\lambda\\left(y_1-x_1^2\\right) \\\\\n",
    "2 y_1 x_2-4 x_2^2-\\lambda\\left(y_2-x_2^2\\right) \\\\\n",
    "y_4 y_2+y_1 x_1-5 x_1 x_2-\\lambda\\left(y_3-x_1 x_2\\right) \\\\\n",
    "3 y_1 y_2-6 y_2 x_2-\\lambda\\left(y_4-x_2 y_2\\right)\n",
    "\\end{array}\\right.\n",
    "$$"
   ]
  },
  {
   "cell_type": "code",
   "execution_count": 8,
   "metadata": {},
   "outputs": [
    {
     "data": {
      "text/latex": [
       "$\\frac{d}{d x_{1}} x_{1} = - 3 x_{1} + x_{2}^{4} + 2 x_{2}^{2} z_{2} + z_{2}^{2}$"
      ],
      "text/plain": [
       "<IPython.core.display.Latex object>"
      ]
     },
     "metadata": {},
     "output_type": "display_data"
    },
    {
     "data": {
      "text/latex": [
       "$\\frac{d}{d x_{2}} x_{2} = x_{1}^{2} - 2 x_{2}$"
      ],
      "text/plain": [
       "<IPython.core.display.Latex object>"
      ]
     },
     "metadata": {},
     "output_type": "display_data"
    },
    {
     "data": {
      "text/latex": [
       "$\\frac{d}{d y_{1}} y_{1} = - \\lambda z_{1} - 6 x_{1}^{2} + 2 x_{1} x_{2}^{4} + 2 x_{1} x_{2} z_{4} + 2 x_{2}^{3} z_{3} + 2 z_{3} z_{4}$"
      ],
      "text/plain": [
       "<IPython.core.display.Latex object>"
      ]
     },
     "metadata": {},
     "output_type": "display_data"
    },
    {
     "data": {
      "text/latex": [
       "$\\frac{d}{d y_{2}} y_{2} = - \\lambda z_{2} + 2 x_{1}^{2} x_{2} - 4 x_{2}^{2} + 2 x_{2} z_{1}$"
      ],
      "text/plain": [
       "<IPython.core.display.Latex object>"
      ]
     },
     "metadata": {},
     "output_type": "display_data"
    },
    {
     "data": {
      "text/latex": [
       "$\\frac{d}{d y_{3}} y_{3} = - \\lambda z_{3} + x_{1}^{3} - 5 x_{1} x_{2} + x_{1} z_{1} + x_{2}^{5} + x_{2}^{3} z_{2} + x_{2}^{2} z_{4} + z_{2} z_{4}$"
      ],
      "text/plain": [
       "<IPython.core.display.Latex object>"
      ]
     },
     "metadata": {},
     "output_type": "display_data"
    },
    {
     "data": {
      "text/latex": [
       "$\\frac{d}{d y_{4}} y_{4} = \\lambda x_{2} z_{2} - \\lambda z_{4} + 3 x_{1}^{2} x_{2}^{2} + 3 x_{1}^{2} z_{2} - 6 x_{2}^{3} + 3 x_{2}^{2} z_{1} - 6 x_{2} z_{2} + 3 z_{1} z_{2}$"
      ],
      "text/plain": [
       "<IPython.core.display.Latex object>"
      ]
     },
     "metadata": {},
     "output_type": "display_data"
    }
   ],
   "source": [
    "example_system = [\n",
    "    sp.Eq(sp.Derivative(x1), -3 * x1 + y2 ** 2),\n",
    "    sp.Eq(sp.Derivative(x2), -2 * x2 + x1 ** 2),\n",
    "    sp.Eq(sp.Derivative(y1), 2 * y4 * y3 - 6 * x1 ** 2 - lambda_ * (y1 - x1**2)),\n",
    "    sp.Eq(sp.Derivative(y2), 2 * y1 * x2 - 4 * x2 ** 2 - lambda_ * (y2 - x2**2)),\n",
    "    sp.Eq(sp.Derivative(y3), y4 * y2 + y1 * x1 - 5 * x1 * x2 - lambda_ * (y3 - x1 * x2)),\n",
    "    sp.Eq(sp.Derivative(y4), 3 * y1 * y2 - 6 * y2 * x2 - lambda_ * (y4 - x2*y2))\n",
    "]\n",
    "\n",
    "for i in range(len(example_system)):\n",
    "    rhs = example_system[i].rhs\n",
    "    rhs = rhs.subs(substitutions_y)\n",
    "    lhs_latex = sp.latex(example_system[i].lhs)\n",
    "    rhs_latex = sp.latex(rhs.expand())\n",
    "    display(Latex(f'${lhs_latex} = {rhs_latex}$'))"
   ]
  },
  {
   "cell_type": "code",
   "execution_count": 9,
   "metadata": {},
   "outputs": [
    {
     "data": {
      "text/latex": [
       "$\\frac{d}{d t} z_{1} = - \\lambda z_{1} - 4 x_{1} x_{2}^{2} z_{2} + 2 x_{1} x_{2} z_{4} - 2 x_{1} z_{2}^{2} + 2 x_{2}^{3} z_{3} + 2 z_{3} z_{4}$"
      ],
      "text/plain": [
       "<IPython.core.display.Latex object>"
      ]
     },
     "metadata": {},
     "output_type": "display_data"
    },
    {
     "data": {
      "text/latex": [
       "$\\frac{d}{d t} z_{2} = - \\lambda z_{2} + 2 x_{2} z_{1}$"
      ],
      "text/plain": [
       "<IPython.core.display.Latex object>"
      ]
     },
     "metadata": {},
     "output_type": "display_data"
    },
    {
     "data": {
      "text/latex": [
       "$\\frac{d}{d t} z_{3} = - \\lambda z_{3} + x_{1} z_{1} - x_{2}^{3} z_{2} + x_{2}^{2} z_{4} - x_{2} z_{2}^{2} + z_{2} z_{4}$"
      ],
      "text/plain": [
       "<IPython.core.display.Latex object>"
      ]
     },
     "metadata": {},
     "output_type": "display_data"
    },
    {
     "data": {
      "text/latex": [
       "$\\frac{d}{d t} z_{4} = \\lambda x_{2} z_{2} - \\lambda z_{4} + 3 x_{1}^{2} z_{2} + 3 x_{2}^{2} z_{1} - 6 x_{2} z_{2} + 3 z_{1} z_{2}$"
      ],
      "text/plain": [
       "<IPython.core.display.Latex object>"
      ]
     },
     "metadata": {},
     "output_type": "display_data"
    }
   ],
   "source": [
    "dict_subs_tlide = {\n",
    "    x1_d: -3 * x1 + x2 ** 4 + 2 * x2 ** 2 * z2 + z2 ** 2,\n",
    "    x2_d: -2 * x2 + x1 ** 2,\n",
    "    y1: -lambda_ * z1 - 6 * x1**2 + 2 * x1 * x2**4 + 2 * x1 * x2 * z4 + 2 * x2**3 * z3 + 2 * z3 * z4,\n",
    "    y2: -lambda_ * z2 + 2 * x1**2 * x2 - 4 * x2**2 + 2 * x2 * z1,\n",
    "    y3: -lambda_ * z3 + x1**3 - 5 * x1 * x2 + x1 * z1 + x2**5 + x2**3 * z2 + x2**2 * z4 + z2 * z4,\n",
    "    y4: lambda_ * x2 * z2 - lambda_ * z4 + 3 * x1**2 * x2**2 + 3 * x1**2 * z2 - 6 * x2**3 + 3 * x2**2 * z1 - 6 * x2 * z2 + 3 * z1 * z2\n",
    "}\n",
    "\n",
    "differential_q2 = [\n",
    "    sp.Eq(sp.Derivative(z1 ,t), y1 - 2 * x1 * x1_d),\n",
    "    sp.Eq(sp.Derivative(z2 ,t), y2 - 2 * x2 * x2_d),\n",
    "    sp.Eq(sp.Derivative(z3 ,t), y3 - x1 * x2_d - x2 * x1_d),\n",
    "    sp.Eq(sp.Derivative(z4 ,t), y4 - 3 * x2 ** 2 * x2_d)\n",
    "]\n",
    "\n",
    "for i in range(len(differential_q2)):\n",
    "    rhs = differential_q2[i].rhs\n",
    "    rhs = rhs.subs(dict_subs_tlide).expand()\n",
    "    lhs_latex = sp.latex(differential_q2[i].lhs)\n",
    "    rhs_latex = sp.latex(rhs)\n",
    "    display(Latex(f'${lhs_latex} = {rhs_latex}$'))"
   ]
  },
  {
   "cell_type": "markdown",
   "metadata": {},
   "source": [
    "With the same method of coordinates change, we obtain:\n",
    "$$\n",
    "\\tilde{\\mathbf{q}}_{2, \\lambda}=\\left\\{\\begin{array}{l}\n",
    "\\left(-4 x_1 x_2^2 z_2+2 x_1 x_2 z_4-2 x_1 z_2^2+2 x_2^3 z_3+2 z_3 z_4\\right)+-\\lambda z_1 \\\\\n",
    "\\left(2 x_2 z_1\\right)-\\lambda z_2 \\\\\n",
    "\\left(x_1 z_1-x_2^3 z_2+x_2^2 z_4-x_2 z_2^2+z_2 z_4\\right)-\\lambda z_3 \\\\\n",
    "\\left(3x_1^2 z_2+3 x_2^2 z_1-6 x_2 z_2+3 z_1 z_2\\right)-\\lambda\\left(z_4-x_2 z_2\\right)\n",
    "\\end{array}=\\widetilde{\\mathbf{q}}_2-\\lambda \\mathbf{h}(\\mathbf{x}, \\mathbf{z}+\\mathbf{g}(\\mathbf{x}))\\right.\n",
    "$$\n",
    "where we have\n",
    "$$\n",
    "\\mathbf{h}(\\mathbf{x}, \\mathbf{z}+\\mathbf{g}(\\mathbf{x}))=\\left\\{\\begin{array}{l}\n",
    "\\left(z_1+x_1^2\\right)-x_1^2=z_1 \\\\\n",
    "\\left(z_2+x_2^2\\right)-x_2^2=z_2 \\\\\n",
    "\\left(z_3+x_1 x_2\\right)-x_1 x_2=z_3 \\\\\n",
    "\\left(z_4+x_2^3\\right)-x_2\\left(z_2+x_2^2\\right)=z_4-x_2 z_2\n",
    "\\end{array}\\right.\n",
    "$$\n",
    "Taking the Jacobian of $\\mathbf{h}$ against $\\mathbf{z}$, we got\n",
    "$$\n",
    "\\left.\\lambda J_{\\mathbf{z}}(\\mathbf{h})\\right)\\left.\\right|_{\\mathbf{x}=\\mathbf{x}^a, \\mathbf{z}=\\mathbf{0}}=\\lambda\\left[\\begin{array}{cccc}\n",
    "1 & 0 & 0 & 0 \\\\\n",
    "0 & 1 & 0 & 0 \\\\\n",
    "0 & 0 & 1 & 0 \\\\\n",
    "0 & x_2 & 0 & 1\n",
    "\\end{array}\\right]\n",
    "$$\n",
    "which is a lower-triangular matrix with ones on the diagonal."
   ]
  }
 ],
 "metadata": {
  "kernelspec": {
   "display_name": "Python 3",
   "language": "python",
   "name": "python3"
  },
  "language_info": {
   "codemirror_mode": {
    "name": "ipython",
    "version": 3
   },
   "file_extension": ".py",
   "mimetype": "text/x-python",
   "name": "python",
   "nbconvert_exporter": "python",
   "pygments_lexer": "ipython3",
   "version": "3.9.16"
  }
 },
 "nbformat": 4,
 "nbformat_minor": 2
}
