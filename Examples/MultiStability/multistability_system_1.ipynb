{
 "cells": [
  {
   "cell_type": "code",
   "execution_count": 1,
   "metadata": {},
   "outputs": [
    {
     "name": "stderr",
     "output_type": "stream",
     "text": [
      "/Users/yubocai/anaconda3/envs/mlp/lib/python3.9/site-packages/qbee/util.py:6: TqdmExperimentalWarning: Using `tqdm.autonotebook.tqdm` in notebook mode. Use `tqdm.tqdm` instead to force console mode (e.g. in jupyter console)\n",
      "  from tqdm.autonotebook import tqdm\n"
     ]
    }
   ],
   "source": [
    "from DQbee.DQuadratization import *\n",
    "from DQbee.EquationSystem import *\n",
    "from qbee import *\n",
    "import sympy as sp\n",
    "%config InlineBackend.figure_format = 'retina'\n",
    "%matplotlib inline\n",
    "import matplotlib.pyplot as plt\n",
    "import matplotlib.gridspec as gridspec"
   ]
  },
  {
   "cell_type": "markdown",
   "metadata": {},
   "source": [
    "### Multi-stability in the system\n",
    "\n",
    "---\n",
    "\n",
    "Consider the following system of ODEs:\n",
    "$$\n",
    "x' = -x (x - a_1)(x - a_2) \\ldots (x - a_n)\n",
    "$$\n",
    "where $a_{1}, \\ldots, a_{n}$ are positive numbers. This system has $n+1$ equilibria: $x = 0, a_{1}, \\ldots, a_{n}$. Let's take $n = 10$ and $a_{1} = 1, \\ldots, a_{10} = 10$."
   ]
  },
  {
   "cell_type": "code",
   "execution_count": 2,
   "metadata": {},
   "outputs": [],
   "source": [
    "x = sp.Symbol('x')\n",
    "num_list = list(range(1, 8))\n",
    "\n",
    "rhs = - x \n",
    "for i in num_list:\n",
    "    rhs = rhs * (x - i)\n",
    "\n",
    "system = [sp.Eq(x, rhs)]\n",
    "multistable_eq_system = EquationSystem(system)"
   ]
  },
  {
   "cell_type": "code",
   "execution_count": 3,
   "metadata": {},
   "outputs": [
    {
     "data": {
      "text/latex": [
       "$$\\begin{cases}\n",
       "(x)' &= - x \\left(x - 7\\right) \\left(x - 6\\right) \\left(x - 5\\right) \\left(x - 4\\right) \\left(x - 3\\right) \\left(x - 2\\right) \\left(x - 1\\right)\n",
       "\\end{cases}$$"
      ],
      "text/plain": [
       "<IPython.core.display.Latex object>"
      ]
     },
     "metadata": {},
     "output_type": "display_data"
    }
   ],
   "source": [
    "display(multistable_eq_system.show_system_latex())"
   ]
  },
  {
   "cell_type": "code",
   "execution_count": 4,
   "metadata": {},
   "outputs": [
    {
     "name": "stdout",
     "output_type": "stream",
     "text": [
      "The Original System is: \n"
     ]
    },
    {
     "data": {
      "text/latex": [
       "$$\\begin{cases}\n",
       "(x)' &= - x \\left(x - 7\\right) \\left(x - 6\\right) \\left(x - 5\\right) \\left(x - 4\\right) \\left(x - 3\\right) \\left(x - 2\\right) \\left(x - 1\\right)\n",
       "\\end{cases}$$"
      ],
      "text/plain": [
       "<IPython.core.display.Latex object>"
      ]
     },
     "metadata": {},
     "output_type": "display_data"
    },
    {
     "name": "stdout",
     "output_type": "stream",
     "text": [
      "The Optimal Dissipative Quadratization is: \n"
     ]
    },
    {
     "data": {
      "text/latex": [
       "$$\\begin{cases}\n",
       "(x)' &= - x \\left(x - 7\\right) \\left(x - 6\\right) \\left(x - 5\\right) \\left(x - 4\\right) \\left(x - 3\\right) \\left(x - 2\\right) \\left(x - 1\\right)\\\\\n",
       "(x^{6})' &= - 6 x^{13} + 168 x^{12} - 1932 x^{11} + 11760 x^{10} - 40614 x^{9} + 78792 x^{8} - 78408 x^{7} + 30240 x^{6}\\\\\n",
       "(x^{2})' &= - 2 x^{9} + 56 x^{8} - 644 x^{7} + 3920 x^{6} - 13538 x^{5} + 26264 x^{4} - 26136 x^{3} + 10080 x^{2}\\\\\n",
       "(x^{4})' &= - 4 x^{11} + 112 x^{10} - 1288 x^{9} + 7840 x^{8} - 27076 x^{7} + 52528 x^{6} - 52272 x^{5} + 20160 x^{4}\\\\\n",
       "(x^{7})' &= - 7 x^{14} + 196 x^{13} - 2254 x^{12} + 13720 x^{11} - 47383 x^{10} + 91924 x^{9} - 91476 x^{8} + 35280 x^{7}\\\\\n",
       "(x^{3})' &= - 3 x^{10} + 84 x^{9} - 966 x^{8} + 5880 x^{7} - 20307 x^{6} + 39396 x^{5} - 39204 x^{4} + 15120 x^{3}\n",
       "\\end{cases}$$"
      ],
      "text/plain": [
       "<IPython.core.display.Latex object>"
      ]
     },
     "metadata": {},
     "output_type": "display_data"
    },
    {
     "name": "stdout",
     "output_type": "stream",
     "text": [
      "The new introduced variables are: \n"
     ]
    },
    {
     "data": {
      "text/latex": [
       "$$\\begin{cases}\n",
       "w_{1} = x^{6} \\\\ w_{2} = x^{2} \\\\ w_{3} = x^{4} \\\\ w_{4} = x^{7} \\\\ w_{5} = x^{3} \\\\ \n",
       "\\end{cases}$$"
      ],
      "text/plain": [
       "<IPython.core.display.Latex object>"
      ]
     },
     "metadata": {},
     "output_type": "display_data"
    },
    {
     "name": "stdout",
     "output_type": "stream",
     "text": [
      "The Optimal Quadratic Dissipative System is (with substitution): \n"
     ]
    },
    {
     "data": {
      "text/latex": [
       "$$\\begin{cases}\n",
       "(x)' &= 1960 w_{2} w_{5} + 13132 w_{2} x + 28 w_{3} w_{5} - w_{4} x - 322 w_{5}^{2} - 6769 w_{5} x - 13068 x^{2} + 5040 x\\\\\n",
       "(w_{1})' &= 168 w_{1}^{2} - 6 w_{1} w_{4} - 40614 w_{1} w_{5} - 1932 w_{3} w_{4} - 78408 w_{3} w_{5} + 11760 w_{4} w_{5} + 78792 w_{4} x + 30240 w_{5}^{2}\\\\\n",
       "(w_{2})' &= - 2 w_{1} w_{5} - 13538 w_{2} w_{5} - 26136 w_{2} x - 644 w_{3} w_{5} + 56 w_{4} x + 3920 w_{5}^{2} + 26264 w_{5} x + 10080 x^{2}\\\\\n",
       "(w_{3})' &= - 1288 w_{1} w_{5} - 52272 w_{2} w_{5} - 4 w_{3} w_{4} - 27076 w_{3} w_{5} + 112 w_{4} w_{5} + 7840 w_{4} x + 52528 w_{5}^{2} + 20160 w_{5} x\\\\\n",
       "(w_{4})' &= - 2254 w_{1}^{2} + 196 w_{1} w_{4} + 91924 w_{1} w_{5} + 13720 w_{3} w_{4} + 35280 w_{3} w_{5} - 7 w_{4}^{2} - 47383 w_{4} w_{5} - 91476 w_{4} x\\\\\n",
       "(w_{5})' &= 84 w_{1} w_{5} + 39396 w_{2} w_{5} + 15120 w_{2} x + 5880 w_{3} w_{5} - 3 w_{4} w_{5} - 966 w_{4} x - 20307 w_{5}^{2} - 39204 w_{5} x\n",
       "\\end{cases}$$"
      ],
      "text/plain": [
       "<IPython.core.display.Latex object>"
      ]
     },
     "metadata": {},
     "output_type": "display_data"
    }
   ],
   "source": [
    "inner_quadratization = optimal_inner_quadratization(multistable_eq_system)"
   ]
  },
  {
   "cell_type": "code",
   "execution_count": 5,
   "metadata": {},
   "outputs": [
    {
     "name": "stdout",
     "output_type": "stream",
     "text": [
      "{w1: x**6, w2: x**2, w3: x**4, w4: x**7, w5: x**3}\n"
     ]
    }
   ],
   "source": [
    "print(inner_quadratization[3])"
   ]
  },
  {
   "cell_type": "markdown",
   "metadata": {},
   "source": [
    "### check the equilibria is dissipative or not\n",
    "\n",
    "---"
   ]
  },
  {
   "cell_type": "code",
   "execution_count": 6,
   "metadata": {},
   "outputs": [
    {
     "data": {
      "text/latex": [
       "$\\displaystyle - 8 x^{7} + 196 x^{6} - 1932 x^{5} + 9800 x^{4} - 27076 x^{3} + 39396 x^{2} - 26136 x + 5040$"
      ],
      "text/plain": [
       "-8*x**7 + 196*x**6 - 1932*x**5 + 9800*x**4 - 27076*x**3 + 39396*x**2 - 26136*x + 5040"
      ]
     },
     "metadata": {},
     "output_type": "display_data"
    },
    {
     "name": "stdout",
     "output_type": "stream",
     "text": [
      "Dissipative equilibrium points:  [[1], [3], [5], [7]]\n"
     ]
    }
   ],
   "source": [
    "rhs_differential = sp.diff(rhs, x, 1).expand()\n",
    "display(rhs_differential)\n",
    "dissipative_equilibrium_list = []\n",
    "for i in range(1, 8):\n",
    "    if rhs_differential.subs(x, i) < 0:\n",
    "        dissipative_equilibrium_list.append([i])\n",
    "print(\"Dissipative equilibrium points: \", dissipative_equilibrium_list)"
   ]
  },
  {
   "cell_type": "code",
   "execution_count": 7,
   "metadata": {},
   "outputs": [
    {
     "name": "stdout",
     "output_type": "stream",
     "text": [
      "-------------------------- Compute a quadratization dissipative with multi given equilibrium --------------------------\n",
      "The original system is: \n"
     ]
    },
    {
     "data": {
      "text/latex": [
       "$$\\begin{cases}\n",
       "(x)' &= - x \\left(x - 7\\right) \\left(x - 6\\right) \\left(x - 5\\right) \\left(x - 4\\right) \\left(x - 3\\right) \\left(x - 2\\right) \\left(x - 1\\right)\n",
       "\\end{cases}$$"
      ],
      "text/plain": [
       "<IPython.core.display.Latex object>"
      ]
     },
     "metadata": {},
     "output_type": "display_data"
    },
    {
     "name": "stdout",
     "output_type": "stream",
     "text": [
      "-------------------------- The Dissipative quadratized system --------------------------\n"
     ]
    },
    {
     "data": {
      "text/latex": [
       "$$\\begin{cases}\n",
       "(x)' &= 1960 g_{1} g_{2} + 13132 g_{1} x - 322 g_{2}^{2} + 28 g_{2} g_{3} - 6769 g_{2} x - g_{5} x - 13068 x^{2} + 5040 x\\\\\n",
       "(g_{1})' &= - 13538 g_{1} g_{2} - g_{1} \\lambda - 26136 g_{1} x + 3920 g_{2}^{2} - 644 g_{2} g_{3} - 2 g_{2} g_{4} + 26264 g_{2} x + 56 g_{5} x + \\lambda x^{2} + 10080 x^{2}\\\\\n",
       "(g_{2})' &= 39396 g_{1} g_{2} + g_{1} \\lambda x + 15120 g_{1} x - 20307 g_{2}^{2} + 5880 g_{2} g_{3} + 84 g_{2} g_{4} - 3 g_{2} g_{5} - g_{2} \\lambda - 39204 g_{2} x - 966 g_{5} x\\\\\n",
       "(g_{3})' &= g_{1}^{2} \\lambda - 52272 g_{1} g_{2} + 52528 g_{2}^{2} - 27076 g_{2} g_{3} - 1288 g_{2} g_{4} + 112 g_{2} g_{5} + 20160 g_{2} x - 4 g_{3} g_{5} - g_{3} \\lambda + 7840 g_{5} x\\\\\n",
       "(g_{4})' &= g_{1} g_{3} \\lambda + 30240 g_{2}^{2} - 78408 g_{2} g_{3} - 40614 g_{2} g_{4} + 11760 g_{2} g_{5} - 1932 g_{3} g_{5} + 168 g_{4}^{2} - 6 g_{4} g_{5} - g_{4} \\lambda + 78792 g_{5} x\\\\\n",
       "(g_{5})' &= g_{2} g_{3} \\lambda + 35280 g_{2} g_{3} + 91924 g_{2} g_{4} - 47383 g_{2} g_{5} + 13720 g_{3} g_{5} - 2254 g_{4}^{2} + 196 g_{4} g_{5} - 7 g_{5}^{2} - g_{5} \\lambda - 91476 g_{5} x\n",
       "\\end{cases}$$"
      ],
      "text/plain": [
       "<IPython.core.display.Latex object>"
      ]
     },
     "metadata": {},
     "output_type": "display_data"
    },
    {
     "name": "stdout",
     "output_type": "stream",
     "text": [
      "-------------------------- The lambda value --------------------------\n",
      "The lambda value is:  67108864\n",
      "-------------------------- The Dissipative quadratized system with lambda value --------------------------\n"
     ]
    },
    {
     "data": {
      "text/latex": [
       "$$\\begin{cases}\n",
       "(x)' &= 1960 g_{1} g_{2} + 13132 g_{1} x - 322 g_{2}^{2} + 28 g_{2} g_{3} - 6769 g_{2} x - g_{5} x - 13068 x^{2} + 5040 x\\\\\n",
       "(g_{1})' &= - 13538 g_{1} g_{2} - 26136 g_{1} x - 67108864 g_{1} + 3920 g_{2}^{2} - 644 g_{2} g_{3} - 2 g_{2} g_{4} + 26264 g_{2} x + 56 g_{5} x + 67118944 x^{2}\\\\\n",
       "(g_{2})' &= 39396 g_{1} g_{2} + 67123984 g_{1} x - 20307 g_{2}^{2} + 5880 g_{2} g_{3} + 84 g_{2} g_{4} - 3 g_{2} g_{5} - 39204 g_{2} x - 67108864 g_{2} - 966 g_{5} x\\\\\n",
       "(g_{3})' &= 67108864 g_{1}^{2} - 52272 g_{1} g_{2} + 52528 g_{2}^{2} - 27076 g_{2} g_{3} - 1288 g_{2} g_{4} + 112 g_{2} g_{5} + 20160 g_{2} x - 4 g_{3} g_{5} - 67108864 g_{3} + 7840 g_{5} x\\\\\n",
       "(g_{4})' &= 67108864 g_{1} g_{3} + 30240 g_{2}^{2} - 78408 g_{2} g_{3} - 40614 g_{2} g_{4} + 11760 g_{2} g_{5} - 1932 g_{3} g_{5} + 168 g_{4}^{2} - 6 g_{4} g_{5} - 67108864 g_{4} + 78792 g_{5} x\\\\\n",
       "(g_{5})' &= 67144144 g_{2} g_{3} + 91924 g_{2} g_{4} - 47383 g_{2} g_{5} + 13720 g_{3} g_{5} - 2254 g_{4}^{2} + 196 g_{4} g_{5} - 7 g_{5}^{2} - 91476 g_{5} x - 67108864 g_{5}\n",
       "\\end{cases}$$"
      ],
      "text/plain": [
       "<IPython.core.display.Latex object>"
      ]
     },
     "metadata": {},
     "output_type": "display_data"
    },
    {
     "name": "stdout",
     "output_type": "stream",
     "text": [
      "-------------------------- The Jacobian matrix --------------------------\n"
     ]
    },
    {
     "data": {
      "text/latex": [
       "$$J=\\left[\\begin{matrix}13132 g_{1} - 6769 g_{2} - g_{5} - 26136 x + 5040 & 1960 g_{2} + 13132 x & 1960 g_{1} - 644 g_{2} + 28 g_{3} - 6769 x & 28 g_{2} & 0 & - x\\\\- 26136 g_{1} + 26264 g_{2} + 56 g_{5} + 2 \\lambda x + 20160 x & - 13538 g_{2} - \\lambda - 26136 x & - 13538 g_{1} + 7840 g_{2} - 644 g_{3} - 2 g_{4} + 26264 x & - 644 g_{2} & - 2 g_{2} & 56 x\\\\g_{1} \\lambda + 15120 g_{1} - 39204 g_{2} - 966 g_{5} & 39396 g_{2} + \\lambda x + 15120 x & 39396 g_{1} - 40614 g_{2} + 5880 g_{3} + 84 g_{4} - 3 g_{5} - \\lambda - 39204 x & 5880 g_{2} & 84 g_{2} & - 3 g_{2} - 966 x\\\\20160 g_{2} + 7840 g_{5} & 2 g_{1} \\lambda - 52272 g_{2} & - 52272 g_{1} + 105056 g_{2} - 27076 g_{3} - 1288 g_{4} + 112 g_{5} + 20160 x & - 27076 g_{2} - 4 g_{5} - \\lambda & - 1288 g_{2} & 112 g_{2} - 4 g_{3} + 7840 x\\\\78792 g_{5} & g_{3} \\lambda & 60480 g_{2} - 78408 g_{3} - 40614 g_{4} + 11760 g_{5} & g_{1} \\lambda - 78408 g_{2} - 1932 g_{5} & - 40614 g_{2} + 336 g_{4} - 6 g_{5} - \\lambda & 11760 g_{2} - 1932 g_{3} - 6 g_{4} + 78792 x\\\\- 91476 g_{5} & 0 & g_{3} \\lambda + 35280 g_{3} + 91924 g_{4} - 47383 g_{5} & g_{2} \\lambda + 35280 g_{2} + 13720 g_{5} & 91924 g_{2} - 4508 g_{4} + 196 g_{5} & - 47383 g_{2} + 13720 g_{3} + 196 g_{4} - 14 g_{5} - \\lambda - 91476 x\\end{matrix}\\right]$$"
      ],
      "text/plain": [
       "<IPython.core.display.Latex object>"
      ]
     },
     "metadata": {},
     "output_type": "display_data"
    }
   ],
   "source": [
    "dissipative_multi_system = dquadratization_multi_equilibrium(multistable_eq_system, dissipative_equilibrium_list, method='numpy')"
   ]
  },
  {
   "cell_type": "code",
   "execution_count": 8,
   "metadata": {},
   "outputs": [
    {
     "name": "stdout",
     "output_type": "stream",
     "text": [
      "-------------------------- Compute a quadratization dissipative with multi given equilibrium --------------------------\n",
      "The original system is: \n"
     ]
    },
    {
     "data": {
      "text/latex": [
       "$$\\begin{cases}\n",
       "(x)' &= - x \\left(x - 7\\right) \\left(x - 6\\right) \\left(x - 5\\right) \\left(x - 4\\right) \\left(x - 3\\right) \\left(x - 2\\right) \\left(x - 1\\right)\n",
       "\\end{cases}$$"
      ],
      "text/plain": [
       "<IPython.core.display.Latex object>"
      ]
     },
     "metadata": {},
     "output_type": "display_data"
    },
    {
     "name": "stdout",
     "output_type": "stream",
     "text": [
      "-------------------------- The Dissipative quadratized system --------------------------\n"
     ]
    },
    {
     "data": {
      "text/latex": [
       "$$\\begin{cases}\n",
       "(x)' &= 1960 g_{1} g_{2} + 13132 g_{1} x - 322 g_{2}^{2} + 28 g_{2} g_{3} - 6769 g_{2} x - g_{5} x - 13068 x^{2} + 5040 x\\\\\n",
       "(g_{1})' &= - 13538 g_{1} g_{2} - g_{1} \\lambda - 26136 g_{1} x + 3920 g_{2}^{2} - 644 g_{2} g_{3} - 2 g_{2} g_{4} + 26264 g_{2} x + 56 g_{5} x + \\lambda x^{2} + 10080 x^{2}\\\\\n",
       "(g_{2})' &= 39396 g_{1} g_{2} + g_{1} \\lambda x + 15120 g_{1} x - 20307 g_{2}^{2} + 5880 g_{2} g_{3} + 84 g_{2} g_{4} - 3 g_{2} g_{5} - g_{2} \\lambda - 39204 g_{2} x - 966 g_{5} x\\\\\n",
       "(g_{3})' &= g_{1}^{2} \\lambda - 52272 g_{1} g_{2} + 52528 g_{2}^{2} - 27076 g_{2} g_{3} - 1288 g_{2} g_{4} + 112 g_{2} g_{5} + 20160 g_{2} x - 4 g_{3} g_{5} - g_{3} \\lambda + 7840 g_{5} x\\\\\n",
       "(g_{4})' &= g_{1} g_{3} \\lambda + 30240 g_{2}^{2} - 78408 g_{2} g_{3} - 40614 g_{2} g_{4} + 11760 g_{2} g_{5} - 1932 g_{3} g_{5} + 168 g_{4}^{2} - 6 g_{4} g_{5} - g_{4} \\lambda + 78792 g_{5} x\\\\\n",
       "(g_{5})' &= g_{2} g_{3} \\lambda + 35280 g_{2} g_{3} + 91924 g_{2} g_{4} - 47383 g_{2} g_{5} + 13720 g_{3} g_{5} - 2254 g_{4}^{2} + 196 g_{4} g_{5} - 7 g_{5}^{2} - g_{5} \\lambda - 91476 g_{5} x\n",
       "\\end{cases}$$"
      ],
      "text/plain": [
       "<IPython.core.display.Latex object>"
      ]
     },
     "metadata": {},
     "output_type": "display_data"
    },
    {
     "name": "stdout",
     "output_type": "stream",
     "text": [
      "-------------------------- The lambda value --------------------------\n",
      "The lambda value is:  134217728\n",
      "-------------------------- The Dissipative quadratized system with lambda value --------------------------\n"
     ]
    },
    {
     "data": {
      "text/latex": [
       "$$\\begin{cases}\n",
       "(x)' &= 1960 g_{1} g_{2} + 13132 g_{1} x - 322 g_{2}^{2} + 28 g_{2} g_{3} - 6769 g_{2} x - g_{5} x - 13068 x^{2} + 5040 x\\\\\n",
       "(g_{1})' &= - 13538 g_{1} g_{2} - 26136 g_{1} x - 134217728 g_{1} + 3920 g_{2}^{2} - 644 g_{2} g_{3} - 2 g_{2} g_{4} + 26264 g_{2} x + 56 g_{5} x + 134227808 x^{2}\\\\\n",
       "(g_{2})' &= 39396 g_{1} g_{2} + 134232848 g_{1} x - 20307 g_{2}^{2} + 5880 g_{2} g_{3} + 84 g_{2} g_{4} - 3 g_{2} g_{5} - 39204 g_{2} x - 134217728 g_{2} - 966 g_{5} x\\\\\n",
       "(g_{3})' &= 134217728 g_{1}^{2} - 52272 g_{1} g_{2} + 52528 g_{2}^{2} - 27076 g_{2} g_{3} - 1288 g_{2} g_{4} + 112 g_{2} g_{5} + 20160 g_{2} x - 4 g_{3} g_{5} - 134217728 g_{3} + 7840 g_{5} x\\\\\n",
       "(g_{4})' &= 134217728 g_{1} g_{3} + 30240 g_{2}^{2} - 78408 g_{2} g_{3} - 40614 g_{2} g_{4} + 11760 g_{2} g_{5} - 1932 g_{3} g_{5} + 168 g_{4}^{2} - 6 g_{4} g_{5} - 134217728 g_{4} + 78792 g_{5} x\\\\\n",
       "(g_{5})' &= 134253008 g_{2} g_{3} + 91924 g_{2} g_{4} - 47383 g_{2} g_{5} + 13720 g_{3} g_{5} - 2254 g_{4}^{2} + 196 g_{4} g_{5} - 7 g_{5}^{2} - 91476 g_{5} x - 134217728 g_{5}\n",
       "\\end{cases}$$"
      ],
      "text/plain": [
       "<IPython.core.display.Latex object>"
      ]
     },
     "metadata": {},
     "output_type": "display_data"
    },
    {
     "name": "stdout",
     "output_type": "stream",
     "text": [
      "-------------------------- The Jacobian matrix --------------------------\n"
     ]
    },
    {
     "data": {
      "text/latex": [
       "$$J=\\left[\\begin{matrix}13132 g_{1} - 6769 g_{2} - g_{5} - 26136 x + 5040 & 1960 g_{2} + 13132 x & 1960 g_{1} - 644 g_{2} + 28 g_{3} - 6769 x & 28 g_{2} & 0 & - x\\\\- 26136 g_{1} + 26264 g_{2} + 56 g_{5} + 2 \\lambda x + 20160 x & - 13538 g_{2} - \\lambda - 26136 x & - 13538 g_{1} + 7840 g_{2} - 644 g_{3} - 2 g_{4} + 26264 x & - 644 g_{2} & - 2 g_{2} & 56 x\\\\g_{1} \\lambda + 15120 g_{1} - 39204 g_{2} - 966 g_{5} & 39396 g_{2} + \\lambda x + 15120 x & 39396 g_{1} - 40614 g_{2} + 5880 g_{3} + 84 g_{4} - 3 g_{5} - \\lambda - 39204 x & 5880 g_{2} & 84 g_{2} & - 3 g_{2} - 966 x\\\\20160 g_{2} + 7840 g_{5} & 2 g_{1} \\lambda - 52272 g_{2} & - 52272 g_{1} + 105056 g_{2} - 27076 g_{3} - 1288 g_{4} + 112 g_{5} + 20160 x & - 27076 g_{2} - 4 g_{5} - \\lambda & - 1288 g_{2} & 112 g_{2} - 4 g_{3} + 7840 x\\\\78792 g_{5} & g_{3} \\lambda & 60480 g_{2} - 78408 g_{3} - 40614 g_{4} + 11760 g_{5} & g_{1} \\lambda - 78408 g_{2} - 1932 g_{5} & - 40614 g_{2} + 336 g_{4} - 6 g_{5} - \\lambda & 11760 g_{2} - 1932 g_{3} - 6 g_{4} + 78792 x\\\\- 91476 g_{5} & 0 & g_{3} \\lambda + 35280 g_{3} + 91924 g_{4} - 47383 g_{5} & g_{2} \\lambda + 35280 g_{2} + 13720 g_{5} & 91924 g_{2} - 4508 g_{4} + 196 g_{5} & - 47383 g_{2} + 13720 g_{3} + 196 g_{4} - 14 g_{5} - \\lambda - 91476 x\\end{matrix}\\right]$$"
      ],
      "text/plain": [
       "<IPython.core.display.Latex object>"
      ]
     },
     "metadata": {},
     "output_type": "display_data"
    }
   ],
   "source": [
    "dissipative_multi_system = dquadratization_multi_equilibrium(multistable_eq_system, dissipative_equilibrium_list, method='Routh-Hurwitz')"
   ]
  },
  {
   "cell_type": "code",
   "execution_count": 9,
   "metadata": {},
   "outputs": [
    {
     "name": "stdout",
     "output_type": "stream",
     "text": [
      "-------------------------- Compute a quadratization dissipative with multi given equilibrium --------------------------\n",
      "The original system is: \n"
     ]
    },
    {
     "data": {
      "text/latex": [
       "$$\\begin{cases}\n",
       "(x)' &= - x \\left(x - 7\\right) \\left(x - 6\\right) \\left(x - 5\\right) \\left(x - 4\\right) \\left(x - 3\\right) \\left(x - 2\\right) \\left(x - 1\\right)\n",
       "\\end{cases}$$"
      ],
      "text/plain": [
       "<IPython.core.display.Latex object>"
      ]
     },
     "metadata": {},
     "output_type": "display_data"
    },
    {
     "name": "stdout",
     "output_type": "stream",
     "text": [
      "-------------------------- The Dissipative quadratized system --------------------------\n"
     ]
    },
    {
     "data": {
      "text/latex": [
       "$$\\begin{cases}\n",
       "(x)' &= 1960 g_{1} g_{2} + 13132 g_{1} x - 322 g_{2}^{2} + 28 g_{2} g_{3} - 6769 g_{2} x - g_{5} x - 13068 x^{2} + 5040 x\\\\\n",
       "(g_{1})' &= - 13538 g_{1} g_{2} - g_{1} \\lambda - 26136 g_{1} x + 3920 g_{2}^{2} - 644 g_{2} g_{3} - 2 g_{2} g_{4} + 26264 g_{2} x + 56 g_{5} x + \\lambda x^{2} + 10080 x^{2}\\\\\n",
       "(g_{2})' &= 39396 g_{1} g_{2} + g_{1} \\lambda x + 15120 g_{1} x - 20307 g_{2}^{2} + 5880 g_{2} g_{3} + 84 g_{2} g_{4} - 3 g_{2} g_{5} - g_{2} \\lambda - 39204 g_{2} x - 966 g_{5} x\\\\\n",
       "(g_{3})' &= g_{1}^{2} \\lambda - 52272 g_{1} g_{2} + 52528 g_{2}^{2} - 27076 g_{2} g_{3} - 1288 g_{2} g_{4} + 112 g_{2} g_{5} + 20160 g_{2} x - 4 g_{3} g_{5} - g_{3} \\lambda + 7840 g_{5} x\\\\\n",
       "(g_{4})' &= g_{1} g_{3} \\lambda + 30240 g_{2}^{2} - 78408 g_{2} g_{3} - 40614 g_{2} g_{4} + 11760 g_{2} g_{5} - 1932 g_{3} g_{5} + 168 g_{4}^{2} - 6 g_{4} g_{5} - g_{4} \\lambda + 78792 g_{5} x\\\\\n",
       "(g_{5})' &= g_{2} g_{3} \\lambda + 35280 g_{2} g_{3} + 91924 g_{2} g_{4} - 47383 g_{2} g_{5} + 13720 g_{3} g_{5} - 2254 g_{4}^{2} + 196 g_{4} g_{5} - 7 g_{5}^{2} - g_{5} \\lambda - 91476 g_{5} x\n",
       "\\end{cases}$$"
      ],
      "text/plain": [
       "<IPython.core.display.Latex object>"
      ]
     },
     "metadata": {},
     "output_type": "display_data"
    },
    {
     "name": "stdout",
     "output_type": "stream",
     "text": [
      "-------------------------- The lambda value --------------------------\n",
      "The lambda value is:  67108864\n",
      "-------------------------- The Dissipative quadratized system with lambda value --------------------------\n"
     ]
    },
    {
     "data": {
      "text/latex": [
       "$$\\begin{cases}\n",
       "(x)' &= 1960 g_{1} g_{2} + 13132 g_{1} x - 322 g_{2}^{2} + 28 g_{2} g_{3} - 6769 g_{2} x - g_{5} x - 13068 x^{2} + 5040 x\\\\\n",
       "(g_{1})' &= - 13538 g_{1} g_{2} - 26136 g_{1} x - 67108864 g_{1} + 3920 g_{2}^{2} - 644 g_{2} g_{3} - 2 g_{2} g_{4} + 26264 g_{2} x + 56 g_{5} x + 67118944 x^{2}\\\\\n",
       "(g_{2})' &= 39396 g_{1} g_{2} + 67123984 g_{1} x - 20307 g_{2}^{2} + 5880 g_{2} g_{3} + 84 g_{2} g_{4} - 3 g_{2} g_{5} - 39204 g_{2} x - 67108864 g_{2} - 966 g_{5} x\\\\\n",
       "(g_{3})' &= 67108864 g_{1}^{2} - 52272 g_{1} g_{2} + 52528 g_{2}^{2} - 27076 g_{2} g_{3} - 1288 g_{2} g_{4} + 112 g_{2} g_{5} + 20160 g_{2} x - 4 g_{3} g_{5} - 67108864 g_{3} + 7840 g_{5} x\\\\\n",
       "(g_{4})' &= 67108864 g_{1} g_{3} + 30240 g_{2}^{2} - 78408 g_{2} g_{3} - 40614 g_{2} g_{4} + 11760 g_{2} g_{5} - 1932 g_{3} g_{5} + 168 g_{4}^{2} - 6 g_{4} g_{5} - 67108864 g_{4} + 78792 g_{5} x\\\\\n",
       "(g_{5})' &= 67144144 g_{2} g_{3} + 91924 g_{2} g_{4} - 47383 g_{2} g_{5} + 13720 g_{3} g_{5} - 2254 g_{4}^{2} + 196 g_{4} g_{5} - 7 g_{5}^{2} - 91476 g_{5} x - 67108864 g_{5}\n",
       "\\end{cases}$$"
      ],
      "text/plain": [
       "<IPython.core.display.Latex object>"
      ]
     },
     "metadata": {},
     "output_type": "display_data"
    },
    {
     "name": "stdout",
     "output_type": "stream",
     "text": [
      "-------------------------- The Jacobian matrix --------------------------\n"
     ]
    },
    {
     "data": {
      "text/latex": [
       "$$J=\\left[\\begin{matrix}13132 g_{1} - 6769 g_{2} - g_{5} - 26136 x + 5040 & 1960 g_{2} + 13132 x & 1960 g_{1} - 644 g_{2} + 28 g_{3} - 6769 x & 28 g_{2} & 0 & - x\\\\- 26136 g_{1} + 26264 g_{2} + 56 g_{5} + 2 \\lambda x + 20160 x & - 13538 g_{2} - \\lambda - 26136 x & - 13538 g_{1} + 7840 g_{2} - 644 g_{3} - 2 g_{4} + 26264 x & - 644 g_{2} & - 2 g_{2} & 56 x\\\\g_{1} \\lambda + 15120 g_{1} - 39204 g_{2} - 966 g_{5} & 39396 g_{2} + \\lambda x + 15120 x & 39396 g_{1} - 40614 g_{2} + 5880 g_{3} + 84 g_{4} - 3 g_{5} - \\lambda - 39204 x & 5880 g_{2} & 84 g_{2} & - 3 g_{2} - 966 x\\\\20160 g_{2} + 7840 g_{5} & 2 g_{1} \\lambda - 52272 g_{2} & - 52272 g_{1} + 105056 g_{2} - 27076 g_{3} - 1288 g_{4} + 112 g_{5} + 20160 x & - 27076 g_{2} - 4 g_{5} - \\lambda & - 1288 g_{2} & 112 g_{2} - 4 g_{3} + 7840 x\\\\78792 g_{5} & g_{3} \\lambda & 60480 g_{2} - 78408 g_{3} - 40614 g_{4} + 11760 g_{5} & g_{1} \\lambda - 78408 g_{2} - 1932 g_{5} & - 40614 g_{2} + 336 g_{4} - 6 g_{5} - \\lambda & 11760 g_{2} - 1932 g_{3} - 6 g_{4} + 78792 x\\\\- 91476 g_{5} & 0 & g_{3} \\lambda + 35280 g_{3} + 91924 g_{4} - 47383 g_{5} & g_{2} \\lambda + 35280 g_{2} + 13720 g_{5} & 91924 g_{2} - 4508 g_{4} + 196 g_{5} & - 47383 g_{2} + 13720 g_{3} + 196 g_{4} - 14 g_{5} - \\lambda - 91476 x\\end{matrix}\\right]$$"
      ],
      "text/plain": [
       "<IPython.core.display.Latex object>"
      ]
     },
     "metadata": {},
     "output_type": "display_data"
    }
   ],
   "source": [
    "dissipative_multi_system = dquadratization_multi_equilibrium(multistable_eq_system, dissipative_equilibrium_list, method='sympy-naive')"
   ]
  }
 ],
 "metadata": {
  "kernelspec": {
   "display_name": "Python 3",
   "language": "python",
   "name": "python3"
  },
  "language_info": {
   "codemirror_mode": {
    "name": "ipython",
    "version": 3
   },
   "file_extension": ".py",
   "mimetype": "text/x-python",
   "name": "python",
   "nbconvert_exporter": "python",
   "pygments_lexer": "ipython3",
   "version": "3.9.16"
  },
  "orig_nbformat": 4
 },
 "nbformat": 4,
 "nbformat_minor": 2
}
