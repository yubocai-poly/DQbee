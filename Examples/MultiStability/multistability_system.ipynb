{
 "cells": [
  {
   "cell_type": "code",
   "execution_count": 6,
   "metadata": {},
   "outputs": [],
   "source": [
    "import sys\n",
    "sys.path.append(\"../../\")\n",
    "from Package.DQuadratization import *\n",
    "from Package.EquationSystem import *\n",
    "from Package.Combinations import *\n",
    "from qbee import *\n",
    "import sympy as sp\n",
    "from Package.Simulation.numerical import *\n",
    "%config InlineBackend.figure_format = 'retina'\n",
    "%matplotlib inline\n",
    "import matplotlib.pyplot as plt\n",
    "import matplotlib.gridspec as gridspec"
   ]
  },
  {
   "cell_type": "markdown",
   "metadata": {},
   "source": [
    "### Multi-stability in the system\n",
    "\n",
    "---\n",
    "\n",
    "Consider the following system of ODEs:\n",
    "$$\n",
    "X’ = -x (x - a_1)(x - a_2) \\ldots (x - a_n)\n",
    "$$\n",
    "where $a_{1}, \\ldots, a_{n}$ are positive numbers. This system has $n+1$ equilibria: $x = 0, a_{1}, \\ldots, a_{n}$. Let's take $n = 10$ and $a_{1} = 1, \\ldots, a_{10} = 10$."
   ]
  },
  {
   "cell_type": "code",
   "execution_count": 7,
   "metadata": {},
   "outputs": [],
   "source": [
    "x = sp.Symbol('x')\n",
    "num_list = list(range(1, 8))\n",
    "\n",
    "rhs = - x \n",
    "for i in num_list:\n",
    "    rhs = rhs * (x - i)\n",
    "\n",
    "system = [sp.Eq(x, rhs)]\n",
    "multistable_eq_system = EquationSystem(system)"
   ]
  },
  {
   "cell_type": "code",
   "execution_count": 8,
   "metadata": {},
   "outputs": [
    {
     "data": {
      "text/latex": [
       "$$\\begin{cases}\n",
       "(x)' &= - x \\left(x - 7\\right) \\left(x - 6\\right) \\left(x - 5\\right) \\left(x - 4\\right) \\left(x - 3\\right) \\left(x - 2\\right) \\left(x - 1\\right)\n",
       "\\end{cases}$$"
      ],
      "text/plain": [
       "<IPython.core.display.Latex object>"
      ]
     },
     "metadata": {},
     "output_type": "display_data"
    }
   ],
   "source": [
    "display(multistable_eq_system.show_system_latex())"
   ]
  },
  {
   "cell_type": "code",
   "execution_count": 9,
   "metadata": {},
   "outputs": [
    {
     "name": "stdout",
     "output_type": "stream",
     "text": [
      "The Original System is: \n"
     ]
    },
    {
     "data": {
      "text/latex": [
       "$$\\begin{cases}\n",
       "(x)' &= - x \\left(x - 7\\right) \\left(x - 6\\right) \\left(x - 5\\right) \\left(x - 4\\right) \\left(x - 3\\right) \\left(x - 2\\right) \\left(x - 1\\right)\n",
       "\\end{cases}$$"
      ],
      "text/plain": [
       "<IPython.core.display.Latex object>"
      ]
     },
     "metadata": {},
     "output_type": "display_data"
    },
    {
     "name": "stdout",
     "output_type": "stream",
     "text": [
      "The Optimal Dissipative Quadratization is: \n"
     ]
    },
    {
     "data": {
      "text/latex": [
       "$$\\begin{cases}\n",
       "(x)' &= - x \\left(x - 7\\right) \\left(x - 6\\right) \\left(x - 5\\right) \\left(x - 4\\right) \\left(x - 3\\right) \\left(x - 2\\right) \\left(x - 1\\right)\\\\\n",
       "(x^{4})' &= - 4 x^{11} + 112 x^{10} - 1288 x^{9} + 7840 x^{8} - 27076 x^{7} + 52528 x^{6} - 52272 x^{5} + 20160 x^{4}\\\\\n",
       "(x^{3})' &= - 3 x^{10} + 84 x^{9} - 966 x^{8} + 5880 x^{7} - 20307 x^{6} + 39396 x^{5} - 39204 x^{4} + 15120 x^{3}\\\\\n",
       "(x^{6})' &= - 6 x^{13} + 168 x^{12} - 1932 x^{11} + 11760 x^{10} - 40614 x^{9} + 78792 x^{8} - 78408 x^{7} + 30240 x^{6}\\\\\n",
       "(x^{2})' &= - 2 x^{9} + 56 x^{8} - 644 x^{7} + 3920 x^{6} - 13538 x^{5} + 26264 x^{4} - 26136 x^{3} + 10080 x^{2}\\\\\n",
       "(x^{7})' &= - 7 x^{14} + 196 x^{13} - 2254 x^{12} + 13720 x^{11} - 47383 x^{10} + 91924 x^{9} - 91476 x^{8} + 35280 x^{7}\n",
       "\\end{cases}$$"
      ],
      "text/plain": [
       "<IPython.core.display.Latex object>"
      ]
     },
     "metadata": {},
     "output_type": "display_data"
    },
    {
     "name": "stdout",
     "output_type": "stream",
     "text": [
      "The new introduced variables are: \n"
     ]
    },
    {
     "data": {
      "text/latex": [
       "$$\\begin{cases}\n",
       "w_{1} = x^{4} \\\\ w_{2} = x^{3} \\\\ w_{3} = x^{6} \\\\ w_{4} = x^{2} \\\\ w_{5} = x^{7} \\\\ \n",
       "\\end{cases}$$"
      ],
      "text/plain": [
       "<IPython.core.display.Latex object>"
      ]
     },
     "metadata": {},
     "output_type": "display_data"
    },
    {
     "name": "stdout",
     "output_type": "stream",
     "text": [
      "The Optimal Quadratic Dissipative System is (with substitution): \n"
     ]
    },
    {
     "data": {
      "text/latex": [
       "$$\\begin{cases}\n",
       "(x)' &= - 322 w_{1} w_{4} + 1960 w_{2} w_{4} + 28 w_{3} x - 6769 w_{4}^{2} + 13132 w_{4} x - w_{5} x - 13068 x^{2} + 5040 x\\\\\n",
       "(w_{1})' &= 52528 w_{1} w_{4} - 4 w_{1} w_{5} - 52272 w_{2} w_{4} + 112 w_{2} w_{5} - 27076 w_{3} x + 20160 w_{4}^{2} - 1288 w_{4} w_{5} + 7840 w_{5} x\\\\\n",
       "(w_{2})' &= - 20307 w_{1} w_{4} + 39396 w_{2} w_{4} - 3 w_{2} w_{5} + 5880 w_{3} x - 39204 w_{4}^{2} + 84 w_{4} w_{5} + 15120 w_{4} x - 966 w_{5} x\\\\\n",
       "(w_{3})' &= 30240 w_{1} w_{4} - 1932 w_{1} w_{5} + 11760 w_{2} w_{5} + 168 w_{3}^{2} - 6 w_{3} w_{5} - 78408 w_{3} x - 40614 w_{4} w_{5} + 78792 w_{5} x\\\\\n",
       "(w_{4})' &= 3920 w_{1} w_{4} - 13538 w_{2} w_{4} - 644 w_{3} x + 26264 w_{4}^{2} - 2 w_{4} w_{5} - 26136 w_{4} x + 56 w_{5} x + 10080 x^{2}\\\\\n",
       "(w_{5})' &= 13720 w_{1} w_{5} - 47383 w_{2} w_{5} - 2254 w_{3}^{2} + 196 w_{3} w_{5} + 35280 w_{3} x + 91924 w_{4} w_{5} - 7 w_{5}^{2} - 91476 w_{5} x\n",
       "\\end{cases}$$"
      ],
      "text/plain": [
       "<IPython.core.display.Latex object>"
      ]
     },
     "metadata": {},
     "output_type": "display_data"
    }
   ],
   "source": [
    "inner_quadratization = optimal_inner_quadratization(multistable_eq_system)"
   ]
  },
  {
   "cell_type": "code",
   "execution_count": 10,
   "metadata": {},
   "outputs": [
    {
     "name": "stdout",
     "output_type": "stream",
     "text": [
      "{w1: x**4, w2: x**3, w3: x**6, w4: x**2, w5: x**7}\n"
     ]
    }
   ],
   "source": [
    "print(inner_quadratization[3])"
   ]
  },
  {
   "cell_type": "markdown",
   "metadata": {},
   "source": [
    "### check the equilibria is dissipative or not\n",
    "\n",
    "---"
   ]
  },
  {
   "cell_type": "code",
   "execution_count": 11,
   "metadata": {},
   "outputs": [
    {
     "data": {
      "text/latex": [
       "$\\displaystyle - 8 x^{7} + 196 x^{6} - 1932 x^{5} + 9800 x^{4} - 27076 x^{3} + 39396 x^{2} - 26136 x + 5040$"
      ],
      "text/plain": [
       "-8*x**7 + 196*x**6 - 1932*x**5 + 9800*x**4 - 27076*x**3 + 39396*x**2 - 26136*x + 5040"
      ]
     },
     "metadata": {},
     "output_type": "display_data"
    },
    {
     "name": "stdout",
     "output_type": "stream",
     "text": [
      "Dissipative equilibrium points:  [[1], [3], [5], [7]]\n"
     ]
    }
   ],
   "source": [
    "rhs_differential = sp.diff(rhs, x, 1).expand()\n",
    "display(rhs_differential)\n",
    "dissipative_equilibrium_list = []\n",
    "for i in range(1, 8):\n",
    "    if rhs_differential.subs(x, i) < 0:\n",
    "        dissipative_equilibrium_list.append([i])\n",
    "print(\"Dissipative equilibrium points: \", dissipative_equilibrium_list)"
   ]
  },
  {
   "cell_type": "code",
   "execution_count": 12,
   "metadata": {},
   "outputs": [
    {
     "name": "stdout",
     "output_type": "stream",
     "text": [
      "-------------------------- Compute a quadratization dissipative with multi given equilibrium --------------------------\n",
      "The original system is: \n"
     ]
    },
    {
     "data": {
      "text/latex": [
       "$$\\begin{cases}\n",
       "(x)' &= - x \\left(x - 7\\right) \\left(x - 6\\right) \\left(x - 5\\right) \\left(x - 4\\right) \\left(x - 3\\right) \\left(x - 2\\right) \\left(x - 1\\right)\n",
       "\\end{cases}$$"
      ],
      "text/plain": [
       "<IPython.core.display.Latex object>"
      ]
     },
     "metadata": {},
     "output_type": "display_data"
    },
    {
     "name": "stdout",
     "output_type": "stream",
     "text": [
      "-------------------------- The Dissipative quadratized system --------------------------\n"
     ]
    },
    {
     "data": {
      "text/latex": [
       "$$\\begin{cases}\n",
       "(x)' &= - 6769 g_{1}^{2} + 1960 g_{1} g_{2} - 322 g_{1} g_{3} + 13132 g_{1} x + 28 g_{4} x - g_{5} x - 13068 x^{2} + 5040 x\\\\\n",
       "(g_{1})' &= 26264 g_{1}^{2} - 13538 g_{1} g_{2} + 3920 g_{1} g_{3} - 2 g_{1} g_{5} - g_{1} \\lambda - 26136 g_{1} x - 644 g_{4} x + 56 g_{5} x + \\lambda x^{2} + 10080 x^{2}\\\\\n",
       "(g_{2})' &= - 39204 g_{1}^{2} + 39396 g_{1} g_{2} - 20307 g_{1} g_{3} + 84 g_{1} g_{5} + g_{1} \\lambda x + 15120 g_{1} x - 3 g_{2} g_{5} - g_{2} \\lambda + 5880 g_{4} x - 966 g_{5} x\\\\\n",
       "(g_{3})' &= g_{1}^{2} \\lambda + 20160 g_{1}^{2} - 52272 g_{1} g_{2} + 52528 g_{1} g_{3} - 1288 g_{1} g_{5} + 112 g_{2} g_{5} - 4 g_{3} g_{5} - g_{3} \\lambda - 27076 g_{4} x + 7840 g_{5} x\\\\\n",
       "(g_{4})' &= g_{1} g_{3} \\lambda + 30240 g_{1} g_{3} - 40614 g_{1} g_{5} + 11760 g_{2} g_{5} - 1932 g_{3} g_{5} + 168 g_{4}^{2} - 6 g_{4} g_{5} - g_{4} \\lambda - 78408 g_{4} x + 78792 g_{5} x\\\\\n",
       "(g_{5})' &= 91924 g_{1} g_{5} + g_{2} g_{3} \\lambda - 47383 g_{2} g_{5} + 13720 g_{3} g_{5} - 2254 g_{4}^{2} + 196 g_{4} g_{5} + 35280 g_{4} x - 7 g_{5}^{2} - g_{5} \\lambda - 91476 g_{5} x\n",
       "\\end{cases}$$"
      ],
      "text/plain": [
       "<IPython.core.display.Latex object>"
      ]
     },
     "metadata": {},
     "output_type": "display_data"
    },
    {
     "name": "stdout",
     "output_type": "stream",
     "text": [
      "-------------------------- The lambda value --------------------------\n",
      "The lambda value is:  67108864\n",
      "-------------------------- The Dissipative quadratized system with lambda value --------------------------\n"
     ]
    },
    {
     "data": {
      "text/latex": [
       "$$\\begin{cases}\n",
       "(x)' &= - 6769 g_{1}^{2} + 1960 g_{1} g_{2} - 322 g_{1} g_{3} + 13132 g_{1} x + 28 g_{4} x - g_{5} x - 13068 x^{2} + 5040 x\\\\\n",
       "(g_{1})' &= 26264 g_{1}^{2} - 13538 g_{1} g_{2} + 3920 g_{1} g_{3} - 2 g_{1} g_{5} - 26136 g_{1} x - 67108864 g_{1} - 644 g_{4} x + 56 g_{5} x + 67118944 x^{2}\\\\\n",
       "(g_{2})' &= - 39204 g_{1}^{2} + 39396 g_{1} g_{2} - 20307 g_{1} g_{3} + 84 g_{1} g_{5} + 67123984 g_{1} x - 3 g_{2} g_{5} - 67108864 g_{2} + 5880 g_{4} x - 966 g_{5} x\\\\\n",
       "(g_{3})' &= 67129024 g_{1}^{2} - 52272 g_{1} g_{2} + 52528 g_{1} g_{3} - 1288 g_{1} g_{5} + 112 g_{2} g_{5} - 4 g_{3} g_{5} - 67108864 g_{3} - 27076 g_{4} x + 7840 g_{5} x\\\\\n",
       "(g_{4})' &= 67139104 g_{1} g_{3} - 40614 g_{1} g_{5} + 11760 g_{2} g_{5} - 1932 g_{3} g_{5} + 168 g_{4}^{2} - 6 g_{4} g_{5} - 78408 g_{4} x - 67108864 g_{4} + 78792 g_{5} x\\\\\n",
       "(g_{5})' &= 91924 g_{1} g_{5} + 67108864 g_{2} g_{3} - 47383 g_{2} g_{5} + 13720 g_{3} g_{5} - 2254 g_{4}^{2} + 196 g_{4} g_{5} + 35280 g_{4} x - 7 g_{5}^{2} - 91476 g_{5} x - 67108864 g_{5}\n",
       "\\end{cases}$$"
      ],
      "text/plain": [
       "<IPython.core.display.Latex object>"
      ]
     },
     "metadata": {},
     "output_type": "display_data"
    },
    {
     "name": "stdout",
     "output_type": "stream",
     "text": [
      "-------------------------- The Jacobian matrix --------------------------\n"
     ]
    },
    {
     "data": {
      "text/latex": [
       "$$J=\\left[\\begin{matrix}13132 g_{1} + 28 g_{4} - g_{5} - 26136 x + 5040 & - 13538 g_{1} + 1960 g_{2} - 322 g_{3} + 13132 x & 1960 g_{1} & - 322 g_{1} & 28 x & - x\\\\- 26136 g_{1} - 644 g_{4} + 56 g_{5} + 2 \\lambda x + 20160 x & 52528 g_{1} - 13538 g_{2} + 3920 g_{3} - 2 g_{5} - \\lambda - 26136 x & - 13538 g_{1} & 3920 g_{1} & - 644 x & - 2 g_{1} + 56 x\\\\g_{1} \\lambda + 15120 g_{1} + 5880 g_{4} - 966 g_{5} & - 78408 g_{1} + 39396 g_{2} - 20307 g_{3} + 84 g_{5} + \\lambda x + 15120 x & 39396 g_{1} - 3 g_{5} - \\lambda & - 20307 g_{1} & 5880 x & 84 g_{1} - 3 g_{2} - 966 x\\\\- 27076 g_{4} + 7840 g_{5} & 2 g_{1} \\lambda + 40320 g_{1} - 52272 g_{2} + 52528 g_{3} - 1288 g_{5} & - 52272 g_{1} + 112 g_{5} & 52528 g_{1} - 4 g_{5} - \\lambda & - 27076 x & - 1288 g_{1} + 112 g_{2} - 4 g_{3} + 7840 x\\\\- 78408 g_{4} + 78792 g_{5} & g_{3} \\lambda + 30240 g_{3} - 40614 g_{5} & 11760 g_{5} & g_{1} \\lambda + 30240 g_{1} - 1932 g_{5} & 336 g_{4} - 6 g_{5} - \\lambda - 78408 x & - 40614 g_{1} + 11760 g_{2} - 1932 g_{3} - 6 g_{4} + 78792 x\\\\35280 g_{4} - 91476 g_{5} & 91924 g_{5} & g_{3} \\lambda - 47383 g_{5} & g_{2} \\lambda + 13720 g_{5} & - 4508 g_{4} + 196 g_{5} + 35280 x & 91924 g_{1} - 47383 g_{2} + 13720 g_{3} + 196 g_{4} - 14 g_{5} - \\lambda - 91476 x\\end{matrix}\\right]$$"
      ],
      "text/plain": [
       "<IPython.core.display.Latex object>"
      ]
     },
     "metadata": {},
     "output_type": "display_data"
    }
   ],
   "source": [
    "dissipative_multi_system = dquadratization_multi_equilibrium(multistable_eq_system, dissipative_equilibrium_list, method='numpy')"
   ]
  },
  {
   "cell_type": "code",
   "execution_count": 13,
   "metadata": {},
   "outputs": [
    {
     "name": "stdout",
     "output_type": "stream",
     "text": [
      "-------------------------- Compute a quadratization dissipative with multi given equilibrium --------------------------\n",
      "The original system is: \n"
     ]
    },
    {
     "data": {
      "text/latex": [
       "$$\\begin{cases}\n",
       "(x)' &= - x \\left(x - 7\\right) \\left(x - 6\\right) \\left(x - 5\\right) \\left(x - 4\\right) \\left(x - 3\\right) \\left(x - 2\\right) \\left(x - 1\\right)\n",
       "\\end{cases}$$"
      ],
      "text/plain": [
       "<IPython.core.display.Latex object>"
      ]
     },
     "metadata": {},
     "output_type": "display_data"
    },
    {
     "name": "stdout",
     "output_type": "stream",
     "text": [
      "-------------------------- The Dissipative quadratized system --------------------------\n"
     ]
    },
    {
     "data": {
      "text/latex": [
       "$$\\begin{cases}\n",
       "(x)' &= - 6769 g_{1}^{2} + 1960 g_{1} g_{2} - 322 g_{1} g_{3} + 13132 g_{1} x + 28 g_{4} x - g_{5} x - 13068 x^{2} + 5040 x\\\\\n",
       "(g_{1})' &= 26264 g_{1}^{2} - 13538 g_{1} g_{2} + 3920 g_{1} g_{3} - 2 g_{1} g_{5} - g_{1} \\lambda - 26136 g_{1} x - 644 g_{4} x + 56 g_{5} x + \\lambda x^{2} + 10080 x^{2}\\\\\n",
       "(g_{2})' &= - 39204 g_{1}^{2} + 39396 g_{1} g_{2} - 20307 g_{1} g_{3} + 84 g_{1} g_{5} + g_{1} \\lambda x + 15120 g_{1} x - 3 g_{2} g_{5} - g_{2} \\lambda + 5880 g_{4} x - 966 g_{5} x\\\\\n",
       "(g_{3})' &= g_{1}^{2} \\lambda + 20160 g_{1}^{2} - 52272 g_{1} g_{2} + 52528 g_{1} g_{3} - 1288 g_{1} g_{5} + 112 g_{2} g_{5} - 4 g_{3} g_{5} - g_{3} \\lambda - 27076 g_{4} x + 7840 g_{5} x\\\\\n",
       "(g_{4})' &= g_{1} g_{3} \\lambda + 30240 g_{1} g_{3} - 40614 g_{1} g_{5} + 11760 g_{2} g_{5} - 1932 g_{3} g_{5} + 168 g_{4}^{2} - 6 g_{4} g_{5} - g_{4} \\lambda - 78408 g_{4} x + 78792 g_{5} x\\\\\n",
       "(g_{5})' &= 91924 g_{1} g_{5} + g_{2} g_{3} \\lambda - 47383 g_{2} g_{5} + 13720 g_{3} g_{5} - 2254 g_{4}^{2} + 196 g_{4} g_{5} + 35280 g_{4} x - 7 g_{5}^{2} - g_{5} \\lambda - 91476 g_{5} x\n",
       "\\end{cases}$$"
      ],
      "text/plain": [
       "<IPython.core.display.Latex object>"
      ]
     },
     "metadata": {},
     "output_type": "display_data"
    },
    {
     "name": "stdout",
     "output_type": "stream",
     "text": [
      "-------------------------- The lambda value --------------------------\n",
      "The lambda value is:  134217728\n",
      "-------------------------- The Dissipative quadratized system with lambda value --------------------------\n"
     ]
    },
    {
     "data": {
      "text/latex": [
       "$$\\begin{cases}\n",
       "(x)' &= - 6769 g_{1}^{2} + 1960 g_{1} g_{2} - 322 g_{1} g_{3} + 13132 g_{1} x + 28 g_{4} x - g_{5} x - 13068 x^{2} + 5040 x\\\\\n",
       "(g_{1})' &= 26264 g_{1}^{2} - 13538 g_{1} g_{2} + 3920 g_{1} g_{3} - 2 g_{1} g_{5} - 26136 g_{1} x - 134217728 g_{1} - 644 g_{4} x + 56 g_{5} x + 134227808 x^{2}\\\\\n",
       "(g_{2})' &= - 39204 g_{1}^{2} + 39396 g_{1} g_{2} - 20307 g_{1} g_{3} + 84 g_{1} g_{5} + 134232848 g_{1} x - 3 g_{2} g_{5} - 134217728 g_{2} + 5880 g_{4} x - 966 g_{5} x\\\\\n",
       "(g_{3})' &= 134237888 g_{1}^{2} - 52272 g_{1} g_{2} + 52528 g_{1} g_{3} - 1288 g_{1} g_{5} + 112 g_{2} g_{5} - 4 g_{3} g_{5} - 134217728 g_{3} - 27076 g_{4} x + 7840 g_{5} x\\\\\n",
       "(g_{4})' &= 134247968 g_{1} g_{3} - 40614 g_{1} g_{5} + 11760 g_{2} g_{5} - 1932 g_{3} g_{5} + 168 g_{4}^{2} - 6 g_{4} g_{5} - 78408 g_{4} x - 134217728 g_{4} + 78792 g_{5} x\\\\\n",
       "(g_{5})' &= 91924 g_{1} g_{5} + 134217728 g_{2} g_{3} - 47383 g_{2} g_{5} + 13720 g_{3} g_{5} - 2254 g_{4}^{2} + 196 g_{4} g_{5} + 35280 g_{4} x - 7 g_{5}^{2} - 91476 g_{5} x - 134217728 g_{5}\n",
       "\\end{cases}$$"
      ],
      "text/plain": [
       "<IPython.core.display.Latex object>"
      ]
     },
     "metadata": {},
     "output_type": "display_data"
    },
    {
     "name": "stdout",
     "output_type": "stream",
     "text": [
      "-------------------------- The Jacobian matrix --------------------------\n"
     ]
    },
    {
     "data": {
      "text/latex": [
       "$$J=\\left[\\begin{matrix}13132 g_{1} + 28 g_{4} - g_{5} - 26136 x + 5040 & - 13538 g_{1} + 1960 g_{2} - 322 g_{3} + 13132 x & 1960 g_{1} & - 322 g_{1} & 28 x & - x\\\\- 26136 g_{1} - 644 g_{4} + 56 g_{5} + 2 \\lambda x + 20160 x & 52528 g_{1} - 13538 g_{2} + 3920 g_{3} - 2 g_{5} - \\lambda - 26136 x & - 13538 g_{1} & 3920 g_{1} & - 644 x & - 2 g_{1} + 56 x\\\\g_{1} \\lambda + 15120 g_{1} + 5880 g_{4} - 966 g_{5} & - 78408 g_{1} + 39396 g_{2} - 20307 g_{3} + 84 g_{5} + \\lambda x + 15120 x & 39396 g_{1} - 3 g_{5} - \\lambda & - 20307 g_{1} & 5880 x & 84 g_{1} - 3 g_{2} - 966 x\\\\- 27076 g_{4} + 7840 g_{5} & 2 g_{1} \\lambda + 40320 g_{1} - 52272 g_{2} + 52528 g_{3} - 1288 g_{5} & - 52272 g_{1} + 112 g_{5} & 52528 g_{1} - 4 g_{5} - \\lambda & - 27076 x & - 1288 g_{1} + 112 g_{2} - 4 g_{3} + 7840 x\\\\- 78408 g_{4} + 78792 g_{5} & g_{3} \\lambda + 30240 g_{3} - 40614 g_{5} & 11760 g_{5} & g_{1} \\lambda + 30240 g_{1} - 1932 g_{5} & 336 g_{4} - 6 g_{5} - \\lambda - 78408 x & - 40614 g_{1} + 11760 g_{2} - 1932 g_{3} - 6 g_{4} + 78792 x\\\\35280 g_{4} - 91476 g_{5} & 91924 g_{5} & g_{3} \\lambda - 47383 g_{5} & g_{2} \\lambda + 13720 g_{5} & - 4508 g_{4} + 196 g_{5} + 35280 x & 91924 g_{1} - 47383 g_{2} + 13720 g_{3} + 196 g_{4} - 14 g_{5} - \\lambda - 91476 x\\end{matrix}\\right]$$"
      ],
      "text/plain": [
       "<IPython.core.display.Latex object>"
      ]
     },
     "metadata": {},
     "output_type": "display_data"
    }
   ],
   "source": [
    "dissipative_multi_system = dquadratization_multi_equilibrium(multistable_eq_system, dissipative_equilibrium_list, method='Routh-Hurwitz')"
   ]
  },
  {
   "cell_type": "code",
   "execution_count": 14,
   "metadata": {},
   "outputs": [
    {
     "name": "stdout",
     "output_type": "stream",
     "text": [
      "-------------------------- Compute a quadratization dissipative with multi given equilibrium --------------------------\n",
      "The original system is: \n"
     ]
    },
    {
     "data": {
      "text/latex": [
       "$$\\begin{cases}\n",
       "(x)' &= - x \\left(x - 7\\right) \\left(x - 6\\right) \\left(x - 5\\right) \\left(x - 4\\right) \\left(x - 3\\right) \\left(x - 2\\right) \\left(x - 1\\right)\n",
       "\\end{cases}$$"
      ],
      "text/plain": [
       "<IPython.core.display.Latex object>"
      ]
     },
     "metadata": {},
     "output_type": "display_data"
    },
    {
     "name": "stdout",
     "output_type": "stream",
     "text": [
      "-------------------------- The Dissipative quadratized system --------------------------\n"
     ]
    },
    {
     "data": {
      "text/latex": [
       "$$\\begin{cases}\n",
       "(x)' &= - 6769 g_{1}^{2} + 1960 g_{1} g_{2} - 322 g_{1} g_{3} + 13132 g_{1} x + 28 g_{4} x - g_{5} x - 13068 x^{2} + 5040 x\\\\\n",
       "(g_{1})' &= 26264 g_{1}^{2} - 13538 g_{1} g_{2} + 3920 g_{1} g_{3} - 2 g_{1} g_{5} - g_{1} \\lambda - 26136 g_{1} x - 644 g_{4} x + 56 g_{5} x + \\lambda x^{2} + 10080 x^{2}\\\\\n",
       "(g_{2})' &= - 39204 g_{1}^{2} + 39396 g_{1} g_{2} - 20307 g_{1} g_{3} + 84 g_{1} g_{5} + g_{1} \\lambda x + 15120 g_{1} x - 3 g_{2} g_{5} - g_{2} \\lambda + 5880 g_{4} x - 966 g_{5} x\\\\\n",
       "(g_{3})' &= g_{1}^{2} \\lambda + 20160 g_{1}^{2} - 52272 g_{1} g_{2} + 52528 g_{1} g_{3} - 1288 g_{1} g_{5} + 112 g_{2} g_{5} - 4 g_{3} g_{5} - g_{3} \\lambda - 27076 g_{4} x + 7840 g_{5} x\\\\\n",
       "(g_{4})' &= g_{1} g_{3} \\lambda + 30240 g_{1} g_{3} - 40614 g_{1} g_{5} + 11760 g_{2} g_{5} - 1932 g_{3} g_{5} + 168 g_{4}^{2} - 6 g_{4} g_{5} - g_{4} \\lambda - 78408 g_{4} x + 78792 g_{5} x\\\\\n",
       "(g_{5})' &= 91924 g_{1} g_{5} + g_{2} g_{3} \\lambda - 47383 g_{2} g_{5} + 13720 g_{3} g_{5} - 2254 g_{4}^{2} + 196 g_{4} g_{5} + 35280 g_{4} x - 7 g_{5}^{2} - g_{5} \\lambda - 91476 g_{5} x\n",
       "\\end{cases}$$"
      ],
      "text/plain": [
       "<IPython.core.display.Latex object>"
      ]
     },
     "metadata": {},
     "output_type": "display_data"
    },
    {
     "name": "stdout",
     "output_type": "stream",
     "text": [
      "-------------------------- The lambda value --------------------------\n",
      "The lambda value is:  67108864\n",
      "-------------------------- The Dissipative quadratized system with lambda value --------------------------\n"
     ]
    },
    {
     "data": {
      "text/latex": [
       "$$\\begin{cases}\n",
       "(x)' &= - 6769 g_{1}^{2} + 1960 g_{1} g_{2} - 322 g_{1} g_{3} + 13132 g_{1} x + 28 g_{4} x - g_{5} x - 13068 x^{2} + 5040 x\\\\\n",
       "(g_{1})' &= 26264 g_{1}^{2} - 13538 g_{1} g_{2} + 3920 g_{1} g_{3} - 2 g_{1} g_{5} - 26136 g_{1} x - 67108864 g_{1} - 644 g_{4} x + 56 g_{5} x + 67118944 x^{2}\\\\\n",
       "(g_{2})' &= - 39204 g_{1}^{2} + 39396 g_{1} g_{2} - 20307 g_{1} g_{3} + 84 g_{1} g_{5} + 67123984 g_{1} x - 3 g_{2} g_{5} - 67108864 g_{2} + 5880 g_{4} x - 966 g_{5} x\\\\\n",
       "(g_{3})' &= 67129024 g_{1}^{2} - 52272 g_{1} g_{2} + 52528 g_{1} g_{3} - 1288 g_{1} g_{5} + 112 g_{2} g_{5} - 4 g_{3} g_{5} - 67108864 g_{3} - 27076 g_{4} x + 7840 g_{5} x\\\\\n",
       "(g_{4})' &= 67139104 g_{1} g_{3} - 40614 g_{1} g_{5} + 11760 g_{2} g_{5} - 1932 g_{3} g_{5} + 168 g_{4}^{2} - 6 g_{4} g_{5} - 78408 g_{4} x - 67108864 g_{4} + 78792 g_{5} x\\\\\n",
       "(g_{5})' &= 91924 g_{1} g_{5} + 67108864 g_{2} g_{3} - 47383 g_{2} g_{5} + 13720 g_{3} g_{5} - 2254 g_{4}^{2} + 196 g_{4} g_{5} + 35280 g_{4} x - 7 g_{5}^{2} - 91476 g_{5} x - 67108864 g_{5}\n",
       "\\end{cases}$$"
      ],
      "text/plain": [
       "<IPython.core.display.Latex object>"
      ]
     },
     "metadata": {},
     "output_type": "display_data"
    },
    {
     "name": "stdout",
     "output_type": "stream",
     "text": [
      "-------------------------- The Jacobian matrix --------------------------\n"
     ]
    },
    {
     "data": {
      "text/latex": [
       "$$J=\\left[\\begin{matrix}13132 g_{1} + 28 g_{4} - g_{5} - 26136 x + 5040 & - 13538 g_{1} + 1960 g_{2} - 322 g_{3} + 13132 x & 1960 g_{1} & - 322 g_{1} & 28 x & - x\\\\- 26136 g_{1} - 644 g_{4} + 56 g_{5} + 2 \\lambda x + 20160 x & 52528 g_{1} - 13538 g_{2} + 3920 g_{3} - 2 g_{5} - \\lambda - 26136 x & - 13538 g_{1} & 3920 g_{1} & - 644 x & - 2 g_{1} + 56 x\\\\g_{1} \\lambda + 15120 g_{1} + 5880 g_{4} - 966 g_{5} & - 78408 g_{1} + 39396 g_{2} - 20307 g_{3} + 84 g_{5} + \\lambda x + 15120 x & 39396 g_{1} - 3 g_{5} - \\lambda & - 20307 g_{1} & 5880 x & 84 g_{1} - 3 g_{2} - 966 x\\\\- 27076 g_{4} + 7840 g_{5} & 2 g_{1} \\lambda + 40320 g_{1} - 52272 g_{2} + 52528 g_{3} - 1288 g_{5} & - 52272 g_{1} + 112 g_{5} & 52528 g_{1} - 4 g_{5} - \\lambda & - 27076 x & - 1288 g_{1} + 112 g_{2} - 4 g_{3} + 7840 x\\\\- 78408 g_{4} + 78792 g_{5} & g_{3} \\lambda + 30240 g_{3} - 40614 g_{5} & 11760 g_{5} & g_{1} \\lambda + 30240 g_{1} - 1932 g_{5} & 336 g_{4} - 6 g_{5} - \\lambda - 78408 x & - 40614 g_{1} + 11760 g_{2} - 1932 g_{3} - 6 g_{4} + 78792 x\\\\35280 g_{4} - 91476 g_{5} & 91924 g_{5} & g_{3} \\lambda - 47383 g_{5} & g_{2} \\lambda + 13720 g_{5} & - 4508 g_{4} + 196 g_{5} + 35280 x & 91924 g_{1} - 47383 g_{2} + 13720 g_{3} + 196 g_{4} - 14 g_{5} - \\lambda - 91476 x\\end{matrix}\\right]$$"
      ],
      "text/plain": [
       "<IPython.core.display.Latex object>"
      ]
     },
     "metadata": {},
     "output_type": "display_data"
    }
   ],
   "source": [
    "dissipative_multi_system = dquadratization_multi_equilibrium(multistable_eq_system, dissipative_equilibrium_list, method='sympy-naive')"
   ]
  },
  {
   "cell_type": "markdown",
   "metadata": {},
   "source": [
    "### Smaller degree testing example\n",
    "\n",
    "---\n",
    "Consider the following system of ODEs:\n",
    "$$\n",
    "x' = -x(x - a)(x + a)\n",
    "$$"
   ]
  },
  {
   "cell_type": "code",
   "execution_count": 21,
   "metadata": {},
   "outputs": [],
   "source": [
    "x = sp.Symbol('x')\n",
    "\n",
    "system_eq_a4 = EquationSystem([sp.Eq(x, -x * (x - 4) * (x - 8))])\n",
    "system_eq_a10 = EquationSystem([sp.Eq(x, -x * (x - 10) * (x - 20))])\n",
    "system_eq_a20 = EquationSystem([sp.Eq(x, -x * (x - 20) * (x - 40))])\n",
    "system_eq_a10000 = EquationSystem([sp.Eq(x, -x * (x - 10000) * (x - 20000))])"
   ]
  },
  {
   "cell_type": "code",
   "execution_count": 26,
   "metadata": {},
   "outputs": [
    {
     "data": {
      "text/plain": [
       "128"
      ]
     },
     "execution_count": 26,
     "metadata": {},
     "output_type": "execute_result"
    }
   ],
   "source": [
    "dissipative_system_eq_a4 = dquadratization_multi_equilibrium(system_eq_a4, [[0],[8]], method='Routh-Hurwitz', display=False)\n",
    "dissipative_system_eq_a4[0]"
   ]
  },
  {
   "cell_type": "code",
   "execution_count": 17,
   "metadata": {},
   "outputs": [
    {
     "name": "stdout",
     "output_type": "stream",
     "text": [
      "The Original System is: \n"
     ]
    },
    {
     "data": {
      "text/latex": [
       "$$\\begin{cases}\n",
       "(x)' &= - x \\left(x - 10000\\right) \\left(x + 10000\\right)\n",
       "\\end{cases}$$"
      ],
      "text/plain": [
       "<IPython.core.display.Latex object>"
      ]
     },
     "metadata": {},
     "output_type": "display_data"
    },
    {
     "name": "stdout",
     "output_type": "stream",
     "text": [
      "The Optimal Dissipative Quadratization is: \n"
     ]
    },
    {
     "data": {
      "text/latex": [
       "$$\\begin{cases}\n",
       "(x)' &= - x \\left(x - 10000\\right) \\left(x + 10000\\right)\\\\\n",
       "(x^{2})' &= - 2 x^{4} + 200000000 x^{2}\n",
       "\\end{cases}$$"
      ],
      "text/plain": [
       "<IPython.core.display.Latex object>"
      ]
     },
     "metadata": {},
     "output_type": "display_data"
    },
    {
     "name": "stdout",
     "output_type": "stream",
     "text": [
      "The new introduced variables are: \n"
     ]
    },
    {
     "data": {
      "text/latex": [
       "$$\\begin{cases}\n",
       "w_{1} = x^{2} \\\\ \n",
       "\\end{cases}$$"
      ],
      "text/plain": [
       "<IPython.core.display.Latex object>"
      ]
     },
     "metadata": {},
     "output_type": "display_data"
    },
    {
     "name": "stdout",
     "output_type": "stream",
     "text": [
      "The Optimal Quadratic Dissipative System is (with substitution): \n"
     ]
    },
    {
     "data": {
      "text/latex": [
       "$$\\begin{cases}\n",
       "(x)' &= - w_{1} x + 100000000 x\\\\\n",
       "(w_{1})' &= - 2 w_{1}^{2} + 200000000 x^{2}\n",
       "\\end{cases}$$"
      ],
      "text/plain": [
       "<IPython.core.display.Latex object>"
      ]
     },
     "metadata": {},
     "output_type": "display_data"
    }
   ],
   "source": [
    "inner_system_eq_a10000 = optimal_inner_quadratization(system_eq_a10000)"
   ]
  },
  {
   "cell_type": "code",
   "execution_count": 18,
   "metadata": {},
   "outputs": [
    {
     "data": {
      "text/plain": [
       "1"
      ]
     },
     "execution_count": 18,
     "metadata": {},
     "output_type": "execute_result"
    }
   ],
   "source": [
    "dissipative_system_eq_a10000 = dquadratization_multi_equilibrium(system_eq_a10000, [[10000],[-10000]], method='numpy', display=False)\n",
    "dissipative_system_eq_a10000[0]"
   ]
  },
  {
   "cell_type": "code",
   "execution_count": 19,
   "metadata": {},
   "outputs": [
    {
     "data": {
      "text/plain": [
       "1"
      ]
     },
     "execution_count": 19,
     "metadata": {},
     "output_type": "execute_result"
    }
   ],
   "source": [
    "dissipative_system_eq_a10000 = dquadratization_multi_equilibrium(system_eq_a10000, [[10000],[-10000]], method='sympy-naive', display=False)\n",
    "dissipative_system_eq_a10000[0]"
   ]
  },
  {
   "cell_type": "code",
   "execution_count": 20,
   "metadata": {},
   "outputs": [
    {
     "data": {
      "text/plain": [
       "1"
      ]
     },
     "execution_count": 20,
     "metadata": {},
     "output_type": "execute_result"
    }
   ],
   "source": [
    "dissipative_system_eq_a10000 = dquadratization_multi_equilibrium(system_eq_a10000, [[10000],[-10000]], method='Routh-Hurwitz', display=False)\n",
    "dissipative_system_eq_a10000[0]"
   ]
  }
 ],
 "metadata": {
  "kernelspec": {
   "display_name": "Python 3",
   "language": "python",
   "name": "python3"
  },
  "language_info": {
   "codemirror_mode": {
    "name": "ipython",
    "version": 3
   },
   "file_extension": ".py",
   "mimetype": "text/x-python",
   "name": "python",
   "nbconvert_exporter": "python",
   "pygments_lexer": "ipython3",
   "version": "3.9.16"
  },
  "orig_nbformat": 4
 },
 "nbformat": 4,
 "nbformat_minor": 2
}
