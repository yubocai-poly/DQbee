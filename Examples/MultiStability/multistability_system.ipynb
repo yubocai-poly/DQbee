{
 "cells": [
  {
   "cell_type": "code",
   "execution_count": 1,
   "metadata": {},
   "outputs": [
    {
     "name": "stderr",
     "output_type": "stream",
     "text": [
      "/Users/yubocai/anaconda3/envs/mlp/lib/python3.9/site-packages/qbee/util.py:6: TqdmExperimentalWarning: Using `tqdm.autonotebook.tqdm` in notebook mode. Use `tqdm.tqdm` instead to force console mode (e.g. in jupyter console)\n",
      "  from tqdm.autonotebook import tqdm\n"
     ]
    }
   ],
   "source": [
    "import sys\n",
    "sys.path.append(\"../../\")\n",
    "from Package.DQuadratization import *\n",
    "from Package.EquationSystem import *\n",
    "from Package.Combinations import *\n",
    "from qbee import *\n",
    "import sympy as sp\n",
    "from Package.Simulation.numerical import *\n",
    "%config InlineBackend.figure_format = 'retina'\n",
    "%matplotlib inline\n",
    "import matplotlib.pyplot as plt\n",
    "import matplotlib.gridspec as gridspec"
   ]
  },
  {
   "cell_type": "markdown",
   "metadata": {},
   "source": [
    "### Multi-stability in the system\n",
    "\n",
    "---\n",
    "\n",
    "Consider the following system of ODEs:\n",
    "$$\n",
    "X’ = -x (x - a_1)(x - a_2) \\ldots (x - a_n)\n",
    "$$\n",
    "where $a_{1}, \\ldots, a_{n}$ are positive numbers. This system has $n+1$ equilibria: $x = 0, a_{1}, \\ldots, a_{n}$. Let's take $n = 10$ and $a_{1} = 1, \\ldots, a_{10} = 10$."
   ]
  },
  {
   "cell_type": "code",
   "execution_count": 2,
   "metadata": {},
   "outputs": [],
   "source": [
    "x = sp.Symbol('x')\n",
    "num_list = list(range(1, 9))\n",
    "\n",
    "rhs = - x \n",
    "for i in num_list:\n",
    "    rhs = rhs * (x - i)\n",
    "\n",
    "system = [sp.Eq(x, rhs)]\n",
    "multistable_eq_system = EquationSystem(system)"
   ]
  },
  {
   "cell_type": "code",
   "execution_count": 3,
   "metadata": {},
   "outputs": [
    {
     "data": {
      "text/latex": [
       "$$\\begin{cases}\n",
       "(x)' &= - x \\left(x - 8\\right) \\left(x - 7\\right) \\left(x - 6\\right) \\left(x - 5\\right) \\left(x - 4\\right) \\left(x - 3\\right) \\left(x - 2\\right) \\left(x - 1\\right)\n",
       "\\end{cases}$$"
      ],
      "text/plain": [
       "<IPython.core.display.Latex object>"
      ]
     },
     "metadata": {},
     "output_type": "display_data"
    }
   ],
   "source": [
    "display(multistable_eq_system.show_system_latex())"
   ]
  },
  {
   "cell_type": "code",
   "execution_count": 4,
   "metadata": {},
   "outputs": [
    {
     "name": "stdout",
     "output_type": "stream",
     "text": [
      "The Original System is: \n"
     ]
    },
    {
     "data": {
      "text/latex": [
       "$$\\begin{cases}\n",
       "(x)' &= - x \\left(x - 8\\right) \\left(x - 7\\right) \\left(x - 6\\right) \\left(x - 5\\right) \\left(x - 4\\right) \\left(x - 3\\right) \\left(x - 2\\right) \\left(x - 1\\right)\n",
       "\\end{cases}$$"
      ],
      "text/plain": [
       "<IPython.core.display.Latex object>"
      ]
     },
     "metadata": {},
     "output_type": "display_data"
    },
    {
     "name": "stdout",
     "output_type": "stream",
     "text": [
      "The Optimal Dissipative Quadratization is: \n"
     ]
    },
    {
     "data": {
      "text/latex": [
       "$$\\begin{cases}\n",
       "(x)' &= - x \\left(x - 8\\right) \\left(x - 7\\right) \\left(x - 6\\right) \\left(x - 5\\right) \\left(x - 4\\right) \\left(x - 3\\right) \\left(x - 2\\right) \\left(x - 1\\right)\\\\\n",
       "(x^{4})' &= - 4 x^{12} + 144 x^{11} - 2184 x^{10} + 18144 x^{9} - 89796 x^{8} + 269136 x^{7} - 472496 x^{6} + 438336 x^{5} - 161280 x^{4}\\\\\n",
       "(x^{7})' &= - 7 x^{15} + 252 x^{14} - 3822 x^{13} + 31752 x^{12} - 157143 x^{11} + 470988 x^{10} - 826868 x^{9} + 767088 x^{8} - 282240 x^{7}\\\\\n",
       "(x^{3})' &= - 3 x^{11} + 108 x^{10} - 1638 x^{9} + 13608 x^{8} - 67347 x^{7} + 201852 x^{6} - 354372 x^{5} + 328752 x^{4} - 120960 x^{3}\\\\\n",
       "(x^{2})' &= - 2 x^{10} + 72 x^{9} - 1092 x^{8} + 9072 x^{7} - 44898 x^{6} + 134568 x^{5} - 236248 x^{4} + 219168 x^{3} - 80640 x^{2}\\\\\n",
       "(x^{5})' &= - 5 x^{13} + 180 x^{12} - 2730 x^{11} + 22680 x^{10} - 112245 x^{9} + 336420 x^{8} - 590620 x^{7} + 547920 x^{6} - 201600 x^{5}\\\\\n",
       "(x^{8})' &= - 8 x^{16} + 288 x^{15} - 4368 x^{14} + 36288 x^{13} - 179592 x^{12} + 538272 x^{11} - 944992 x^{10} + 876672 x^{9} - 322560 x^{8}\n",
       "\\end{cases}$$"
      ],
      "text/plain": [
       "<IPython.core.display.Latex object>"
      ]
     },
     "metadata": {},
     "output_type": "display_data"
    },
    {
     "name": "stdout",
     "output_type": "stream",
     "text": [
      "The new introduced variables are: \n"
     ]
    },
    {
     "data": {
      "text/latex": [
       "$$\\begin{cases}\n",
       "w_{1} = x^{4} \\\\ w_{2} = x^{7} \\\\ w_{3} = x^{3} \\\\ w_{4} = x^{2} \\\\ w_{5} = x^{5} \\\\ w_{6} = x^{8} \\\\ \n",
       "\\end{cases}$$"
      ],
      "text/plain": [
       "<IPython.core.display.Latex object>"
      ]
     },
     "metadata": {},
     "output_type": "display_data"
    },
    {
     "name": "stdout",
     "output_type": "stream",
     "text": [
      "The Optimal Quadratic Dissipative System is (with substitution): \n"
     ]
    },
    {
     "data": {
      "text/latex": [
       "$$\\begin{cases}\n",
       "(x)' &= - 22449 w_{3} w_{4} + 36 w_{3} w_{5} + 67284 w_{4}^{2} - 546 w_{4} w_{5} - 118124 w_{4} x + 4536 w_{5} x - w_{6} x + 109584 x^{2} - 40320 x\\\\\n",
       "(w_{1})' &= - 4 w_{1} w_{6} + 438336 w_{3} w_{4} - 89796 w_{3} w_{5} + 144 w_{3} w_{6} - 161280 w_{4}^{2} + 269136 w_{4} w_{5} - 2184 w_{4} w_{6} - 472496 w_{5} x + 18144 w_{6} x\\\\\n",
       "(w_{2})' &= 31752 w_{1} w_{6} + 252 w_{2}^{2} - 7 w_{2} w_{6} + 767088 w_{3} w_{5} - 157143 w_{3} w_{6} - 282240 w_{4} w_{5} + 470988 w_{4} w_{6} - 3822 w_{5} w_{6} - 826868 w_{6} x\\\\\n",
       "(w_{3})' &= - 354372 w_{3} w_{4} + 13608 w_{3} w_{5} - 3 w_{3} w_{6} + 328752 w_{4}^{2} - 67347 w_{4} w_{5} + 108 w_{4} w_{6} - 120960 w_{4} x + 201852 w_{5} x - 1638 w_{6} x\\\\\n",
       "(w_{4})' &= 134568 w_{3} w_{4} - 1092 w_{3} w_{5} - 236248 w_{4}^{2} + 9072 w_{4} w_{5} - 2 w_{4} w_{6} + 219168 w_{4} x - 44898 w_{5} x + 72 w_{6} x - 80640 x^{2}\\\\\n",
       "(w_{5})' &= 180 w_{1} w_{6} - 201600 w_{3} w_{4} + 336420 w_{3} w_{5} - 2730 w_{3} w_{6} - 590620 w_{4} w_{5} + 22680 w_{4} w_{6} - 5 w_{5} w_{6} + 547920 w_{5} x - 112245 w_{6} x\\\\\n",
       "(w_{6})' &= - 179592 w_{1} w_{6} - 4368 w_{2}^{2} + 288 w_{2} w_{6} - 322560 w_{3} w_{5} + 538272 w_{3} w_{6} - 944992 w_{4} w_{6} + 36288 w_{5} w_{6} - 8 w_{6}^{2} + 876672 w_{6} x\n",
       "\\end{cases}$$"
      ],
      "text/plain": [
       "<IPython.core.display.Latex object>"
      ]
     },
     "metadata": {},
     "output_type": "display_data"
    }
   ],
   "source": [
    "inner_quadratization = optimal_inner_quadratization(multistable_eq_system)"
   ]
  },
  {
   "cell_type": "code",
   "execution_count": 5,
   "metadata": {},
   "outputs": [
    {
     "name": "stdout",
     "output_type": "stream",
     "text": [
      "{w1: x**4, w2: x**7, w3: x**3, w4: x**2, w5: x**5, w6: x**8}\n"
     ]
    }
   ],
   "source": [
    "print(inner_quadratization[3])"
   ]
  },
  {
   "cell_type": "markdown",
   "metadata": {},
   "source": [
    "### check the equilibria is dissipative or not\n",
    "\n",
    "---"
   ]
  },
  {
   "cell_type": "code",
   "execution_count": 6,
   "metadata": {},
   "outputs": [
    {
     "data": {
      "text/latex": [
       "$\\displaystyle - 9 x^{8} + 288 x^{7} - 3822 x^{6} + 27216 x^{5} - 112245 x^{4} + 269136 x^{3} - 354372 x^{2} + 219168 x - 40320$"
      ],
      "text/plain": [
       "-9*x**8 + 288*x**7 - 3822*x**6 + 27216*x**5 - 112245*x**4 + 269136*x**3 - 354372*x**2 + 219168*x - 40320"
      ]
     },
     "metadata": {},
     "output_type": "display_data"
    },
    {
     "name": "stdout",
     "output_type": "stream",
     "text": [
      "Dissipative equilibrium points:  [[2], [4], [6], [8]]\n"
     ]
    }
   ],
   "source": [
    "rhs_differential = sp.diff(rhs, x, 1).expand()\n",
    "display(rhs_differential)\n",
    "dissipative_equilibrium_list = []\n",
    "for i in range(1, 9):\n",
    "    if rhs_differential.subs(x, i) < 0:\n",
    "        dissipative_equilibrium_list.append([i])\n",
    "print(\"Dissipative equilibrium points: \", dissipative_equilibrium_list)"
   ]
  },
  {
   "cell_type": "code",
   "execution_count": 7,
   "metadata": {},
   "outputs": [
    {
     "name": "stdout",
     "output_type": "stream",
     "text": [
      "-------------------------- Compute a quadratization dissipative with multi given equilibrium --------------------------\n",
      "The original system is: \n"
     ]
    },
    {
     "data": {
      "text/latex": [
       "$$\\begin{cases}\n",
       "(x)' &= - x \\left(x - 8\\right) \\left(x - 7\\right) \\left(x - 6\\right) \\left(x - 5\\right) \\left(x - 4\\right) \\left(x - 3\\right) \\left(x - 2\\right) \\left(x - 1\\right)\n",
       "\\end{cases}$$"
      ],
      "text/plain": [
       "<IPython.core.display.Latex object>"
      ]
     },
     "metadata": {},
     "output_type": "display_data"
    },
    {
     "name": "stdout",
     "output_type": "stream",
     "text": [
      "-------------------------- The Dissipative quadratized system --------------------------\n"
     ]
    },
    {
     "data": {
      "text/latex": [
       "$$\\begin{cases}\n",
       "(x)' &= 67284 g_{1}^{2} - 22449 g_{1} g_{2} - 546 g_{1} g_{4} - 118124 g_{1} x + 36 g_{2} g_{4} + 4536 g_{4} x - g_{6} x + 109584 x^{2} - 40320 x\\\\\n",
       "(g_{1})' &= - 236248 g_{1}^{2} + 134568 g_{1} g_{2} + 9072 g_{1} g_{4} - 2 g_{1} g_{6} - g_{1} \\lambda + 219168 g_{1} x - 1092 g_{2} g_{4} - 44898 g_{4} x + 72 g_{6} x + \\lambda x^{2} - 80640 x^{2}\\\\\n",
       "(g_{2})' &= 328752 g_{1}^{2} - 354372 g_{1} g_{2} - 67347 g_{1} g_{4} + 108 g_{1} g_{6} + g_{1} \\lambda x - 120960 g_{1} x + 13608 g_{2} g_{4} - 3 g_{2} g_{6} - g_{2} \\lambda + 201852 g_{4} x - 1638 g_{6} x\\\\\n",
       "(g_{3})' &= g_{1}^{2} \\lambda - 161280 g_{1}^{2} + 438336 g_{1} g_{2} + 269136 g_{1} g_{4} - 2184 g_{1} g_{6} - 89796 g_{2} g_{4} + 144 g_{2} g_{6} - 4 g_{3} g_{6} - g_{3} \\lambda - 472496 g_{4} x + 18144 g_{6} x\\\\\n",
       "(g_{4})' &= g_{1} g_{2} \\lambda - 201600 g_{1} g_{2} - 590620 g_{1} g_{4} + 22680 g_{1} g_{6} + 336420 g_{2} g_{4} - 2730 g_{2} g_{6} + 180 g_{3} g_{6} - 5 g_{4} g_{6} - g_{4} \\lambda + 547920 g_{4} x - 112245 g_{6} x\\\\\n",
       "(g_{5})' &= g_{1} g_{4} \\lambda - 282240 g_{1} g_{4} + 470988 g_{1} g_{6} + 767088 g_{2} g_{4} - 157143 g_{2} g_{6} + 31752 g_{3} g_{6} - 3822 g_{4} g_{6} + 252 g_{5}^{2} - 7 g_{5} g_{6} - g_{5} \\lambda - 826868 g_{6} x\\\\\n",
       "(g_{6})' &= - 944992 g_{1} g_{6} + g_{2} g_{4} \\lambda - 322560 g_{2} g_{4} + 538272 g_{2} g_{6} - 179592 g_{3} g_{6} + 36288 g_{4} g_{6} - 4368 g_{5}^{2} + 288 g_{5} g_{6} - 8 g_{6}^{2} - g_{6} \\lambda + 876672 g_{6} x\n",
       "\\end{cases}$$"
      ],
      "text/plain": [
       "<IPython.core.display.Latex object>"
      ]
     },
     "metadata": {},
     "output_type": "display_data"
    },
    {
     "name": "stdout",
     "output_type": "stream",
     "text": [
      "The lambda value is  2\n",
      "The lambda value is  4\n",
      "The lambda value is  8\n",
      "The lambda value is  16\n",
      "The lambda value is  32\n",
      "The lambda value is  64\n",
      "The lambda value is  128\n",
      "The lambda value is  256\n",
      "The lambda value is  512\n",
      "The lambda value is  1024\n",
      "The lambda value is  2048\n",
      "The lambda value is  4096\n",
      "The lambda value is  8192\n",
      "The lambda value is  16384\n",
      "The lambda value is  32768\n",
      "The lambda value is  65536\n",
      "The lambda value is  131072\n",
      "The lambda value is  262144\n",
      "The lambda value is  524288\n",
      "The lambda value is  1048576\n",
      "The lambda value is  2097152\n",
      "-------------------------- The lambda value --------------------------\n",
      "The lambda value is:  2097152\n",
      "-------------------------- The Dissipative quadratized system with lambda value --------------------------\n"
     ]
    },
    {
     "data": {
      "text/latex": [
       "$$\\begin{cases}\n",
       "(x)' &= 67284 g_{1}^{2} - 22449 g_{1} g_{2} - 546 g_{1} g_{4} - 118124 g_{1} x + 36 g_{2} g_{4} + 4536 g_{4} x - g_{6} x + 109584 x^{2} - 40320 x\\\\\n",
       "(g_{1})' &= - 236248 g_{1}^{2} + 134568 g_{1} g_{2} + 9072 g_{1} g_{4} - 2 g_{1} g_{6} + 219168 g_{1} x - 2097152 g_{1} - 1092 g_{2} g_{4} - 44898 g_{4} x + 72 g_{6} x + 2016512 x^{2}\\\\\n",
       "(g_{2})' &= 328752 g_{1}^{2} - 354372 g_{1} g_{2} - 67347 g_{1} g_{4} + 108 g_{1} g_{6} + 1976192 g_{1} x + 13608 g_{2} g_{4} - 3 g_{2} g_{6} - 2097152 g_{2} + 201852 g_{4} x - 1638 g_{6} x\\\\\n",
       "(g_{3})' &= 1935872 g_{1}^{2} + 438336 g_{1} g_{2} + 269136 g_{1} g_{4} - 2184 g_{1} g_{6} - 89796 g_{2} g_{4} + 144 g_{2} g_{6} - 4 g_{3} g_{6} - 2097152 g_{3} - 472496 g_{4} x + 18144 g_{6} x\\\\\n",
       "(g_{4})' &= 1895552 g_{1} g_{2} - 590620 g_{1} g_{4} + 22680 g_{1} g_{6} + 336420 g_{2} g_{4} - 2730 g_{2} g_{6} + 180 g_{3} g_{6} - 5 g_{4} g_{6} + 547920 g_{4} x - 2097152 g_{4} - 112245 g_{6} x\\\\\n",
       "(g_{5})' &= 1814912 g_{1} g_{4} + 470988 g_{1} g_{6} + 767088 g_{2} g_{4} - 157143 g_{2} g_{6} + 31752 g_{3} g_{6} - 3822 g_{4} g_{6} + 252 g_{5}^{2} - 7 g_{5} g_{6} - 2097152 g_{5} - 826868 g_{6} x\\\\\n",
       "(g_{6})' &= - 944992 g_{1} g_{6} + 1774592 g_{2} g_{4} + 538272 g_{2} g_{6} - 179592 g_{3} g_{6} + 36288 g_{4} g_{6} - 4368 g_{5}^{2} + 288 g_{5} g_{6} - 8 g_{6}^{2} + 876672 g_{6} x - 2097152 g_{6}\n",
       "\\end{cases}$$"
      ],
      "text/plain": [
       "<IPython.core.display.Latex object>"
      ]
     },
     "metadata": {},
     "output_type": "display_data"
    },
    {
     "name": "stdout",
     "output_type": "stream",
     "text": [
      "-------------------------- The Jacobian matrix --------------------------\n"
     ]
    },
    {
     "data": {
      "text/latex": [
       "$$J=\\left[\\begin{matrix}- 118124 g_{1} + 4536 g_{4} - g_{6} + 219168 x - 40320 & 134568 g_{1} - 22449 g_{2} - 546 g_{4} - 118124 x & - 22449 g_{1} + 36 g_{4} & 0 & - 546 g_{1} + 36 g_{2} + 4536 x & 0 & - x\\\\219168 g_{1} - 44898 g_{4} + 72 g_{6} + 2 \\lambda x - 161280 x & - 472496 g_{1} + 134568 g_{2} + 9072 g_{4} - 2 g_{6} - \\lambda + 219168 x & 134568 g_{1} - 1092 g_{4} & 0 & 9072 g_{1} - 1092 g_{2} - 44898 x & 0 & - 2 g_{1} + 72 x\\\\g_{1} \\lambda - 120960 g_{1} + 201852 g_{4} - 1638 g_{6} & 657504 g_{1} - 354372 g_{2} - 67347 g_{4} + 108 g_{6} + \\lambda x - 120960 x & - 354372 g_{1} + 13608 g_{4} - 3 g_{6} - \\lambda & 0 & - 67347 g_{1} + 13608 g_{2} + 201852 x & 0 & 108 g_{1} - 3 g_{2} - 1638 x\\\\- 472496 g_{4} + 18144 g_{6} & 2 g_{1} \\lambda - 322560 g_{1} + 438336 g_{2} + 269136 g_{4} - 2184 g_{6} & 438336 g_{1} - 89796 g_{4} + 144 g_{6} & - 4 g_{6} - \\lambda & 269136 g_{1} - 89796 g_{2} - 472496 x & 0 & - 2184 g_{1} + 144 g_{2} - 4 g_{3} + 18144 x\\\\547920 g_{4} - 112245 g_{6} & g_{2} \\lambda - 201600 g_{2} - 590620 g_{4} + 22680 g_{6} & g_{1} \\lambda - 201600 g_{1} + 336420 g_{4} - 2730 g_{6} & 180 g_{6} & - 590620 g_{1} + 336420 g_{2} - 5 g_{6} - \\lambda + 547920 x & 0 & 22680 g_{1} - 2730 g_{2} + 180 g_{3} - 5 g_{4} - 112245 x\\\\- 826868 g_{6} & g_{4} \\lambda - 282240 g_{4} + 470988 g_{6} & 767088 g_{4} - 157143 g_{6} & 31752 g_{6} & g_{1} \\lambda - 282240 g_{1} + 767088 g_{2} - 3822 g_{6} & 504 g_{5} - 7 g_{6} - \\lambda & 470988 g_{1} - 157143 g_{2} + 31752 g_{3} - 3822 g_{4} - 7 g_{5} - 826868 x\\\\876672 g_{6} & - 944992 g_{6} & g_{4} \\lambda - 322560 g_{4} + 538272 g_{6} & - 179592 g_{6} & g_{2} \\lambda - 322560 g_{2} + 36288 g_{6} & - 8736 g_{5} + 288 g_{6} & - 944992 g_{1} + 538272 g_{2} - 179592 g_{3} + 36288 g_{4} + 288 g_{5} - 16 g_{6} - \\lambda + 876672 x\\end{matrix}\\right]$$"
      ],
      "text/plain": [
       "<IPython.core.display.Latex object>"
      ]
     },
     "metadata": {},
     "output_type": "display_data"
    }
   ],
   "source": [
    "dissipative_multi_system = dquadratization_multi_equilibrium(multistable_eq_system, dissipative_equilibrium_list)"
   ]
  }
 ],
 "metadata": {
  "kernelspec": {
   "display_name": "Python 3",
   "language": "python",
   "name": "python3"
  },
  "language_info": {
   "codemirror_mode": {
    "name": "ipython",
    "version": 3
   },
   "file_extension": ".py",
   "mimetype": "text/x-python",
   "name": "python",
   "nbconvert_exporter": "python",
   "pygments_lexer": "ipython3",
   "version": "3.9.16"
  },
  "orig_nbformat": 4
 },
 "nbformat": 4,
 "nbformat_minor": 2
}
