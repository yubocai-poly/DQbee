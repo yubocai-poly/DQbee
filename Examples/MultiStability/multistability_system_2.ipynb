{
 "cells": [
  {
   "cell_type": "code",
   "execution_count": 1,
   "metadata": {},
   "outputs": [
    {
     "name": "stdout",
     "output_type": "stream",
     "text": [
      "------------------- Import Dqbee -------------------\n",
      "---------- Dqbee Module loaded successfully ----------\n"
     ]
    }
   ],
   "source": [
    "from DQbee import *\n",
    "import sympy as sp\n",
    "import time\n",
    "import pandas as pd"
   ]
  },
  {
   "cell_type": "markdown",
   "metadata": {},
   "source": [
    "### Multi-stability in the system\n",
    "\n",
    "---\n",
    "\n",
    "Consider the following system of ODEs:\n",
    "$$\n",
    "x' = -x (x - a) (x - 2a)\n",
    "$$\n",
    "where $a$ is positive."
   ]
  },
  {
   "cell_type": "code",
   "execution_count": 2,
   "metadata": {},
   "outputs": [
    {
     "data": {
      "text/latex": [
       "$\\displaystyle - x^{3} + 3 x^{2} - 2 x$"
      ],
      "text/plain": [
       "-x**3 + 3*x**2 - 2*x"
      ]
     },
     "execution_count": 2,
     "metadata": {},
     "output_type": "execute_result"
    }
   ],
   "source": [
    "a, x = sp.symbols('a x')\n",
    "a = 1\n",
    "multistable_eq_system = EquationSystem([sp.Eq(x, - x * (x - a) * (x - 2 * a))])\n",
    "rhs = - x * (x - a) * (x - 2 * a)\n",
    "rhs.expand()"
   ]
  },
  {
   "cell_type": "code",
   "execution_count": 3,
   "metadata": {},
   "outputs": [
    {
     "name": "stdout",
     "output_type": "stream",
     "text": [
      "The Original System is: \n"
     ]
    },
    {
     "data": {
      "text/latex": [
       "$$\\begin{cases}\n",
       "(x)' &= - x \\left(x - 2\\right) \\left(x - 1\\right)\n",
       "\\end{cases}$$"
      ],
      "text/plain": [
       "<IPython.core.display.Latex object>"
      ]
     },
     "metadata": {},
     "output_type": "display_data"
    },
    {
     "name": "stdout",
     "output_type": "stream",
     "text": [
      "The Optimal Dissipative Quadratization is: \n"
     ]
    },
    {
     "data": {
      "text/latex": [
       "$$\\begin{cases}\n",
       "(x)' &= - x \\left(x - 2\\right) \\left(x - 1\\right)\\\\\n",
       "(x^{2})' &= - 2 x^{4} + 6 x^{3} - 4 x^{2}\n",
       "\\end{cases}$$"
      ],
      "text/plain": [
       "<IPython.core.display.Latex object>"
      ]
     },
     "metadata": {},
     "output_type": "display_data"
    },
    {
     "name": "stdout",
     "output_type": "stream",
     "text": [
      "The new introduced variables are: \n"
     ]
    },
    {
     "data": {
      "text/latex": [
       "$$\\begin{cases}\n",
       "w_{1} = x^{2} \\\\ \n",
       "\\end{cases}$$"
      ],
      "text/plain": [
       "<IPython.core.display.Latex object>"
      ]
     },
     "metadata": {},
     "output_type": "display_data"
    },
    {
     "name": "stdout",
     "output_type": "stream",
     "text": [
      "The Optimal Quadratic Dissipative System is (with substitution): \n"
     ]
    },
    {
     "data": {
      "text/latex": [
       "$$\\begin{cases}\n",
       "(x)' &= - w_{1} x + 3 x^{2} - 2 x\\\\\n",
       "(w_{1})' &= - 2 w_{1}^{2} + 6 w_{1} x - 4 x^{2}\n",
       "\\end{cases}$$"
      ],
      "text/plain": [
       "<IPython.core.display.Latex object>"
      ]
     },
     "metadata": {},
     "output_type": "display_data"
    }
   ],
   "source": [
    "result = optimal_inner_quadratization(multistable_eq_system)"
   ]
  },
  {
   "cell_type": "code",
   "execution_count": 4,
   "metadata": {},
   "outputs": [
    {
     "name": "stdout",
     "output_type": "stream",
     "text": [
      "-------------------------- Compute a quadratization dissipative with multi given equilibrium --------------------------\n",
      "The original system is: \n"
     ]
    },
    {
     "data": {
      "text/latex": [
       "$$\\begin{cases}\n",
       "(x)' &= - x \\left(x - 2\\right) \\left(x - 1\\right)\n",
       "\\end{cases}$$"
      ],
      "text/plain": [
       "<IPython.core.display.Latex object>"
      ]
     },
     "metadata": {},
     "output_type": "display_data"
    },
    {
     "name": "stdout",
     "output_type": "stream",
     "text": [
      "-------------------------- The Dissipative quadratized system --------------------------\n"
     ]
    },
    {
     "data": {
      "text/latex": [
       "$$\\begin{cases}\n",
       "(x)' &= - g_{1} x + 3 x^{2} - 2 x\\\\\n",
       "(g_{1})' &= - 2 g_{1}^{2} - g_{1} \\lambda + 6 g_{1} x + \\lambda x^{2} - 4 x^{2}\n",
       "\\end{cases}$$"
      ],
      "text/plain": [
       "<IPython.core.display.Latex object>"
      ]
     },
     "metadata": {},
     "output_type": "display_data"
    },
    {
     "name": "stdout",
     "output_type": "stream",
     "text": [
      "-------------------------- The lambda value --------------------------\n",
      "The lambda value is:  8\n",
      "-------------------------- The Dissipative quadratized system with lambda value --------------------------\n"
     ]
    },
    {
     "data": {
      "text/latex": [
       "$$\\begin{cases}\n",
       "(x)' &= - g_{1} x + 3 x^{2} - 2 x\\\\\n",
       "(g_{1})' &= - 2 g_{1}^{2} + 6 g_{1} x - 8 g_{1} + 4 x^{2}\n",
       "\\end{cases}$$"
      ],
      "text/plain": [
       "<IPython.core.display.Latex object>"
      ]
     },
     "metadata": {},
     "output_type": "display_data"
    },
    {
     "name": "stdout",
     "output_type": "stream",
     "text": [
      "-------------------------- The Jacobian matrix --------------------------\n"
     ]
    },
    {
     "data": {
      "text/latex": [
       "$$J=\\left[\\begin{matrix}- g_{1} + 6 x - 2 & - x\\\\6 g_{1} + 2 \\lambda x - 8 x & - 4 g_{1} - \\lambda + 6 x\\end{matrix}\\right]$$"
      ],
      "text/plain": [
       "<IPython.core.display.Latex object>"
      ]
     },
     "metadata": {},
     "output_type": "display_data"
    }
   ],
   "source": [
    "result = dquadratization_multi_equilibrium(multistable_eq_system, [[0],[2]])"
   ]
  },
  {
   "cell_type": "code",
   "execution_count": 5,
   "metadata": {},
   "outputs": [
    {
     "data": {
      "text/html": [
       "<div>\n",
       "<style scoped>\n",
       "    .dataframe tbody tr th:only-of-type {\n",
       "        vertical-align: middle;\n",
       "    }\n",
       "\n",
       "    .dataframe tbody tr th {\n",
       "        vertical-align: top;\n",
       "    }\n",
       "\n",
       "    .dataframe thead th {\n",
       "        text-align: right;\n",
       "    }\n",
       "</style>\n",
       "<table border=\"1\" class=\"dataframe\">\n",
       "  <thead>\n",
       "    <tr style=\"text-align: right;\">\n",
       "      <th></th>\n",
       "      <th>a</th>\n",
       "      <th>lambda</th>\n",
       "      <th>numpy</th>\n",
       "      <th>Routh-Hurwitz</th>\n",
       "      <th>sympy-naive</th>\n",
       "    </tr>\n",
       "  </thead>\n",
       "  <tbody>\n",
       "    <tr>\n",
       "      <th>0</th>\n",
       "      <td>1</td>\n",
       "      <td>8</td>\n",
       "      <td>39.19</td>\n",
       "      <td>37.55</td>\n",
       "      <td>35.96</td>\n",
       "    </tr>\n",
       "    <tr>\n",
       "      <th>1</th>\n",
       "      <td>2</td>\n",
       "      <td>32</td>\n",
       "      <td>36.14</td>\n",
       "      <td>38.57</td>\n",
       "      <td>38.34</td>\n",
       "    </tr>\n",
       "    <tr>\n",
       "      <th>2</th>\n",
       "      <td>5</td>\n",
       "      <td>128</td>\n",
       "      <td>36.13</td>\n",
       "      <td>39.38</td>\n",
       "      <td>41.97</td>\n",
       "    </tr>\n",
       "    <tr>\n",
       "      <th>3</th>\n",
       "      <td>10</td>\n",
       "      <td>512</td>\n",
       "      <td>37.72</td>\n",
       "      <td>39.01</td>\n",
       "      <td>43.39</td>\n",
       "    </tr>\n",
       "    <tr>\n",
       "      <th>4</th>\n",
       "      <td>20</td>\n",
       "      <td>2048</td>\n",
       "      <td>35.48</td>\n",
       "      <td>39.40</td>\n",
       "      <td>45.57</td>\n",
       "    </tr>\n",
       "    <tr>\n",
       "      <th>5</th>\n",
       "      <td>50</td>\n",
       "      <td>16384</td>\n",
       "      <td>35.20</td>\n",
       "      <td>39.78</td>\n",
       "      <td>51.47</td>\n",
       "    </tr>\n",
       "    <tr>\n",
       "      <th>6</th>\n",
       "      <td>100</td>\n",
       "      <td>65536</td>\n",
       "      <td>35.23</td>\n",
       "      <td>39.97</td>\n",
       "      <td>50.37</td>\n",
       "    </tr>\n",
       "    <tr>\n",
       "      <th>7</th>\n",
       "      <td>200</td>\n",
       "      <td>262144</td>\n",
       "      <td>35.41</td>\n",
       "      <td>40.15</td>\n",
       "      <td>52.81</td>\n",
       "    </tr>\n",
       "    <tr>\n",
       "      <th>8</th>\n",
       "      <td>500</td>\n",
       "      <td>1048576</td>\n",
       "      <td>38.39</td>\n",
       "      <td>40.84</td>\n",
       "      <td>55.40</td>\n",
       "    </tr>\n",
       "    <tr>\n",
       "      <th>9</th>\n",
       "      <td>1000</td>\n",
       "      <td>4194304</td>\n",
       "      <td>35.49</td>\n",
       "      <td>41.34</td>\n",
       "      <td>57.35</td>\n",
       "    </tr>\n",
       "    <tr>\n",
       "      <th>10</th>\n",
       "      <td>2000</td>\n",
       "      <td>16777216</td>\n",
       "      <td>35.44</td>\n",
       "      <td>41.19</td>\n",
       "      <td>61.77</td>\n",
       "    </tr>\n",
       "    <tr>\n",
       "      <th>11</th>\n",
       "      <td>5000</td>\n",
       "      <td>134217728</td>\n",
       "      <td>35.50</td>\n",
       "      <td>41.76</td>\n",
       "      <td>62.08</td>\n",
       "    </tr>\n",
       "    <tr>\n",
       "      <th>12</th>\n",
       "      <td>10000</td>\n",
       "      <td>536870912</td>\n",
       "      <td>35.84</td>\n",
       "      <td>41.93</td>\n",
       "      <td>66.30</td>\n",
       "    </tr>\n",
       "    <tr>\n",
       "      <th>13</th>\n",
       "      <td>50000</td>\n",
       "      <td>17179869184</td>\n",
       "      <td>35.63</td>\n",
       "      <td>42.44</td>\n",
       "      <td>67.61</td>\n",
       "    </tr>\n",
       "    <tr>\n",
       "      <th>14</th>\n",
       "      <td>100000</td>\n",
       "      <td>68719476736</td>\n",
       "      <td>35.28</td>\n",
       "      <td>42.74</td>\n",
       "      <td>73.26</td>\n",
       "    </tr>\n",
       "  </tbody>\n",
       "</table>\n",
       "</div>"
      ],
      "text/plain": [
       "         a       lambda  numpy  Routh-Hurwitz  sympy-naive\n",
       "0        1            8  39.19          37.55        35.96\n",
       "1        2           32  36.14          38.57        38.34\n",
       "2        5          128  36.13          39.38        41.97\n",
       "3       10          512  37.72          39.01        43.39\n",
       "4       20         2048  35.48          39.40        45.57\n",
       "5       50        16384  35.20          39.78        51.47\n",
       "6      100        65536  35.23          39.97        50.37\n",
       "7      200       262144  35.41          40.15        52.81\n",
       "8      500      1048576  38.39          40.84        55.40\n",
       "9     1000      4194304  35.49          41.34        57.35\n",
       "10    2000     16777216  35.44          41.19        61.77\n",
       "11    5000    134217728  35.50          41.76        62.08\n",
       "12   10000    536870912  35.84          41.93        66.30\n",
       "13   50000  17179869184  35.63          42.44        67.61\n",
       "14  100000  68719476736  35.28          42.74        73.26"
      ]
     },
     "execution_count": 5,
     "metadata": {},
     "output_type": "execute_result"
    }
   ],
   "source": [
    "import numpy as np\n",
    "\n",
    "N = 10  # number of repetitions\n",
    "a_list = [1, 2, 5, 10, 20, 50, 100, 200, 500, 1000, 2000, 5000, 10000, 50000, 100000]\n",
    "methods = ['numpy', 'Routh-Hurwitz', 'sympy-naive']\n",
    "\n",
    "results = []\n",
    "\n",
    "for a in a_list:\n",
    "    result = [a]\n",
    "    for method in methods:\n",
    "        times = []  # list to store the times of each run\n",
    "        lambda_values = []  # list to store the lambda values of each run\n",
    "        for _ in range(N):\n",
    "            multistable_eq_system = EquationSystem([sp.Eq(x, - x * (x - a) * (x - 2 * a))])\n",
    "            equilibrium = [[0], [2 * a]]\n",
    "            start = time.time()\n",
    "            lambda_value = dquadratization_multi_equilibrium(multistable_eq_system, equilibrium, method=method, display=False)[0]\n",
    "            end = time.time()\n",
    "            times.append((end - start) * 1000)  # transform time to milliseconds\n",
    "            lambda_values.append(lambda_value)\n",
    "        # calculate the average time and lambda value\n",
    "        avg_time = round(np.mean(times), 2)\n",
    "        result.append((lambda_values[0], avg_time, method))\n",
    "\n",
    "    results.append(result)\n",
    "\n",
    "data_frame = []\n",
    "for result in results:\n",
    "    data = []\n",
    "    data.append(result[0])\n",
    "    data.append(result[1][0])\n",
    "    for i in range(1, len(result)):\n",
    "        data.append(result[i][1])\n",
    "    data_frame.append(data)\n",
    "\n",
    "df = pd.DataFrame(data_frame, columns=['a','lambda', 'numpy', 'Routh-Hurwitz', 'sympy-naive'])\n",
    "df"
   ]
  }
 ],
 "metadata": {
  "kernelspec": {
   "display_name": "Python 3",
   "language": "python",
   "name": "python3"
  },
  "language_info": {
   "codemirror_mode": {
    "name": "ipython",
    "version": 3
   },
   "file_extension": ".py",
   "mimetype": "text/x-python",
   "name": "python",
   "nbconvert_exporter": "python",
   "pygments_lexer": "ipython3",
   "version": "3.9.16"
  },
  "orig_nbformat": 4
 },
 "nbformat": 4,
 "nbformat_minor": 2
}
