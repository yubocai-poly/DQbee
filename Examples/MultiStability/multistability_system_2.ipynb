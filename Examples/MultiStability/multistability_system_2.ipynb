{
 "cells": [
  {
   "cell_type": "code",
   "execution_count": 2,
   "metadata": {},
   "outputs": [],
   "source": [
    "from DQbee.DQuadratization import *\n",
    "from DQbee.EquationSystem import *\n",
    "import sympy as sp"
   ]
  },
  {
   "cell_type": "markdown",
   "metadata": {},
   "source": [
    "### Multi-stability in the system\n",
    "\n",
    "---\n",
    "\n",
    "Consider the following system of ODEs:\n",
    "$$\n",
    "x' = -x (x - a) (x - 2a)\n",
    "$$\n",
    "where $a$ are positive numbers."
   ]
  },
  {
   "cell_type": "code",
   "execution_count": 3,
   "metadata": {},
   "outputs": [
    {
     "data": {
      "text/latex": [
       "$\\displaystyle - 2 a^{2} x + 3 a x^{2} - x^{3}$"
      ],
      "text/plain": [
       "-2*a**2*x + 3*a*x**2 - x**3"
      ]
     },
     "execution_count": 3,
     "metadata": {},
     "output_type": "execute_result"
    }
   ],
   "source": [
    "a, x = sp.symbols('a x')\n",
    "multistable_eq_system = EquationSystem([sp.Eq(x, - x * (x - a) * (x - 2 * a))])\n",
    "rhs = - x * (x - a) * (x - 2 * a)\n",
    "rhs.expand()"
   ]
  },
  {
   "cell_type": "code",
   "execution_count": 4,
   "metadata": {},
   "outputs": [
    {
     "name": "stdout",
     "output_type": "stream",
     "text": [
      "The Original System is: \n"
     ]
    },
    {
     "data": {
      "text/latex": [
       "$$\\begin{cases}\n",
       "(x)' &= - x \\left(- 2 a + x\\right) \\left(- a + x\\right)\n",
       "\\end{cases}$$"
      ],
      "text/plain": [
       "<IPython.core.display.Latex object>"
      ]
     },
     "metadata": {},
     "output_type": "display_data"
    },
    {
     "name": "stdout",
     "output_type": "stream",
     "text": [
      "The Optimal Dissipative Quadratization is: \n"
     ]
    },
    {
     "data": {
      "text/latex": [
       "$$\\begin{cases}\n",
       "(x)' &= - x \\left(- 2 a + x\\right) \\left(- a + x\\right)\\\\\n",
       "(x^{2})' &= - 4 a^{2} x^{2} + 6 a x^{3} - 2 x^{4}\n",
       "\\end{cases}$$"
      ],
      "text/plain": [
       "<IPython.core.display.Latex object>"
      ]
     },
     "metadata": {},
     "output_type": "display_data"
    },
    {
     "name": "stdout",
     "output_type": "stream",
     "text": [
      "The new introduced variables are: \n"
     ]
    },
    {
     "data": {
      "text/latex": [
       "$$\\begin{cases}\n",
       "w_{1} = x^{2} \\\\ \n",
       "\\end{cases}$$"
      ],
      "text/plain": [
       "<IPython.core.display.Latex object>"
      ]
     },
     "metadata": {},
     "output_type": "display_data"
    },
    {
     "name": "stdout",
     "output_type": "stream",
     "text": [
      "The Optimal Quadratic Dissipative System is (with substitution): \n"
     ]
    },
    {
     "data": {
      "text/latex": [
       "$$\\begin{cases}\n",
       "(x)' &= - 2 a^{2} x + 3 a x^{2} - w_{1} x\\\\\n",
       "(w_{1})' &= - 4 a^{2} x^{2} + 6 a w_{1} x - 2 w_{1}^{2}\n",
       "\\end{cases}$$"
      ],
      "text/plain": [
       "<IPython.core.display.Latex object>"
      ]
     },
     "metadata": {},
     "output_type": "display_data"
    }
   ],
   "source": [
    "result = optimal_inner_quadratization(multistable_eq_system)"
   ]
  }
 ],
 "metadata": {
  "kernelspec": {
   "display_name": "Python 3",
   "language": "python",
   "name": "python3"
  },
  "language_info": {
   "codemirror_mode": {
    "name": "ipython",
    "version": 3
   },
   "file_extension": ".py",
   "mimetype": "text/x-python",
   "name": "python",
   "nbconvert_exporter": "python",
   "pygments_lexer": "ipython3",
   "version": "3.9.16"
  },
  "orig_nbformat": 4
 },
 "nbformat": 4,
 "nbformat_minor": 2
}
