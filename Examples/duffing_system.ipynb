{
 "cells": [
  {
   "cell_type": "code",
   "execution_count": 37,
   "metadata": {},
   "outputs": [],
   "source": [
    "import sys\n",
    "sys.path.append(\"..\")\n",
    "from Package.DQuadratization import *\n",
    "from Package.EquationSystem import *\n",
    "from Package.Combinations import *\n",
    "from qbee import *\n",
    "import sympy as sp\n",
    "from Package.Simulation.numerical import *\n",
    "%config InlineBackend.figure_format = 'retina'\n",
    "%matplotlib inline\n",
    "import matplotlib.pyplot as plt\n",
    "import matplotlib.gridspec as gridspec"
   ]
  },
  {
   "cell_type": "markdown",
   "metadata": {},
   "source": [
    "### Application to reachability analysis - Duffing system\n",
    "\n",
    "---\n",
    "\n",
    "Reachability problem is a problem, given an ODE system $\\mathbf{x}' = \\mathbf{p}(\\mathbf{x})$, a set $S\\subseteq \\mathbb{R}^n$ of possible initial conditions, and a time $t \\in \\mathbb{R}_{>0}$, compute a set containing the set \n",
    "$$\n",
    "\\{\\mathbf{x}(t) \\mid \\mathbf{x}'=\\mathbf{p}(\\mathbf{x}) \\;\\&\\; \\mathbf{x}(0) \\in S\\} \\subseteq \\mathbb{R}^n\n",
    "$$\n",
    "of all points reachable from $S$ at time $t$.\n",
    "One recent approach to this problem in the vicinity of a dissipative equilibrium $\\mathbf{x}^\\ast$ proposed by Forets and Schilling in [Forets_2021] is to use Carleman linearization to reduce the problem to the linear case which is well-studied.\n",
    "However, the approach described in [Forets_2021] is applicable only to quadratic systems. \n",
    "Algorithm 3 allows to lift this restriction by computing a quadratization which preserves the dissipativity of $\\mathbf{x}^\\ast$.\n",
    "\n",
    "We will illustrate this idea using the **Duffing** equation\n",
    "$$\n",
    "  x'' = kx + ax^{3} + bx'\n",
    "$$\n",
    "which described damped oscillator with non-linear restoring force.\n",
    "The equation can be written as a first-order system by introducing $x_1 := x, x_2 := x'$ as follows\n",
    "$$\n",
    "\\begin{cases}\n",
    "    x_1' = x_2,\n",
    "    x_2' = kx_1 + a x_1^3 + b x_2.\n",
    "\\end{cases}\n",
    "$$\n",
    "\n",
    "### Inner-quadratic quadraticization\n",
    "\n",
    "---"
   ]
  },
  {
   "cell_type": "code",
   "execution_count": 38,
   "metadata": {},
   "outputs": [],
   "source": [
    "x1, x2 = sp.symbols('x1 x2')\n",
    "a, k, b = sp.symbols('a k b')\n",
    "\n",
    "duffing_system = [\n",
    "    sp.Eq(x1, x2),\n",
    "    sp.Eq(x2, k * x1 + a * x1 ** 3 + b * x2)\n",
    "]\n",
    "\n",
    "duffing_eq_system = EquationSystem(duffing_system)"
   ]
  },
  {
   "cell_type": "code",
   "execution_count": 39,
   "metadata": {},
   "outputs": [
    {
     "data": {
      "text/latex": [
       "$$\\begin{cases}\n",
       "(x_{1})' &= x_{2}\\\\\n",
       "(x_{2})' &= a x_{1}^{3} + b x_{2} + k x_{1}\n",
       "\\end{cases}$$"
      ],
      "text/plain": [
       "<IPython.core.display.Latex object>"
      ]
     },
     "metadata": {},
     "output_type": "display_data"
    }
   ],
   "source": [
    "display(duffing_eq_system.show_system_latex())"
   ]
  },
  {
   "cell_type": "code",
   "execution_count": 40,
   "metadata": {},
   "outputs": [
    {
     "name": "stdout",
     "output_type": "stream",
     "text": [
      "The Original System is: \n"
     ]
    },
    {
     "data": {
      "text/latex": [
       "$$\\begin{cases}\n",
       "(x_{1})' &= x_{2}\\\\\n",
       "(x_{2})' &= a x_{1}^{3} + b x_{2} + k x_{1}\n",
       "\\end{cases}$$"
      ],
      "text/plain": [
       "<IPython.core.display.Latex object>"
      ]
     },
     "metadata": {},
     "output_type": "display_data"
    },
    {
     "name": "stdout",
     "output_type": "stream",
     "text": [
      "The Optimal Dissipative Quadratization is: \n"
     ]
    },
    {
     "data": {
      "text/latex": [
       "$$\\begin{cases}\n",
       "(x_{1})' &= x_{2}\\\\\n",
       "(x_{2})' &= a x_{1}^{3} + b x_{2} + k x_{1}\\\\\n",
       "(x_{1}^{2})' &= 2 x_{1} x_{2}\n",
       "\\end{cases}$$"
      ],
      "text/plain": [
       "<IPython.core.display.Latex object>"
      ]
     },
     "metadata": {},
     "output_type": "display_data"
    },
    {
     "name": "stdout",
     "output_type": "stream",
     "text": [
      "The new introduced variables are: \n"
     ]
    },
    {
     "data": {
      "text/latex": [
       "$$\\begin{cases}\n",
       "w_{1} = x_{1}^{2} \\\\ \n",
       "\\end{cases}$$"
      ],
      "text/plain": [
       "<IPython.core.display.Latex object>"
      ]
     },
     "metadata": {},
     "output_type": "display_data"
    },
    {
     "name": "stdout",
     "output_type": "stream",
     "text": [
      "The Optimal Quadratic Dissipative System is (with substitution): \n"
     ]
    },
    {
     "data": {
      "text/latex": [
       "$$\\begin{cases}\n",
       "(x_{1})' &= x_{2}\\\\\n",
       "(x_{2})' &= a w_{1} x_{1} + b x_{2} + k x_{1}\\\\\n",
       "(w_{1})' &= 2 x_{1} x_{2}\n",
       "\\end{cases}$$"
      ],
      "text/plain": [
       "<IPython.core.display.Latex object>"
      ]
     },
     "metadata": {},
     "output_type": "display_data"
    }
   ],
   "source": [
    "inner_quadratic_duffing = optimal_inner_quadratization(duffing_eq_system)"
   ]
  },
  {
   "cell_type": "markdown",
   "metadata": {},
   "source": [
    "### Dissipative Quadratization\n",
    "\n",
    "---\n",
    "\n",
    "We have the Jacobian matrix of the duffing system:\n",
    "$$\n",
    "J = \\begin{bmatrix}\n",
    "    0 & 1 \\\\\n",
    "    k + 3ax_1^2 & b\n",
    "\\end{bmatrix}\n",
    "$$\n",
    "and the equilibrium point $\\mathbf{x}^\\ast = (0, 0), (-\\sqrt{-\\frac{k}{a}}, 0), (\\sqrt{-\\frac{k}{a}}, 0)$. Therefore, we have the value for $x_{1}^{2} = - \\frac{k}{a}$ and the Jacobian matrix at the equilibrium point $(-\\sqrt{-\\frac{k}{a}}, 0), (\\sqrt{-\\frac{k}{a}}, 0)$ is:\n",
    "$$\n",
    "J = \\begin{bmatrix}\n",
    "    0 & 1 \\\\\n",
    "    -2k & b\n",
    "\\end{bmatrix}\n",
    "$$\n",
    "The characteristic polynomial of $J$ is $x^{2}-bx+2k=0$. In order to have all eigenvalues with negative real part, we need to have $b<0$ and $k>0$ by Routh-Hurwitz criterion. Let's take the value $a=-1, b=-1, k=1$. Then we got equilibrium point $\\mathbf{x}^\\ast = (0, 0), (-1, 0), (1, 0)$ and dissipative equilibrium point $\\mathbf{x}^\\ast = (-1, 0), (1, 0)$."
   ]
  },
  {
   "cell_type": "code",
   "execution_count": 41,
   "metadata": {},
   "outputs": [],
   "source": [
    "duffing_system_1 = [\n",
    "    sp.Eq(x1, x2),\n",
    "    sp.Eq(x2, x1 - x1 ** 3 - x2)\n",
    "]\n",
    "\n",
    "duffing_eq_system_1 = EquationSystem(duffing_system_1)"
   ]
  },
  {
   "cell_type": "markdown",
   "metadata": {},
   "source": [
    "#### dissiaptive quadratization with one equilibrium point"
   ]
  },
  {
   "cell_type": "code",
   "execution_count": 42,
   "metadata": {},
   "outputs": [
    {
     "name": "stdout",
     "output_type": "stream",
     "text": [
      "-------------------------- Compute a quadratization dissipative at a given equilibrium --------------------------\n",
      "The system before coordinate transformation is: \n"
     ]
    },
    {
     "data": {
      "text/latex": [
       "$$\\begin{cases}\n",
       "(x_{1})' &= x_{2}\\\\\n",
       "(x_{2})' &= - x_{1}^{3} + x_{1} - x_{2}\n",
       "\\end{cases}$$"
      ],
      "text/plain": [
       "<IPython.core.display.Latex object>"
      ]
     },
     "metadata": {},
     "output_type": "display_data"
    },
    {
     "name": "stdout",
     "output_type": "stream",
     "text": [
      "-------------------------- Dissipative Quadratization on transformed system --------------------------\n",
      "The Original System is: \n"
     ]
    },
    {
     "data": {
      "text/latex": [
       "$$\\begin{cases}\n",
       "(u_{1})' &= u_{2}\\\\\n",
       "(u_{2})' &= - u_{1}^{3} - 3 u_{1}^{2} - 2 u_{1} - u_{2}\n",
       "\\end{cases}$$"
      ],
      "text/plain": [
       "<IPython.core.display.Latex object>"
      ]
     },
     "metadata": {},
     "output_type": "display_data"
    },
    {
     "name": "stdout",
     "output_type": "stream",
     "text": [
      "The Optimal Dissipative Quadratization is: \n"
     ]
    },
    {
     "data": {
      "text/latex": [
       "$$\\begin{cases}\n",
       "(u_{1})' &= u_{2}\\\\\n",
       "(u_{2})' &= - u_{1}^{3} - 3 u_{1}^{2} - 2 u_{1} - u_{2}\\\\\n",
       "(u_{1}^{2})' &= 2 u_{1} u_{2}\n",
       "\\end{cases}$$"
      ],
      "text/plain": [
       "<IPython.core.display.Latex object>"
      ]
     },
     "metadata": {},
     "output_type": "display_data"
    },
    {
     "name": "stdout",
     "output_type": "stream",
     "text": [
      "The new introduced variables are: \n"
     ]
    },
    {
     "data": {
      "text/latex": [
       "$$\\begin{cases}\n",
       "w_{1} = u_{1}^{2} \\\\ \n",
       "\\end{cases}$$"
      ],
      "text/plain": [
       "<IPython.core.display.Latex object>"
      ]
     },
     "metadata": {},
     "output_type": "display_data"
    },
    {
     "name": "stdout",
     "output_type": "stream",
     "text": [
      "The Optimal Quadratic Dissipative System is (with substitution): \n"
     ]
    },
    {
     "data": {
      "text/latex": [
       "$$\\begin{cases}\n",
       "(u_{1})' &= u_{2}\\\\\n",
       "(u_{2})' &= - 3 u_{1}^{2} - u_{1} w_{1} - 2 u_{1} - u_{2}\\\\\n",
       "(w_{1})' &= 2 u_{1} u_{2}\n",
       "\\end{cases}$$"
      ],
      "text/plain": [
       "<IPython.core.display.Latex object>"
      ]
     },
     "metadata": {},
     "output_type": "display_data"
    },
    {
     "name": "stdout",
     "output_type": "stream",
     "text": [
      "------------------------------ Optimal Dissipative Quadratization ------------------------------\n",
      "The eigenvalue with the largest real part is (real part):  -0.5\n",
      "Mode: Default diagonal value, we will choose the largest eigenvalue as the diagonal value.\n",
      "The converted Optimal Dissipative Quadratization System is: \n"
     ]
    },
    {
     "data": {
      "text/latex": [
       "$$\\begin{cases}\n",
       "(u_{1})' &= u_{2}\\\\\n",
       "(u_{2})' &= - 3 u_{1}^{2} - u_{1} w_{1} - 2 u_{1} - u_{2}\\\\\n",
       "(w_{1})' &= 0.5 u_{1}^{2} + 2 u_{1} u_{2} - 0.5 w_{1}\n",
       "\\end{cases}$$"
      ],
      "text/plain": [
       "<IPython.core.display.Latex object>"
      ]
     },
     "metadata": {},
     "output_type": "display_data"
    },
    {
     "name": "stdout",
     "output_type": "stream",
     "text": [
      "The matrix  associated to the linear part system is:\n"
     ]
    },
    {
     "data": {
      "text/latex": [
       "$$\\left[\\begin{matrix}0 & 1 & 0\\\\-2 & -1 & 0\\\\0 & 0 & -0.5\\end{matrix}\\right]$$"
      ],
      "text/plain": [
       "<IPython.core.display.Latex object>"
      ]
     },
     "metadata": {},
     "output_type": "display_data"
    }
   ],
   "source": [
    "# Here we test at equilibrium point (1, 0)\n",
    "duffing_eq_system_1_one_equilibrium = dquadratization_one_equilibrium(duffing_eq_system_1, {x1: 1, x2: 0}, display=True)"
   ]
  },
  {
   "cell_type": "markdown",
   "metadata": {},
   "source": [
    "#### dissiaptive quadratization with multiple equilibrium point"
   ]
  },
  {
   "cell_type": "code",
   "execution_count": 44,
   "metadata": {},
   "outputs": [
    {
     "name": "stdout",
     "output_type": "stream",
     "text": [
      "-------------------------- Compute a quadratization dissipative with multi given equilibrium --------------------------\n",
      "The original system is: \n"
     ]
    },
    {
     "data": {
      "text/latex": [
       "$$\\begin{cases}\n",
       "(x_{1})' &= x_{2}\\\\\n",
       "(x_{2})' &= - x_{1}^{3} + x_{1} - x_{2}\n",
       "\\end{cases}$$"
      ],
      "text/plain": [
       "<IPython.core.display.Latex object>"
      ]
     },
     "metadata": {},
     "output_type": "display_data"
    },
    {
     "name": "stdout",
     "output_type": "stream",
     "text": [
      "-------------------------- The Dissipative quadratized system --------------------------\n"
     ]
    },
    {
     "data": {
      "text/latex": [
       "$$\\begin{cases}\n",
       "(x_{1})' &= x_{2}\\\\\n",
       "(x_{2})' &= - g_{1} x_{1} + x_{1} - x_{2}\\\\\n",
       "(g_{1})' &= - g_{1} \\lambda + \\lambda x_{1}^{2} + 2 x_{1} x_{2}\n",
       "\\end{cases}$$"
      ],
      "text/plain": [
       "<IPython.core.display.Latex object>"
      ]
     },
     "metadata": {},
     "output_type": "display_data"
    },
    {
     "name": "stdout",
     "output_type": "stream",
     "text": [
      "-------------------------- The lambda value --------------------------\n",
      "The lambda value is:  1\n",
      "-------------------------- The Dissipative quadratized system with lambda value --------------------------\n"
     ]
    },
    {
     "data": {
      "text/latex": [
       "$$\\begin{cases}\n",
       "(x_{1})' &= x_{2}\\\\\n",
       "(x_{2})' &= - g_{1} x_{1} + x_{1} - x_{2}\\\\\n",
       "(g_{1})' &= - g_{1} + x_{1}^{2} + 2 x_{1} x_{2}\n",
       "\\end{cases}$$"
      ],
      "text/plain": [
       "<IPython.core.display.Latex object>"
      ]
     },
     "metadata": {},
     "output_type": "display_data"
    },
    {
     "name": "stdout",
     "output_type": "stream",
     "text": [
      "-------------------------- The Jacobian matrix --------------------------\n"
     ]
    },
    {
     "data": {
      "text/latex": [
       "$$J=\\left[\\begin{matrix}0 & 1 & 0\\\\1 - g_{1} & -1 & - x_{1}\\\\2 \\lambda x_{1} + 2 x_{2} & 2 x_{1} & - \\lambda\\end{matrix}\\right]$$"
      ],
      "text/plain": [
       "<IPython.core.display.Latex object>"
      ]
     },
     "metadata": {},
     "output_type": "display_data"
    }
   ],
   "source": [
    "# Here we test at equilibrium point (1, 0) (-1, 0)\n",
    "duffing_eq_system_1_multi_equilibrium = dquadratization_multi_equilibrium(duffing_eq_system_1, [[1,0], [-1,0]], display=True)"
   ]
  }
 ],
 "metadata": {
  "kernelspec": {
   "display_name": "Python 3",
   "language": "python",
   "name": "python3"
  },
  "language_info": {
   "codemirror_mode": {
    "name": "ipython",
    "version": 3
   },
   "file_extension": ".py",
   "mimetype": "text/x-python",
   "name": "python",
   "nbconvert_exporter": "python",
   "pygments_lexer": "ipython3",
   "version": "3.9.16"
  },
  "orig_nbformat": 4
 },
 "nbformat": 4,
 "nbformat_minor": 2
}
