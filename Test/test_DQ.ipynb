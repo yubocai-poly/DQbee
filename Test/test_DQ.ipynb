{
 "cells": [
  {
   "cell_type": "code",
   "execution_count": 1,
   "metadata": {},
   "outputs": [
    {
     "name": "stderr",
     "output_type": "stream",
     "text": [
      "/Users/yubocai/anaconda3/envs/mlp/lib/python3.9/site-packages/qbee/util.py:6: TqdmExperimentalWarning: Using `tqdm.autonotebook.tqdm` in notebook mode. Use `tqdm.tqdm` instead to force console mode (e.g. in jupyter console)\n",
      "  from tqdm.autonotebook import tqdm\n"
     ]
    }
   ],
   "source": [
    "import sys\n",
    "sys.path.append(\"..\")\n",
    "from Package.DQuadratization import *\n",
    "from Package.EquationSystem import *\n",
    "from Package.Combinations import *\n",
    "from qbee import *\n",
    "import sympy as sp"
   ]
  },
  {
   "attachments": {},
   "cell_type": "markdown",
   "metadata": {},
   "source": [
    "### Test for example system from the paper - Duffing system\n",
    "\n",
    "---\n",
    "\n",
    "Consider the following Duffing system:\n",
    "\n",
    "$$\n",
    "\\left\\{\\begin{array}{l}\n",
    "x_0^{\\prime}=x_1 \\\\\n",
    "x_1^{\\prime}=k x_0+a x_0^3+b x_1\n",
    "\\end{array}\\right.\n",
    "$$\n"
   ]
  },
  {
   "cell_type": "code",
   "execution_count": 2,
   "metadata": {},
   "outputs": [],
   "source": [
    "# Set up the variables\n",
    "x0, x1 = sp.symbols('x1 x2')\n",
    "a, b, k = sp.symbols('a b k')  # set symbolic constants\n",
    "\n",
    "system = [\n",
    "    sp.Eq(x0, x1),\n",
    "    sp.Eq(x1, k*x0 + a*x0**3 + b * x1)\n",
    "]\n",
    "\n",
    "eq_system = EquationSystem(system)"
   ]
  },
  {
   "cell_type": "code",
   "execution_count": 3,
   "metadata": {},
   "outputs": [
    {
     "name": "stdout",
     "output_type": "stream",
     "text": [
      "The Original System is: \n"
     ]
    },
    {
     "data": {
      "text/latex": [
       "$$\\begin{cases}\n",
       "(x_{1})' &= x_{2}\\\\\n",
       "(x_{2})' &= a x_{1}^{3} + b x_{2} + k x_{1}\n",
       "\\end{cases}$$"
      ],
      "text/plain": [
       "<IPython.core.display.Latex object>"
      ]
     },
     "metadata": {},
     "output_type": "display_data"
    },
    {
     "name": "stdout",
     "output_type": "stream",
     "text": [
      "The Optimal Dissipative Quadratization is: \n"
     ]
    },
    {
     "data": {
      "text/latex": [
       "$$\\begin{cases}\n",
       "(x_{1})' &= x_{2}\\\\\n",
       "(x_{2})' &= a x_{1}^{3} + b x_{2} + k x_{1}\\\\\n",
       "(x_{1}^{2})' &= 2 x_{1} x_{2}\n",
       "\\end{cases}$$"
      ],
      "text/plain": [
       "<IPython.core.display.Latex object>"
      ]
     },
     "metadata": {},
     "output_type": "display_data"
    },
    {
     "name": "stdout",
     "output_type": "stream",
     "text": [
      "The new introduced variables are: \n"
     ]
    },
    {
     "data": {
      "text/latex": [
       "$$\\begin{cases}\n",
       "w_{1} = x_{1}^{2} \\\\ \n",
       "\\end{cases}$$"
      ],
      "text/plain": [
       "<IPython.core.display.Latex object>"
      ]
     },
     "metadata": {},
     "output_type": "display_data"
    },
    {
     "name": "stdout",
     "output_type": "stream",
     "text": [
      "The Optimal Quadratic Dissipative System is (with substitution): \n"
     ]
    },
    {
     "data": {
      "text/latex": [
       "$$\\begin{cases}\n",
       "(x_{1})' &= x_{2}\\\\\n",
       "(x_{2})' &= a w_{1} x_{1} + b x_{2} + k x_{1}\\\\\n",
       "(w_{1})' &= 2 x_{1} x_{2}\n",
       "\\end{cases}$$"
      ],
      "text/plain": [
       "<IPython.core.display.Latex object>"
      ]
     },
     "metadata": {},
     "output_type": "display_data"
    },
    {
     "name": "stdout",
     "output_type": "stream",
     "text": [
      "------------------------------ Optimal Dissipative Quadratization ------------------------------\n",
      "The system contains symbolic constants. Therefore, we cannot make sure that the original system is dissipative.\n",
      "If the system can not jusity which eigenvalue is the largest one due to the symbolic constants, the program will choose the first one as the default value for the largest eigenvalue.\n",
      "The eigenvalue with the largest real part is (real part):  b/2 - sqrt(b**2 + 4*k)/2\n",
      "Mode: Default diagonal value, we will choose the largest eigenvalue as the diagonal value.\n",
      "The converted Optimal Dissipative Quadratization System is: \n"
     ]
    },
    {
     "data": {
      "text/latex": [
       "$$\\begin{cases}\n",
       "(x_{1})' &= x_{2}\\\\\n",
       "(x_{2})' &= a w_{1} x_{1} + b x_{2} + k x_{1}\\\\\n",
       "(w_{1})' &= w_{1} \\left(\\frac{b}{2} - \\frac{\\sqrt{b^{2} + 4 k}}{2}\\right) - x_{1}^{2} \\left(\\frac{b}{2} - \\frac{\\sqrt{b^{2} + 4 k}}{2}\\right) + 2 x_{1} x_{2}\n",
       "\\end{cases}$$"
      ],
      "text/plain": [
       "<IPython.core.display.Latex object>"
      ]
     },
     "metadata": {},
     "output_type": "display_data"
    },
    {
     "name": "stdout",
     "output_type": "stream",
     "text": [
      "The matrix  associated to the linear part system is:\n"
     ]
    },
    {
     "data": {
      "text/latex": [
       "$$\\left[\\begin{matrix}0 & 1 & 0\\\\k & b & 0\\\\0 & 0 & \\frac{b}{2} - \\frac{\\sqrt{b^{2} + 4 k}}{2}\\end{matrix}\\right]$$"
      ],
      "text/plain": [
       "<IPython.core.display.Latex object>"
      ]
     },
     "metadata": {},
     "output_type": "display_data"
    }
   ],
   "source": [
    "system = optimal_inner_quadratization(eq_system)\n",
    "result = optimal_dissipative_quadratization(eq_system, system[1], system[2], system[3])"
   ]
  },
  {
   "attachments": {},
   "cell_type": "markdown",
   "metadata": {},
   "source": [
    "### Example 3 from Optimal Monomial Quadratization\n",
    "\n",
    "---\n",
    "\n",
    "**Example 3.** Consider a system\n",
    "\n",
    "$$\n",
    "\\begin{cases}\n",
    "x_1^{\\prime}=x_2^4\\\\\n",
    "x_2^{\\prime}=x_1^2\n",
    "\\end{cases}\n",
    "\\Rightarrow\n",
    "\\begin{cases}\n",
    "x^{\\prime}=-3x + y^4\\\\\n",
    "y^{\\prime}=-2y + x^2\n",
    "\\end{cases}\n",
    "$$\n"
   ]
  },
  {
   "cell_type": "code",
   "execution_count": 4,
   "metadata": {},
   "outputs": [],
   "source": [
    "x, y = sp.var(\"x y\")\n",
    "\n",
    "system = [\n",
    "    sp.Eq(x, -3 * x + y**4),\n",
    "    sp.Eq(y, -2 * y + x**2),\n",
    "]\n",
    "\n",
    "eq_system = EquationSystem(system)"
   ]
  },
  {
   "cell_type": "code",
   "execution_count": 5,
   "metadata": {},
   "outputs": [
    {
     "name": "stdout",
     "output_type": "stream",
     "text": [
      "The Original System is: \n"
     ]
    },
    {
     "data": {
      "text/latex": [
       "$$\\begin{cases}\n",
       "(x)' &= - 3 x + y^{4}\\\\\n",
       "(y)' &= x^{2} - 2 y\n",
       "\\end{cases}$$"
      ],
      "text/plain": [
       "<IPython.core.display.Latex object>"
      ]
     },
     "metadata": {},
     "output_type": "display_data"
    },
    {
     "name": "stdout",
     "output_type": "stream",
     "text": [
      "The Optimal Dissipative Quadratization is: \n"
     ]
    },
    {
     "data": {
      "text/latex": [
       "$$\\begin{cases}\n",
       "(x)' &= - 3 x + y^{4}\\\\\n",
       "(y)' &= x^{2} - 2 y\\\\\n",
       "(x^{2})' &= - 6 x^{2} + 2 x y^{4}\\\\\n",
       "(y^{2})' &= 2 x^{2} y - 4 y^{2}\\\\\n",
       "(x y)' &= x^{3} - 5 x y + y^{5}\\\\\n",
       "(y^{3})' &= 3 x^{2} y^{2} - 6 y^{3}\n",
       "\\end{cases}$$"
      ],
      "text/plain": [
       "<IPython.core.display.Latex object>"
      ]
     },
     "metadata": {},
     "output_type": "display_data"
    },
    {
     "name": "stdout",
     "output_type": "stream",
     "text": [
      "The new introduced variables are: \n"
     ]
    },
    {
     "data": {
      "text/latex": [
       "$$\\begin{cases}\n",
       "w_{1} = x^{2} \\\\ w_{2} = y^{2} \\\\ w_{3} = x y \\\\ w_{4} = y^{3} \\\\ \n",
       "\\end{cases}$$"
      ],
      "text/plain": [
       "<IPython.core.display.Latex object>"
      ]
     },
     "metadata": {},
     "output_type": "display_data"
    },
    {
     "name": "stdout",
     "output_type": "stream",
     "text": [
      "The Optimal Quadratic Dissipative System is (with substitution): \n"
     ]
    },
    {
     "data": {
      "text/latex": [
       "$$\\begin{cases}\n",
       "(x)' &= w_{2}^{2} - 3 x\\\\\n",
       "(y)' &= x^{2} - 2 y\\\\\n",
       "(w_{1})' &= 2 w_{3} w_{4} - 6 x^{2}\\\\\n",
       "(w_{2})' &= 2 w_{3} x - 4 y^{2}\\\\\n",
       "(w_{3})' &= w_{1} x + w_{2} w_{4} - 5 x y\\\\\n",
       "(w_{4})' &= - 6 w_{2} y + 3 w_{3}^{2}\n",
       "\\end{cases}$$"
      ],
      "text/plain": [
       "<IPython.core.display.Latex object>"
      ]
     },
     "metadata": {},
     "output_type": "display_data"
    },
    {
     "name": "stdout",
     "output_type": "stream",
     "text": [
      "------------------------------ Optimal Dissipative Quadratization ------------------------------\n",
      "The eigenvalue with the largest real part is (real part):  -2.0\n",
      "Mode: Default diagonal value, we will choose the largest eigenvalue as the diagonal value.\n",
      "The converted Optimal Dissipative Quadratization System is: \n"
     ]
    },
    {
     "data": {
      "text/latex": [
       "$$\\begin{cases}\n",
       "(x)' &= w_{2}^{2} - 3 x\\\\\n",
       "(y)' &= x^{2} - 2 y\\\\\n",
       "(w_{1})' &= - 2.0 w_{1} + 2 w_{3} w_{4} - 4.0 x^{2}\\\\\n",
       "(w_{2})' &= - 2.0 w_{2} + 2 w_{3} x - 2.0 y^{2}\\\\\n",
       "(w_{3})' &= w_{1} x + w_{2} w_{4} - 2.0 w_{3} - 3.0 x y\\\\\n",
       "(w_{4})' &= - 4.0 w_{2} y + 3 w_{3}^{2} - 2.0 w_{4}\n",
       "\\end{cases}$$"
      ],
      "text/plain": [
       "<IPython.core.display.Latex object>"
      ]
     },
     "metadata": {},
     "output_type": "display_data"
    },
    {
     "name": "stdout",
     "output_type": "stream",
     "text": [
      "The matrix  associated to the linear part system is:\n"
     ]
    },
    {
     "data": {
      "text/latex": [
       "$$\\left[\\begin{matrix}-3 & 0 & 0 & 0 & 0 & 0\\\\0 & -2 & 0 & 0 & 0 & 0\\\\0 & 0 & -2.0 & 0 & 0 & 0\\\\0 & 0 & 0 & -2.0 & 0 & 0\\\\0 & 0 & 0 & 0 & -2.0 & 0\\\\0 & 0 & 0 & 0 & 0 & -2.0\\end{matrix}\\right]$$"
      ],
      "text/plain": [
       "<IPython.core.display.Latex object>"
      ]
     },
     "metadata": {},
     "output_type": "display_data"
    }
   ],
   "source": [
    "system = optimal_inner_quadratization(eq_system)\n",
    "result = optimal_dissipative_quadratization(eq_system, system[1], system[2], system[3])"
   ]
  },
  {
   "attachments": {},
   "cell_type": "markdown",
   "metadata": {},
   "source": [
    "### Larger size example - with higher degree and dimension\n",
    "\n",
    "---\n",
    "\n",
    "Consider the following system:\n",
    "\n",
    "$$\n",
    "\\begin{cases}\n",
    "x_{1}'=\\alpha x_{2} + x_{1} \\\\\n",
    "x_{2}'=x_{1}^{2} + x_{2}^{2} \\\\\n",
    "x_{3}'=\\beta x_{2} + \\gamma^{2} x_{1}^{2} x_{3} + x_{1}\n",
    "\\end{cases}\n",
    "$$\n"
   ]
  },
  {
   "cell_type": "code",
   "execution_count": 6,
   "metadata": {},
   "outputs": [],
   "source": [
    "x1, x2, x3 = sp.var(\"x1 x2 x3\")\n",
    "alpha = sp.Symbol(\"alpha\")\n",
    "beta = sp.Symbol(\"beta\")\n",
    "gamma = sp.Symbol(\"gamma\")\n",
    "\n",
    "system = [\n",
    "    sp.Eq(x1, - x1 + alpha * x2),\n",
    "    sp.Eq(x2, x1 ** 2 + x2 ** 2 - x2),\n",
    "    sp.Eq(x3, x1 + beta * x2 + gamma ** 2 * x3 * x1 ** 2 - x3)\n",
    "]\n",
    "\n",
    "eq_system = EquationSystem(system)"
   ]
  },
  {
   "cell_type": "code",
   "execution_count": 7,
   "metadata": {},
   "outputs": [
    {
     "name": "stdout",
     "output_type": "stream",
     "text": [
      "The Original System is: \n"
     ]
    },
    {
     "data": {
      "text/latex": [
       "$$\\begin{cases}\n",
       "(x_{1})' &= \\alpha x_{2} - x_{1}\\\\\n",
       "(x_{2})' &= x_{1}^{2} + x_{2}^{2} - x_{2}\\\\\n",
       "(x_{3})' &= \\beta x_{2} + \\gamma^{2} x_{1}^{2} x_{3} + x_{1} - x_{3}\n",
       "\\end{cases}$$"
      ],
      "text/plain": [
       "<IPython.core.display.Latex object>"
      ]
     },
     "metadata": {},
     "output_type": "display_data"
    },
    {
     "name": "stdout",
     "output_type": "stream",
     "text": [
      "The Optimal Dissipative Quadratization is: \n"
     ]
    },
    {
     "data": {
      "text/latex": [
       "$$\\begin{cases}\n",
       "(x_{1})' &= \\alpha x_{2} - x_{1}\\\\\n",
       "(x_{2})' &= x_{1}^{2} + x_{2}^{2} - x_{2}\\\\\n",
       "(x_{3})' &= \\beta x_{2} + \\gamma^{2} x_{1}^{2} x_{3} + x_{1} - x_{3}\\\\\n",
       "(x_{1}^{2})' &= 2 \\alpha x_{1} x_{2} - 2 x_{1}^{2}\n",
       "\\end{cases}$$"
      ],
      "text/plain": [
       "<IPython.core.display.Latex object>"
      ]
     },
     "metadata": {},
     "output_type": "display_data"
    },
    {
     "name": "stdout",
     "output_type": "stream",
     "text": [
      "The new introduced variables are: \n"
     ]
    },
    {
     "data": {
      "text/latex": [
       "$$\\begin{cases}\n",
       "w_{1} = x_{1}^{2} \\\\ \n",
       "\\end{cases}$$"
      ],
      "text/plain": [
       "<IPython.core.display.Latex object>"
      ]
     },
     "metadata": {},
     "output_type": "display_data"
    },
    {
     "name": "stdout",
     "output_type": "stream",
     "text": [
      "The Optimal Quadratic Dissipative System is (with substitution): \n"
     ]
    },
    {
     "data": {
      "text/latex": [
       "$$\\begin{cases}\n",
       "(x_{1})' &= \\alpha x_{2} - x_{1}\\\\\n",
       "(x_{2})' &= x_{1}^{2} + x_{2}^{2} - x_{2}\\\\\n",
       "(x_{3})' &= \\beta x_{2} + \\gamma^{2} w_{1} x_{3} + x_{1} - x_{3}\\\\\n",
       "(w_{1})' &= 2 \\alpha x_{1} x_{2} - 2 x_{1}^{2}\n",
       "\\end{cases}$$"
      ],
      "text/plain": [
       "<IPython.core.display.Latex object>"
      ]
     },
     "metadata": {},
     "output_type": "display_data"
    }
   ],
   "source": [
    "system = optimal_inner_quadratization(eq_system)\n",
    "system, introduced_variables, map_variables = system[1], system[2], system[3]"
   ]
  },
  {
   "cell_type": "code",
   "execution_count": 8,
   "metadata": {},
   "outputs": [
    {
     "name": "stdout",
     "output_type": "stream",
     "text": [
      "------------------------------ Optimal Dissipative Quadratization ------------------------------\n",
      "The system contains symbolic constants. Therefore, we cannot make sure that the original system is dissipative.\n",
      "If the system can not jusity which eigenvalue is the largest one due to the symbolic constants, the program will choose the first one as the default value for the largest eigenvalue.\n",
      "The eigenvalue with the largest real part is (real part):  -1\n",
      "Mode: Default diagonal value, we will choose the largest eigenvalue as the diagonal value.\n",
      "The converted Optimal Dissipative Quadratization System is: \n"
     ]
    },
    {
     "data": {
      "text/latex": [
       "$$\\begin{cases}\n",
       "(x_{1})' &= \\alpha x_{2} - x_{1}\\\\\n",
       "(x_{2})' &= x_{1}^{2} + x_{2}^{2} - x_{2}\\\\\n",
       "(x_{3})' &= \\beta x_{2} + \\gamma^{2} w_{1} x_{3} + x_{1} - x_{3}\\\\\n",
       "(w_{1})' &= 2 \\alpha x_{1} x_{2} - w_{1} - x_{1}^{2}\n",
       "\\end{cases}$$"
      ],
      "text/plain": [
       "<IPython.core.display.Latex object>"
      ]
     },
     "metadata": {},
     "output_type": "display_data"
    },
    {
     "name": "stdout",
     "output_type": "stream",
     "text": [
      "The matrix  associated to the linear part system is:\n"
     ]
    },
    {
     "data": {
      "text/latex": [
       "$$\\left[\\begin{matrix}-1 & \\alpha & 0 & 0\\\\0 & -1 & 0 & 0\\\\1 & \\beta & -1 & 0\\\\0 & 0 & 0 & -1\\end{matrix}\\right]$$"
      ],
      "text/plain": [
       "<IPython.core.display.Latex object>"
      ]
     },
     "metadata": {},
     "output_type": "display_data"
    }
   ],
   "source": [
    "result = optimal_dissipative_quadratization(eq_system, system, introduced_variables, map_variables)"
   ]
  },
  {
   "attachments": {},
   "cell_type": "markdown",
   "metadata": {},
   "source": [
    "---\n",
    "\n",
    "Here is an example with more computational complexity. Consider the following system:\n",
    "\n",
    "$$\n",
    "\\left\\{\\begin{array}{l}\n",
    "\\left(x_1\\right)^{\\prime}=x_2^7 \\\\\n",
    "\\left(x_2\\right)^{\\prime}=x_1^3\n",
    "\\end{array}\\right.\n",
    "$$\n"
   ]
  },
  {
   "cell_type": "code",
   "execution_count": 9,
   "metadata": {},
   "outputs": [
    {
     "name": "stdout",
     "output_type": "stream",
     "text": [
      "The Original System is: \n"
     ]
    },
    {
     "data": {
      "text/latex": [
       "$$\\begin{cases}\n",
       "(x_{1})' &= x_{2}^{7}\\\\\n",
       "(x_{2})' &= x_{1}^{3}\n",
       "\\end{cases}$$"
      ],
      "text/plain": [
       "<IPython.core.display.Latex object>"
      ]
     },
     "metadata": {},
     "output_type": "display_data"
    },
    {
     "name": "stdout",
     "output_type": "stream",
     "text": [
      "The Optimal Dissipative Quadratization is: \n"
     ]
    },
    {
     "data": {
      "text/latex": [
       "$$\\begin{cases}\n",
       "(x_{1})' &= x_{2}^{7}\\\\\n",
       "(x_{2})' &= x_{1}^{3}\\\\\n",
       "(x_{1}^{3})' &= 3 x_{1}^{2} x_{2}^{7}\\\\\n",
       "(x_{2}^{4})' &= 4 x_{1}^{3} x_{2}^{3}\\\\\n",
       "(x_{1} x_{2}^{2})' &= 2 x_{1}^{4} x_{2} + x_{2}^{9}\\\\\n",
       "(x_{1}^{2})' &= 2 x_{1} x_{2}^{7}\\\\\n",
       "(x_{2}^{6})' &= 6 x_{1}^{3} x_{2}^{5}\\\\\n",
       "(x_{2}^{2})' &= 2 x_{1}^{3} x_{2}\\\\\n",
       "(x_{1}^{2} x_{2})' &= x_{1}^{5} + 2 x_{1} x_{2}^{8}\\\\\n",
       "(x_{2}^{5})' &= 5 x_{1}^{3} x_{2}^{4}\n",
       "\\end{cases}$$"
      ],
      "text/plain": [
       "<IPython.core.display.Latex object>"
      ]
     },
     "metadata": {},
     "output_type": "display_data"
    },
    {
     "name": "stdout",
     "output_type": "stream",
     "text": [
      "The new introduced variables are: \n"
     ]
    },
    {
     "data": {
      "text/latex": [
       "$$\\begin{cases}\n",
       "w_{1} = x_{1}^{3} \\\\ w_{2} = x_{2}^{4} \\\\ w_{3} = x_{1} x_{2}^{2} \\\\ w_{4} = x_{1}^{2} \\\\ w_{5} = x_{2}^{6} \\\\ w_{6} = x_{2}^{2} \\\\ w_{7} = x_{1}^{2} x_{2} \\\\ w_{8} = x_{2}^{5} \\\\ \n",
       "\\end{cases}$$"
      ],
      "text/plain": [
       "<IPython.core.display.Latex object>"
      ]
     },
     "metadata": {},
     "output_type": "display_data"
    },
    {
     "name": "stdout",
     "output_type": "stream",
     "text": [
      "The Optimal Quadratic Dissipative System is (with substitution): \n"
     ]
    },
    {
     "data": {
      "text/latex": [
       "$$\\begin{cases}\n",
       "(x_{1})' &= w_{6} w_{8}\\\\\n",
       "(x_{2})' &= w_{4} x_{1}\\\\\n",
       "(w_{1})' &= 3 w_{5} w_{7}\\\\\n",
       "(w_{2})' &= 4 w_{3} w_{7}\\\\\n",
       "(w_{3})' &= w_{2} w_{8} + 2 w_{4} w_{7}\\\\\n",
       "(w_{4})' &= 2 w_{3} w_{8}\\\\\n",
       "(w_{5})' &= 6 w_{1} w_{8}\\\\\n",
       "(w_{6})' &= 2 w_{7} x_{1}\\\\\n",
       "(w_{7})' &= w_{1} w_{4} + 2 w_{3} w_{5}\\\\\n",
       "(w_{8})' &= 5 w_{1} w_{2}\n",
       "\\end{cases}$$"
      ],
      "text/plain": [
       "<IPython.core.display.Latex object>"
      ]
     },
     "metadata": {},
     "output_type": "display_data"
    }
   ],
   "source": [
    "system = [\n",
    "    sp.Eq(x1, x2**9),\n",
    "    sp.Eq(x2, x1**4),\n",
    "]\n",
    "\n",
    "eq_system = EquationSystem(system)\n",
    "system = optimal_inner_quadratization(eq_system)"
   ]
  },
  {
   "cell_type": "code",
   "execution_count": 12,
   "metadata": {},
   "outputs": [
    {
     "ename": "KeyboardInterrupt",
     "evalue": "",
     "output_type": "error",
     "traceback": [
      "\u001b[0;31m---------------------------------------------------------------------------\u001b[0m",
      "\u001b[0;31mKeyError\u001b[0m                                  Traceback (most recent call last)",
      "File \u001b[0;32m~/anaconda3/envs/mlp/lib/python3.9/site-packages/sympy/core/assumptions.py:479\u001b[0m, in \u001b[0;36mmake_property.<locals>.getit\u001b[0;34m(self)\u001b[0m\n\u001b[1;32m    478\u001b[0m \u001b[39mtry\u001b[39;00m:\n\u001b[0;32m--> 479\u001b[0m     \u001b[39mreturn\u001b[39;00m \u001b[39mself\u001b[39;49m\u001b[39m.\u001b[39;49m_assumptions[fact]\n\u001b[1;32m    480\u001b[0m \u001b[39mexcept\u001b[39;00m \u001b[39mKeyError\u001b[39;00m:\n",
      "\u001b[0;31mKeyError\u001b[0m: 'zero'",
      "\nDuring handling of the above exception, another exception occurred:\n",
      "\u001b[0;31mKeyError\u001b[0m                                  Traceback (most recent call last)",
      "File \u001b[0;32m~/anaconda3/envs/mlp/lib/python3.9/site-packages/sympy/core/assumptions.py:479\u001b[0m, in \u001b[0;36mmake_property.<locals>.getit\u001b[0;34m(self)\u001b[0m\n\u001b[1;32m    478\u001b[0m \u001b[39mtry\u001b[39;00m:\n\u001b[0;32m--> 479\u001b[0m     \u001b[39mreturn\u001b[39;00m \u001b[39mself\u001b[39;49m\u001b[39m.\u001b[39;49m_assumptions[fact]\n\u001b[1;32m    480\u001b[0m \u001b[39mexcept\u001b[39;00m \u001b[39mKeyError\u001b[39;00m:\n",
      "\u001b[0;31mKeyError\u001b[0m: 'extended_positive'",
      "\nDuring handling of the above exception, another exception occurred:\n",
      "\u001b[0;31mKeyboardInterrupt\u001b[0m                         Traceback (most recent call last)",
      "Cell \u001b[0;32mIn[12], line 7\u001b[0m\n\u001b[1;32m      1\u001b[0m system \u001b[39m=\u001b[39m [\n\u001b[1;32m      2\u001b[0m     sp\u001b[39m.\u001b[39mEq(x1, x2\u001b[39m*\u001b[39m\u001b[39m*\u001b[39m\u001b[39m9\u001b[39m),\n\u001b[1;32m      3\u001b[0m     sp\u001b[39m.\u001b[39mEq(x2, x1\u001b[39m*\u001b[39m\u001b[39m*\u001b[39m\u001b[39m4\u001b[39m),\n\u001b[1;32m      4\u001b[0m ]\n\u001b[1;32m      6\u001b[0m eq_system \u001b[39m=\u001b[39m EquationSystem(system)\n\u001b[0;32m----> 7\u001b[0m system \u001b[39m=\u001b[39m OptimalInnerQuadratization(eq_system)\n",
      "File \u001b[0;32m~/Desktop/Ecole Polytechnique/Internship/MAX/Project/Dissipative-Quadratiation-Package/Test/../Package/DQuadratization.py:78\u001b[0m, in \u001b[0;36mOptimalInnerQuadratization\u001b[0;34m(system)\u001b[0m\n\u001b[1;32m     67\u001b[0m \u001b[39mdef\u001b[39;00m \u001b[39mOptimalInnerQuadratization\u001b[39m(system: EquationSystem):\n\u001b[1;32m     68\u001b[0m \u001b[39m    \u001b[39m\u001b[39m\"\"\"\u001b[39;00m\n\u001b[1;32m     69\u001b[0m \u001b[39m    Role: find the optimal inner quadratization of a system\u001b[39;00m\n\u001b[1;32m     70\u001b[0m \u001b[39m    Input: \u001b[39;00m\n\u001b[0;32m   (...)\u001b[0m\n\u001b[1;32m     76\u001b[0m \u001b[39m        - map_variables: the dictionary of the mapping between the new introduced variables and the original variables, e.g. {w1: x1 ** 2}\u001b[39;00m\n\u001b[1;32m     77\u001b[0m \u001b[39m    \"\"\"\u001b[39;00m\n\u001b[0;32m---> 78\u001b[0m     d \u001b[39m=\u001b[39m system\u001b[39m.\u001b[39mdegree\n\u001b[1;32m     79\u001b[0m     optimal_result \u001b[39m=\u001b[39m [\u001b[39mNone\u001b[39;00m]\n\u001b[1;32m     80\u001b[0m     InnerQuadratization(system, d, optimal_result)\n",
      "File \u001b[0;32m~/Desktop/Ecole Polytechnique/Internship/MAX/Project/Dissipative-Quadratiation-Package/Test/../Package/DQuadratization.py:62\u001b[0m, in \u001b[0;36mInnerQuadratization\u001b[0;34m(system, d, optimal_result)\u001b[0m\n\u001b[1;32m     60\u001b[0m         continue\n\u001b[1;32m     61\u001b[0m     subproblem_list.append(update_system(system, subproblem))\n\u001b[0;32m---> 62\u001b[0m     # subproblem_list.append(calculate_new_subproblem(system, subproblem))\n\u001b[1;32m     63\u001b[0m for subproblem in subproblem_list:\n\u001b[1;32m     64\u001b[0m     InnerQuadratization(subproblem, d, optimal_result)\n",
      "File \u001b[0;32m~/Desktop/Ecole Polytechnique/Internship/MAX/Project/Dissipative-Quadratiation-Package/Test/../Package/DQuadratization.py:62\u001b[0m, in \u001b[0;36mInnerQuadratization\u001b[0;34m(system, d, optimal_result)\u001b[0m\n\u001b[1;32m     60\u001b[0m         continue\n\u001b[1;32m     61\u001b[0m     subproblem_list.append(update_system(system, subproblem))\n\u001b[0;32m---> 62\u001b[0m     # subproblem_list.append(calculate_new_subproblem(system, subproblem))\n\u001b[1;32m     63\u001b[0m for subproblem in subproblem_list:\n\u001b[1;32m     64\u001b[0m     InnerQuadratization(subproblem, d, optimal_result)\n",
      "    \u001b[0;31m[... skipping similar frames: InnerQuadratization at line 62 (8 times)]\u001b[0m\n",
      "File \u001b[0;32m~/Desktop/Ecole Polytechnique/Internship/MAX/Project/Dissipative-Quadratiation-Package/Test/../Package/DQuadratization.py:62\u001b[0m, in \u001b[0;36mInnerQuadratization\u001b[0;34m(system, d, optimal_result)\u001b[0m\n\u001b[1;32m     60\u001b[0m         continue\n\u001b[1;32m     61\u001b[0m     subproblem_list.append(update_system(system, subproblem))\n\u001b[0;32m---> 62\u001b[0m     # subproblem_list.append(calculate_new_subproblem(system, subproblem))\n\u001b[1;32m     63\u001b[0m for subproblem in subproblem_list:\n\u001b[1;32m     64\u001b[0m     InnerQuadratization(subproblem, d, optimal_result)\n",
      "File \u001b[0;32m~/Desktop/Ecole Polytechnique/Internship/MAX/Project/Dissipative-Quadratiation-Package/Test/../Package/DQuadratization.py:54\u001b[0m, in \u001b[0;36mInnerQuadratization\u001b[0;34m(system, d, optimal_result)\u001b[0m\n\u001b[1;32m     51\u001b[0m         optimal_result[\u001b[39m0\u001b[39m] \u001b[39m=\u001b[39m system\u001b[39m.\u001b[39mvariables\n\u001b[1;32m     52\u001b[0m     \u001b[39m# else:\u001b[39;00m\n\u001b[1;32m     53\u001b[0m     \u001b[39m#     print(str(system.variables))\u001b[39;00m\n\u001b[0;32m---> 54\u001b[0m     \u001b[39mreturn\u001b[39;00m\n\u001b[1;32m     56\u001b[0m subproblem_set \u001b[39m=\u001b[39m decompose_variable(system, d)[\u001b[39m1\u001b[39m]\n\u001b[1;32m     57\u001b[0m subproblem_list \u001b[39m=\u001b[39m []\n",
      "File \u001b[0;32m~/Desktop/Ecole Polytechnique/Internship/MAX/Project/Dissipative-Quadratiation-Package/Test/../Package/EquationSystem.py:230\u001b[0m, in \u001b[0;36mdecompose_variable\u001b[0;34m(system, d)\u001b[0m\n\u001b[1;32m    228\u001b[0m \u001b[39mfor\u001b[39;00m decompose \u001b[39min\u001b[39;00m decomposition:\n\u001b[1;32m    229\u001b[0m     res \u001b[39m=\u001b[39m []\n\u001b[0;32m--> 230\u001b[0m     \u001b[39mfor\u001b[39;00m i \u001b[39min\u001b[39;00m \u001b[39mrange\u001b[39m(\u001b[39m2\u001b[39m):\n\u001b[1;32m    231\u001b[0m         \u001b[39mif\u001b[39;00m degree_function(decompose[i]) \u001b[39m<\u001b[39m d \u001b[39mand\u001b[39;00m decompose[i] \u001b[39mnot\u001b[39;00m \u001b[39min\u001b[39;00m system\u001b[39m.\u001b[39mV:\n\u001b[1;32m    232\u001b[0m             res\u001b[39m.\u001b[39mappend(decompose[i])\n",
      "File \u001b[0;32m~/Desktop/Ecole Polytechnique/Internship/MAX/Project/Dissipative-Quadratiation-Package/Test/../Package/Combinations.py:22\u001b[0m, in \u001b[0;36mdegree_function\u001b[0;34m(polynomial)\u001b[0m\n\u001b[1;32m     18\u001b[0m \u001b[39mdef\u001b[39;00m \u001b[39mdegree_function\u001b[39m(polynomial):\n\u001b[1;32m     19\u001b[0m \u001b[39m    \u001b[39m\u001b[39m\"\"\"\u001b[39;00m\n\u001b[1;32m     20\u001b[0m \u001b[39m    Role: Compute the degree of a polynomial\u001b[39;00m\n\u001b[1;32m     21\u001b[0m \u001b[39m    \"\"\"\u001b[39;00m\n\u001b[0;32m---> 22\u001b[0m     \u001b[39mif\u001b[39;00m polynomial\u001b[39m.\u001b[39;49mis_constant():\n\u001b[1;32m     23\u001b[0m         \u001b[39mreturn\u001b[39;00m \u001b[39m0\u001b[39m\n\u001b[1;32m     24\u001b[0m     \u001b[39mreturn\u001b[39;00m \u001b[39msum\u001b[39m(sp\u001b[39m.\u001b[39mdegree_list(polynomial))\n",
      "File \u001b[0;32m~/anaconda3/envs/mlp/lib/python3.9/site-packages/sympy/core/expr.py:670\u001b[0m, in \u001b[0;36mExpr.is_constant\u001b[0;34m(self, *wrt, **flags)\u001b[0m\n\u001b[1;32m    668\u001b[0m \u001b[39mif\u001b[39;00m a \u001b[39mis\u001b[39;00m \u001b[39mnot\u001b[39;00m \u001b[39mNone\u001b[39;00m \u001b[39mand\u001b[39;00m a \u001b[39mis\u001b[39;00m \u001b[39mnot\u001b[39;00m S\u001b[39m.\u001b[39mNaN:\n\u001b[1;32m    669\u001b[0m     \u001b[39mtry\u001b[39;00m:\n\u001b[0;32m--> 670\u001b[0m         b \u001b[39m=\u001b[39m expr\u001b[39m.\u001b[39;49msubs(\u001b[39mlist\u001b[39;49m(\u001b[39mzip\u001b[39;49m(free, [\u001b[39m1\u001b[39;49m]\u001b[39m*\u001b[39;49m\u001b[39mlen\u001b[39;49m(free))),\n\u001b[1;32m    671\u001b[0m             simultaneous\u001b[39m=\u001b[39;49m\u001b[39mTrue\u001b[39;49;00m)\n\u001b[1;32m    672\u001b[0m         \u001b[39mif\u001b[39;00m b \u001b[39mis\u001b[39;00m S\u001b[39m.\u001b[39mNaN:\n\u001b[1;32m    673\u001b[0m             \u001b[39m# evaluation may succeed when substitution fails\u001b[39;00m\n\u001b[1;32m    674\u001b[0m             b \u001b[39m=\u001b[39m expr\u001b[39m.\u001b[39m_random(\u001b[39mNone\u001b[39;00m, \u001b[39m1\u001b[39m, \u001b[39m0\u001b[39m, \u001b[39m1\u001b[39m, \u001b[39m0\u001b[39m)\n",
      "File \u001b[0;32m~/anaconda3/envs/mlp/lib/python3.9/site-packages/sympy/core/basic.py:988\u001b[0m, in \u001b[0;36mBasic.subs\u001b[0;34m(self, *args, **kwargs)\u001b[0m\n\u001b[1;32m    984\u001b[0m d \u001b[39m=\u001b[39m Dummy(\u001b[39m'\u001b[39m\u001b[39msubs_d\u001b[39m\u001b[39m'\u001b[39m, commutative\u001b[39m=\u001b[39mcom)\n\u001b[1;32m    985\u001b[0m \u001b[39m# using d*m so Subs will be used on dummy variables\u001b[39;00m\n\u001b[1;32m    986\u001b[0m \u001b[39m# in things like Derivative(f(x, y), x) in which x\u001b[39;00m\n\u001b[1;32m    987\u001b[0m \u001b[39m# is both free and bound\u001b[39;00m\n\u001b[0;32m--> 988\u001b[0m rv \u001b[39m=\u001b[39m rv\u001b[39m.\u001b[39;49m_subs(old, d\u001b[39m*\u001b[39;49mm, \u001b[39m*\u001b[39;49m\u001b[39m*\u001b[39;49mkwargs)\n\u001b[1;32m    989\u001b[0m \u001b[39mif\u001b[39;00m \u001b[39mnot\u001b[39;00m \u001b[39misinstance\u001b[39m(rv, Basic):\n\u001b[1;32m    990\u001b[0m     \u001b[39mbreak\u001b[39;00m\n",
      "File \u001b[0;32m~/anaconda3/envs/mlp/lib/python3.9/site-packages/sympy/core/cache.py:70\u001b[0m, in \u001b[0;36m__cacheit.<locals>.func_wrapper.<locals>.wrapper\u001b[0;34m(*args, **kwargs)\u001b[0m\n\u001b[1;32m     67\u001b[0m \u001b[39m@wraps\u001b[39m(func)\n\u001b[1;32m     68\u001b[0m \u001b[39mdef\u001b[39;00m \u001b[39mwrapper\u001b[39m(\u001b[39m*\u001b[39margs, \u001b[39m*\u001b[39m\u001b[39m*\u001b[39mkwargs):\n\u001b[1;32m     69\u001b[0m     \u001b[39mtry\u001b[39;00m:\n\u001b[0;32m---> 70\u001b[0m         retval \u001b[39m=\u001b[39m cfunc(\u001b[39m*\u001b[39;49margs, \u001b[39m*\u001b[39;49m\u001b[39m*\u001b[39;49mkwargs)\n\u001b[1;32m     71\u001b[0m     \u001b[39mexcept\u001b[39;00m \u001b[39mTypeError\u001b[39;00m \u001b[39mas\u001b[39;00m e:\n\u001b[1;32m     72\u001b[0m         \u001b[39mif\u001b[39;00m \u001b[39mnot\u001b[39;00m e\u001b[39m.\u001b[39margs \u001b[39mor\u001b[39;00m \u001b[39mnot\u001b[39;00m e\u001b[39m.\u001b[39margs[\u001b[39m0\u001b[39m]\u001b[39m.\u001b[39mstartswith(\u001b[39m'\u001b[39m\u001b[39munhashable type:\u001b[39m\u001b[39m'\u001b[39m):\n",
      "File \u001b[0;32m~/anaconda3/envs/mlp/lib/python3.9/site-packages/sympy/core/basic.py:1111\u001b[0m, in \u001b[0;36mBasic._subs\u001b[0;34m(self, old, new, **hints)\u001b[0m\n\u001b[1;32m   1109\u001b[0m rv \u001b[39m=\u001b[39m \u001b[39mself\u001b[39m\u001b[39m.\u001b[39m_eval_subs(old, new)\n\u001b[1;32m   1110\u001b[0m \u001b[39mif\u001b[39;00m rv \u001b[39mis\u001b[39;00m \u001b[39mNone\u001b[39;00m:\n\u001b[0;32m-> 1111\u001b[0m     rv \u001b[39m=\u001b[39m fallback(\u001b[39mself\u001b[39;49m, old, new)\n\u001b[1;32m   1112\u001b[0m \u001b[39mreturn\u001b[39;00m rv\n",
      "File \u001b[0;32m~/anaconda3/envs/mlp/lib/python3.9/site-packages/sympy/core/basic.py:1083\u001b[0m, in \u001b[0;36mBasic._subs.<locals>.fallback\u001b[0;34m(self, old, new)\u001b[0m\n\u001b[1;32m   1081\u001b[0m \u001b[39mif\u001b[39;00m \u001b[39mnot\u001b[39;00m \u001b[39mhasattr\u001b[39m(arg, \u001b[39m'\u001b[39m\u001b[39m_eval_subs\u001b[39m\u001b[39m'\u001b[39m):\n\u001b[1;32m   1082\u001b[0m     \u001b[39mcontinue\u001b[39;00m\n\u001b[0;32m-> 1083\u001b[0m arg \u001b[39m=\u001b[39m arg\u001b[39m.\u001b[39;49m_subs(old, new, \u001b[39m*\u001b[39;49m\u001b[39m*\u001b[39;49mhints)\n\u001b[1;32m   1084\u001b[0m \u001b[39mif\u001b[39;00m \u001b[39mnot\u001b[39;00m _aresame(arg, args[i]):\n\u001b[1;32m   1085\u001b[0m     hit \u001b[39m=\u001b[39m \u001b[39mTrue\u001b[39;00m\n",
      "File \u001b[0;32m~/anaconda3/envs/mlp/lib/python3.9/site-packages/sympy/core/cache.py:70\u001b[0m, in \u001b[0;36m__cacheit.<locals>.func_wrapper.<locals>.wrapper\u001b[0;34m(*args, **kwargs)\u001b[0m\n\u001b[1;32m     67\u001b[0m \u001b[39m@wraps\u001b[39m(func)\n\u001b[1;32m     68\u001b[0m \u001b[39mdef\u001b[39;00m \u001b[39mwrapper\u001b[39m(\u001b[39m*\u001b[39margs, \u001b[39m*\u001b[39m\u001b[39m*\u001b[39mkwargs):\n\u001b[1;32m     69\u001b[0m     \u001b[39mtry\u001b[39;00m:\n\u001b[0;32m---> 70\u001b[0m         retval \u001b[39m=\u001b[39m cfunc(\u001b[39m*\u001b[39;49margs, \u001b[39m*\u001b[39;49m\u001b[39m*\u001b[39;49mkwargs)\n\u001b[1;32m     71\u001b[0m     \u001b[39mexcept\u001b[39;00m \u001b[39mTypeError\u001b[39;00m \u001b[39mas\u001b[39;00m e:\n\u001b[1;32m     72\u001b[0m         \u001b[39mif\u001b[39;00m \u001b[39mnot\u001b[39;00m e\u001b[39m.\u001b[39margs \u001b[39mor\u001b[39;00m \u001b[39mnot\u001b[39;00m e\u001b[39m.\u001b[39margs[\u001b[39m0\u001b[39m]\u001b[39m.\u001b[39mstartswith(\u001b[39m'\u001b[39m\u001b[39munhashable type:\u001b[39m\u001b[39m'\u001b[39m):\n",
      "File \u001b[0;32m~/anaconda3/envs/mlp/lib/python3.9/site-packages/sympy/core/basic.py:1109\u001b[0m, in \u001b[0;36mBasic._subs\u001b[0;34m(self, old, new, **hints)\u001b[0m\n\u001b[1;32m   1106\u001b[0m \u001b[39mif\u001b[39;00m _aresame(\u001b[39mself\u001b[39m, old):\n\u001b[1;32m   1107\u001b[0m     \u001b[39mreturn\u001b[39;00m new\n\u001b[0;32m-> 1109\u001b[0m rv \u001b[39m=\u001b[39m \u001b[39mself\u001b[39;49m\u001b[39m.\u001b[39;49m_eval_subs(old, new)\n\u001b[1;32m   1110\u001b[0m \u001b[39mif\u001b[39;00m rv \u001b[39mis\u001b[39;00m \u001b[39mNone\u001b[39;00m:\n\u001b[1;32m   1111\u001b[0m     rv \u001b[39m=\u001b[39m fallback(\u001b[39mself\u001b[39m, old, new)\n",
      "File \u001b[0;32m~/anaconda3/envs/mlp/lib/python3.9/site-packages/sympy/core/power.py:907\u001b[0m, in \u001b[0;36mPow._eval_subs\u001b[0;34m(self, old, new)\u001b[0m\n\u001b[1;32m    905\u001b[0m         \u001b[39mreturn\u001b[39;00m new(\u001b[39mself\u001b[39m\u001b[39m.\u001b[39mexp\u001b[39m.\u001b[39m_subs(old, new))\n\u001b[1;32m    906\u001b[0m     \u001b[39melse\u001b[39;00m:\n\u001b[0;32m--> 907\u001b[0m         \u001b[39mreturn\u001b[39;00m new\u001b[39m*\u001b[39;49m\u001b[39m*\u001b[39;49m\u001b[39mself\u001b[39;49m\u001b[39m.\u001b[39;49mexp\u001b[39m.\u001b[39;49m_subs(old, new)\n\u001b[1;32m    909\u001b[0m \u001b[39m# issue 10829: (4**x - 3*y + 2).subs(2**x, y) -> y**2 - 3*y + 2\u001b[39;00m\n\u001b[1;32m    910\u001b[0m \u001b[39mif\u001b[39;00m \u001b[39misinstance\u001b[39m(old, \u001b[39mself\u001b[39m\u001b[39m.\u001b[39mfunc) \u001b[39mand\u001b[39;00m \u001b[39mself\u001b[39m\u001b[39m.\u001b[39mexp \u001b[39m==\u001b[39m old\u001b[39m.\u001b[39mexp:\n",
      "File \u001b[0;32m~/anaconda3/envs/mlp/lib/python3.9/site-packages/sympy/core/expr.py:232\u001b[0m, in \u001b[0;36mExpr.__pow__\u001b[0;34m(self, other, mod)\u001b[0m\n\u001b[1;32m    230\u001b[0m \u001b[39mdef\u001b[39;00m \u001b[39m__pow__\u001b[39m(\u001b[39mself\u001b[39m, other, mod\u001b[39m=\u001b[39m\u001b[39mNone\u001b[39;00m) \u001b[39m-\u001b[39m\u001b[39m>\u001b[39m Expr:\n\u001b[1;32m    231\u001b[0m     \u001b[39mif\u001b[39;00m mod \u001b[39mis\u001b[39;00m \u001b[39mNone\u001b[39;00m:\n\u001b[0;32m--> 232\u001b[0m         \u001b[39mreturn\u001b[39;00m \u001b[39mself\u001b[39;49m\u001b[39m.\u001b[39;49m_pow(other)\n\u001b[1;32m    233\u001b[0m     \u001b[39mtry\u001b[39;00m:\n\u001b[1;32m    234\u001b[0m         _self, other, mod \u001b[39m=\u001b[39m as_int(\u001b[39mself\u001b[39m), as_int(other), as_int(mod)\n",
      "File \u001b[0;32m~/anaconda3/envs/mlp/lib/python3.9/site-packages/sympy/core/decorators.py:236\u001b[0m, in \u001b[0;36m_SympifyWrapper.make_wrapped.<locals>._func\u001b[0;34m(self, other)\u001b[0m\n\u001b[1;32m    234\u001b[0m \u001b[39mif\u001b[39;00m \u001b[39mnot\u001b[39;00m \u001b[39misinstance\u001b[39m(other, expectedcls):\n\u001b[1;32m    235\u001b[0m     \u001b[39mreturn\u001b[39;00m retval\n\u001b[0;32m--> 236\u001b[0m \u001b[39mreturn\u001b[39;00m func(\u001b[39mself\u001b[39;49m, other)\n",
      "File \u001b[0;32m~/anaconda3/envs/mlp/lib/python3.9/site-packages/sympy/core/decorators.py:106\u001b[0m, in \u001b[0;36mcall_highest_priority.<locals>.priority_decorator.<locals>.binary_op_wrapper\u001b[0;34m(self, other)\u001b[0m\n\u001b[1;32m    104\u001b[0m         \u001b[39mif\u001b[39;00m f \u001b[39mis\u001b[39;00m \u001b[39mnot\u001b[39;00m \u001b[39mNone\u001b[39;00m:\n\u001b[1;32m    105\u001b[0m             \u001b[39mreturn\u001b[39;00m f(\u001b[39mself\u001b[39m)\n\u001b[0;32m--> 106\u001b[0m \u001b[39mreturn\u001b[39;00m func(\u001b[39mself\u001b[39;49m, other)\n",
      "File \u001b[0;32m~/anaconda3/envs/mlp/lib/python3.9/site-packages/sympy/core/expr.py:228\u001b[0m, in \u001b[0;36mExpr._pow\u001b[0;34m(self, other)\u001b[0m\n\u001b[1;32m    225\u001b[0m \u001b[39m@sympify_return\u001b[39m([(\u001b[39m'\u001b[39m\u001b[39mother\u001b[39m\u001b[39m'\u001b[39m, \u001b[39m'\u001b[39m\u001b[39mExpr\u001b[39m\u001b[39m'\u001b[39m)], \u001b[39mNotImplemented\u001b[39m)\n\u001b[1;32m    226\u001b[0m \u001b[39m@call_highest_priority\u001b[39m(\u001b[39m'\u001b[39m\u001b[39m__rpow__\u001b[39m\u001b[39m'\u001b[39m)\n\u001b[1;32m    227\u001b[0m \u001b[39mdef\u001b[39;00m \u001b[39m_pow\u001b[39m(\u001b[39mself\u001b[39m, other):\n\u001b[0;32m--> 228\u001b[0m     \u001b[39mreturn\u001b[39;00m Pow(\u001b[39mself\u001b[39;49m, other)\n",
      "File \u001b[0;32m~/anaconda3/envs/mlp/lib/python3.9/site-packages/sympy/core/cache.py:70\u001b[0m, in \u001b[0;36m__cacheit.<locals>.func_wrapper.<locals>.wrapper\u001b[0;34m(*args, **kwargs)\u001b[0m\n\u001b[1;32m     67\u001b[0m \u001b[39m@wraps\u001b[39m(func)\n\u001b[1;32m     68\u001b[0m \u001b[39mdef\u001b[39;00m \u001b[39mwrapper\u001b[39m(\u001b[39m*\u001b[39margs, \u001b[39m*\u001b[39m\u001b[39m*\u001b[39mkwargs):\n\u001b[1;32m     69\u001b[0m     \u001b[39mtry\u001b[39;00m:\n\u001b[0;32m---> 70\u001b[0m         retval \u001b[39m=\u001b[39m cfunc(\u001b[39m*\u001b[39;49margs, \u001b[39m*\u001b[39;49m\u001b[39m*\u001b[39;49mkwargs)\n\u001b[1;32m     71\u001b[0m     \u001b[39mexcept\u001b[39;00m \u001b[39mTypeError\u001b[39;00m \u001b[39mas\u001b[39;00m e:\n\u001b[1;32m     72\u001b[0m         \u001b[39mif\u001b[39;00m \u001b[39mnot\u001b[39;00m e\u001b[39m.\u001b[39margs \u001b[39mor\u001b[39;00m \u001b[39mnot\u001b[39;00m e\u001b[39m.\u001b[39margs[\u001b[39m0\u001b[39m]\u001b[39m.\u001b[39mstartswith(\u001b[39m'\u001b[39m\u001b[39munhashable type:\u001b[39m\u001b[39m'\u001b[39m):\n",
      "File \u001b[0;32m~/anaconda3/envs/mlp/lib/python3.9/site-packages/sympy/core/power.py:371\u001b[0m, in \u001b[0;36mPow.__new__\u001b[0;34m(cls, b, e, evaluate)\u001b[0m\n\u001b[1;32m    367\u001b[0m         \u001b[39mif\u001b[39;00m s\u001b[39m.\u001b[39mis_Number \u001b[39mand\u001b[39;00m s \u001b[39mand\u001b[39;00m den \u001b[39m==\u001b[39m \\\n\u001b[1;32m    368\u001b[0m                 log(\u001b[39m-\u001b[39mfactor_terms(b, sign\u001b[39m=\u001b[39m\u001b[39mFalse\u001b[39;00m)) \u001b[39m+\u001b[39m s\u001b[39m*\u001b[39mS\u001b[39m.\u001b[39mImaginaryUnit\u001b[39m*\u001b[39mS\u001b[39m.\u001b[39mPi:\n\u001b[1;32m    369\u001b[0m             \u001b[39mreturn\u001b[39;00m S\u001b[39m.\u001b[39mExp1\u001b[39m*\u001b[39m\u001b[39m*\u001b[39m(c\u001b[39m*\u001b[39mnum)\n\u001b[0;32m--> 371\u001b[0m obj \u001b[39m=\u001b[39m b\u001b[39m.\u001b[39;49m_eval_power(e)\n\u001b[1;32m    372\u001b[0m \u001b[39mif\u001b[39;00m obj \u001b[39mis\u001b[39;00m \u001b[39mnot\u001b[39;00m \u001b[39mNone\u001b[39;00m:\n\u001b[1;32m    373\u001b[0m     \u001b[39mreturn\u001b[39;00m obj\n",
      "File \u001b[0;32m~/anaconda3/envs/mlp/lib/python3.9/site-packages/sympy/core/mul.py:724\u001b[0m, in \u001b[0;36mMul._eval_power\u001b[0;34m(self, e)\u001b[0m\n\u001b[1;32m    721\u001b[0m cargs, nc \u001b[39m=\u001b[39m \u001b[39mself\u001b[39m\u001b[39m.\u001b[39margs_cnc(split_1\u001b[39m=\u001b[39m\u001b[39mFalse\u001b[39;00m)\n\u001b[1;32m    723\u001b[0m \u001b[39mif\u001b[39;00m e\u001b[39m.\u001b[39mis_Integer:\n\u001b[0;32m--> 724\u001b[0m     \u001b[39mreturn\u001b[39;00m Mul(\u001b[39m*\u001b[39;49m[Pow(b, e, evaluate\u001b[39m=\u001b[39;49m\u001b[39mFalse\u001b[39;49;00m) \u001b[39mfor\u001b[39;49;00m b \u001b[39min\u001b[39;49;00m cargs]) \u001b[39m*\u001b[39;49m \\\n\u001b[1;32m    725\u001b[0m         Pow(Mul\u001b[39m.\u001b[39;49m_from_args(nc), e, evaluate\u001b[39m=\u001b[39;49m\u001b[39mFalse\u001b[39;49;00m)\n\u001b[1;32m    726\u001b[0m \u001b[39mif\u001b[39;00m e\u001b[39m.\u001b[39mis_Rational \u001b[39mand\u001b[39;00m e\u001b[39m.\u001b[39mq \u001b[39m==\u001b[39m \u001b[39m2\u001b[39m:\n\u001b[1;32m    727\u001b[0m     \u001b[39mif\u001b[39;00m \u001b[39mself\u001b[39m\u001b[39m.\u001b[39mis_imaginary:\n",
      "File \u001b[0;32m~/anaconda3/envs/mlp/lib/python3.9/site-packages/sympy/core/decorators.py:236\u001b[0m, in \u001b[0;36m_SympifyWrapper.make_wrapped.<locals>._func\u001b[0;34m(self, other)\u001b[0m\n\u001b[1;32m    234\u001b[0m \u001b[39mif\u001b[39;00m \u001b[39mnot\u001b[39;00m \u001b[39misinstance\u001b[39m(other, expectedcls):\n\u001b[1;32m    235\u001b[0m     \u001b[39mreturn\u001b[39;00m retval\n\u001b[0;32m--> 236\u001b[0m \u001b[39mreturn\u001b[39;00m func(\u001b[39mself\u001b[39;49m, other)\n",
      "File \u001b[0;32m~/anaconda3/envs/mlp/lib/python3.9/site-packages/sympy/core/decorators.py:106\u001b[0m, in \u001b[0;36mcall_highest_priority.<locals>.priority_decorator.<locals>.binary_op_wrapper\u001b[0;34m(self, other)\u001b[0m\n\u001b[1;32m    104\u001b[0m         \u001b[39mif\u001b[39;00m f \u001b[39mis\u001b[39;00m \u001b[39mnot\u001b[39;00m \u001b[39mNone\u001b[39;00m:\n\u001b[1;32m    105\u001b[0m             \u001b[39mreturn\u001b[39;00m f(\u001b[39mself\u001b[39m)\n\u001b[0;32m--> 106\u001b[0m \u001b[39mreturn\u001b[39;00m func(\u001b[39mself\u001b[39;49m, other)\n",
      "File \u001b[0;32m~/anaconda3/envs/mlp/lib/python3.9/site-packages/sympy/core/expr.py:218\u001b[0m, in \u001b[0;36mExpr.__mul__\u001b[0;34m(self, other)\u001b[0m\n\u001b[1;32m    215\u001b[0m \u001b[39m@sympify_return\u001b[39m([(\u001b[39m'\u001b[39m\u001b[39mother\u001b[39m\u001b[39m'\u001b[39m, \u001b[39m'\u001b[39m\u001b[39mExpr\u001b[39m\u001b[39m'\u001b[39m)], \u001b[39mNotImplemented\u001b[39m)\n\u001b[1;32m    216\u001b[0m \u001b[39m@call_highest_priority\u001b[39m(\u001b[39m'\u001b[39m\u001b[39m__rmul__\u001b[39m\u001b[39m'\u001b[39m)\n\u001b[1;32m    217\u001b[0m \u001b[39mdef\u001b[39;00m \u001b[39m__mul__\u001b[39m(\u001b[39mself\u001b[39m, other):\n\u001b[0;32m--> 218\u001b[0m     \u001b[39mreturn\u001b[39;00m Mul(\u001b[39mself\u001b[39;49m, other)\n",
      "File \u001b[0;32m~/anaconda3/envs/mlp/lib/python3.9/site-packages/sympy/core/cache.py:70\u001b[0m, in \u001b[0;36m__cacheit.<locals>.func_wrapper.<locals>.wrapper\u001b[0;34m(*args, **kwargs)\u001b[0m\n\u001b[1;32m     67\u001b[0m \u001b[39m@wraps\u001b[39m(func)\n\u001b[1;32m     68\u001b[0m \u001b[39mdef\u001b[39;00m \u001b[39mwrapper\u001b[39m(\u001b[39m*\u001b[39margs, \u001b[39m*\u001b[39m\u001b[39m*\u001b[39mkwargs):\n\u001b[1;32m     69\u001b[0m     \u001b[39mtry\u001b[39;00m:\n\u001b[0;32m---> 70\u001b[0m         retval \u001b[39m=\u001b[39m cfunc(\u001b[39m*\u001b[39;49margs, \u001b[39m*\u001b[39;49m\u001b[39m*\u001b[39;49mkwargs)\n\u001b[1;32m     71\u001b[0m     \u001b[39mexcept\u001b[39;00m \u001b[39mTypeError\u001b[39;00m \u001b[39mas\u001b[39;00m e:\n\u001b[1;32m     72\u001b[0m         \u001b[39mif\u001b[39;00m \u001b[39mnot\u001b[39;00m e\u001b[39m.\u001b[39margs \u001b[39mor\u001b[39;00m \u001b[39mnot\u001b[39;00m e\u001b[39m.\u001b[39margs[\u001b[39m0\u001b[39m]\u001b[39m.\u001b[39mstartswith(\u001b[39m'\u001b[39m\u001b[39munhashable type:\u001b[39m\u001b[39m'\u001b[39m):\n",
      "File \u001b[0;32m~/anaconda3/envs/mlp/lib/python3.9/site-packages/sympy/core/operations.py:98\u001b[0m, in \u001b[0;36mAssocOp.__new__\u001b[0;34m(cls, evaluate, _sympify, *args)\u001b[0m\n\u001b[1;32m     95\u001b[0m \u001b[39mif\u001b[39;00m \u001b[39mlen\u001b[39m(args) \u001b[39m==\u001b[39m \u001b[39m1\u001b[39m:\n\u001b[1;32m     96\u001b[0m     \u001b[39mreturn\u001b[39;00m args[\u001b[39m0\u001b[39m]\n\u001b[0;32m---> 98\u001b[0m c_part, nc_part, order_symbols \u001b[39m=\u001b[39m \u001b[39mcls\u001b[39;49m\u001b[39m.\u001b[39;49mflatten(args)\n\u001b[1;32m     99\u001b[0m is_commutative \u001b[39m=\u001b[39m \u001b[39mnot\u001b[39;00m nc_part\n\u001b[1;32m    100\u001b[0m obj \u001b[39m=\u001b[39m \u001b[39mcls\u001b[39m\u001b[39m.\u001b[39m_from_args(c_part \u001b[39m+\u001b[39m nc_part, is_commutative)\n",
      "File \u001b[0;32m~/anaconda3/envs/mlp/lib/python3.9/site-packages/sympy/core/mul.py:285\u001b[0m, in \u001b[0;36mMul.flatten\u001b[0;34m(cls, seq)\u001b[0m\n\u001b[1;32m    283\u001b[0m     seq \u001b[39m=\u001b[39m [a, b]\n\u001b[1;32m    284\u001b[0m \u001b[39massert\u001b[39;00m a \u001b[39mis\u001b[39;00m \u001b[39mnot\u001b[39;00m S\u001b[39m.\u001b[39mOne\n\u001b[0;32m--> 285\u001b[0m \u001b[39mif\u001b[39;00m \u001b[39mnot\u001b[39;00m a\u001b[39m.\u001b[39;49mis_zero \u001b[39mand\u001b[39;00m a\u001b[39m.\u001b[39mis_Rational:\n\u001b[1;32m    286\u001b[0m     r, b \u001b[39m=\u001b[39m b\u001b[39m.\u001b[39mas_coeff_Mul()\n\u001b[1;32m    287\u001b[0m     \u001b[39mif\u001b[39;00m b\u001b[39m.\u001b[39mis_Add:\n",
      "File \u001b[0;32m~/anaconda3/envs/mlp/lib/python3.9/site-packages/sympy/core/assumptions.py:483\u001b[0m, in \u001b[0;36mmake_property.<locals>.getit\u001b[0;34m(self)\u001b[0m\n\u001b[1;32m    481\u001b[0m \u001b[39mif\u001b[39;00m \u001b[39mself\u001b[39m\u001b[39m.\u001b[39m_assumptions \u001b[39mis\u001b[39;00m \u001b[39mself\u001b[39m\u001b[39m.\u001b[39mdefault_assumptions:\n\u001b[1;32m    482\u001b[0m     \u001b[39mself\u001b[39m\u001b[39m.\u001b[39m_assumptions \u001b[39m=\u001b[39m \u001b[39mself\u001b[39m\u001b[39m.\u001b[39mdefault_assumptions\u001b[39m.\u001b[39mcopy()\n\u001b[0;32m--> 483\u001b[0m \u001b[39mreturn\u001b[39;00m _ask(fact, \u001b[39mself\u001b[39;49m)\n",
      "File \u001b[0;32m~/anaconda3/envs/mlp/lib/python3.9/site-packages/sympy/core/assumptions.py:539\u001b[0m, in \u001b[0;36m_ask\u001b[0;34m(fact, obj)\u001b[0m\n\u001b[1;32m    537\u001b[0m handler_i \u001b[39m=\u001b[39m handler_map\u001b[39m.\u001b[39mget(fact_i)\n\u001b[1;32m    538\u001b[0m \u001b[39mif\u001b[39;00m handler_i \u001b[39mis\u001b[39;00m \u001b[39mnot\u001b[39;00m \u001b[39mNone\u001b[39;00m:\n\u001b[0;32m--> 539\u001b[0m     fact_i_value \u001b[39m=\u001b[39m handler_i(obj)\n\u001b[1;32m    541\u001b[0m \u001b[39m# If we get a new value for fact_i then we should update our knowledge\u001b[39;00m\n\u001b[1;32m    542\u001b[0m \u001b[39m# of fact_i as well as any related facts that can be inferred using the\u001b[39;00m\n\u001b[1;32m    543\u001b[0m \u001b[39m# inference rules connecting the fact_i and any other fact values that\u001b[39;00m\n\u001b[1;32m    544\u001b[0m \u001b[39m# are already known.\u001b[39;00m\n\u001b[1;32m    545\u001b[0m \u001b[39mif\u001b[39;00m fact_i_value \u001b[39mis\u001b[39;00m \u001b[39mnot\u001b[39;00m \u001b[39mNone\u001b[39;00m:\n",
      "File \u001b[0;32m~/anaconda3/envs/mlp/lib/python3.9/site-packages/sympy/core/mul.py:1557\u001b[0m, in \u001b[0;36mMul._eval_is_extended_negative\u001b[0;34m(self)\u001b[0m\n\u001b[1;32m   1556\u001b[0m \u001b[39mdef\u001b[39;00m \u001b[39m_eval_is_extended_negative\u001b[39m(\u001b[39mself\u001b[39m):\n\u001b[0;32m-> 1557\u001b[0m     \u001b[39mreturn\u001b[39;00m \u001b[39mself\u001b[39;49m\u001b[39m.\u001b[39;49m_eval_pos_neg(\u001b[39m-\u001b[39;49m\u001b[39m1\u001b[39;49m)\n",
      "File \u001b[0;32m~/anaconda3/envs/mlp/lib/python3.9/site-packages/sympy/core/mul.py:1524\u001b[0m, in \u001b[0;36mMul._eval_pos_neg\u001b[0;34m(self, sign)\u001b[0m\n\u001b[1;32m   1522\u001b[0m saw_NON \u001b[39m=\u001b[39m saw_NOT \u001b[39m=\u001b[39m \u001b[39mFalse\u001b[39;00m\n\u001b[1;32m   1523\u001b[0m \u001b[39mfor\u001b[39;00m t \u001b[39min\u001b[39;00m \u001b[39mself\u001b[39m\u001b[39m.\u001b[39margs:\n\u001b[0;32m-> 1524\u001b[0m     \u001b[39mif\u001b[39;00m t\u001b[39m.\u001b[39;49mis_extended_positive:\n\u001b[1;32m   1525\u001b[0m         \u001b[39mcontinue\u001b[39;00m\n\u001b[1;32m   1526\u001b[0m     \u001b[39melif\u001b[39;00m t\u001b[39m.\u001b[39mis_extended_negative:\n",
      "File \u001b[0;32m~/anaconda3/envs/mlp/lib/python3.9/site-packages/sympy/core/assumptions.py:483\u001b[0m, in \u001b[0;36mmake_property.<locals>.getit\u001b[0;34m(self)\u001b[0m\n\u001b[1;32m    481\u001b[0m \u001b[39mif\u001b[39;00m \u001b[39mself\u001b[39m\u001b[39m.\u001b[39m_assumptions \u001b[39mis\u001b[39;00m \u001b[39mself\u001b[39m\u001b[39m.\u001b[39mdefault_assumptions:\n\u001b[1;32m    482\u001b[0m     \u001b[39mself\u001b[39m\u001b[39m.\u001b[39m_assumptions \u001b[39m=\u001b[39m \u001b[39mself\u001b[39m\u001b[39m.\u001b[39mdefault_assumptions\u001b[39m.\u001b[39mcopy()\n\u001b[0;32m--> 483\u001b[0m \u001b[39mreturn\u001b[39;00m _ask(fact, \u001b[39mself\u001b[39;49m)\n",
      "File \u001b[0;32m~/anaconda3/envs/mlp/lib/python3.9/site-packages/sympy/core/assumptions.py:568\u001b[0m, in \u001b[0;36m_ask\u001b[0;34m(fact, obj)\u001b[0m\n\u001b[1;32m    566\u001b[0m     new_facts_to_check \u001b[39m=\u001b[39m \u001b[39mlist\u001b[39m(_assume_rules\u001b[39m.\u001b[39mprereq[fact_i] \u001b[39m-\u001b[39m facts_queued)\n\u001b[1;32m    567\u001b[0m     shuffle(new_facts_to_check)\n\u001b[0;32m--> 568\u001b[0m     facts_to_check\u001b[39m.\u001b[39;49mextend(new_facts_to_check)\n\u001b[1;32m    569\u001b[0m     facts_queued\u001b[39m.\u001b[39mupdate(new_facts_to_check)\n\u001b[1;32m    571\u001b[0m \u001b[39m# The above loop should be able to handle everything fine in a\u001b[39;00m\n\u001b[1;32m    572\u001b[0m \u001b[39m# single-threaded context but in multithreaded code it is possible that\u001b[39;00m\n\u001b[1;32m    573\u001b[0m \u001b[39m# this thread skipped computing a particular fact that was computed in\u001b[39;00m\n\u001b[0;32m   (...)\u001b[0m\n\u001b[1;32m    576\u001b[0m \u001b[39m# checked for in the body of the loop. This is an obscure case but to make\u001b[39;00m\n\u001b[1;32m    577\u001b[0m \u001b[39m# sure we catch it we check once here at the end of the loop.\u001b[39;00m\n",
      "\u001b[0;31mKeyboardInterrupt\u001b[0m: "
     ]
    }
   ],
   "source": [
    "system = [\n",
    "    sp.Eq(x1, x2**9),\n",
    "    sp.Eq(x2, x1**4),\n",
    "]\n",
    "\n",
    "eq_system = EquationSystem(system)\n",
    "system = optimal_inner_quadratization(eq_system)"
   ]
  }
 ],
 "metadata": {
  "kernelspec": {
   "display_name": "Python 3",
   "language": "python",
   "name": "python3"
  },
  "language_info": {
   "codemirror_mode": {
    "name": "ipython",
    "version": 3
   },
   "file_extension": ".py",
   "mimetype": "text/x-python",
   "name": "python",
   "nbconvert_exporter": "python",
   "pygments_lexer": "ipython3",
   "version": "3.9.16"
  },
  "orig_nbformat": 4
 },
 "nbformat": 4,
 "nbformat_minor": 2
}
