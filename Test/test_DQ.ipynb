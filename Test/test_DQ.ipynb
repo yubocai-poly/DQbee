{
 "cells": [
  {
   "cell_type": "code",
   "execution_count": 1,
   "metadata": {},
   "outputs": [
    {
     "name": "stderr",
     "output_type": "stream",
     "text": [
      "/Users/yubocai/anaconda3/envs/mlp/lib/python3.9/site-packages/qbee/util.py:6: TqdmExperimentalWarning: Using `tqdm.autonotebook.tqdm` in notebook mode. Use `tqdm.tqdm` instead to force console mode (e.g. in jupyter console)\n",
      "  from tqdm.autonotebook import tqdm\n"
     ]
    }
   ],
   "source": [
    "import sys\n",
    "sys.path.append(\"..\")\n",
    "from Package.DQuadratization import *\n",
    "from Package.EquationSystem import *\n",
    "from Package.Combinations import *\n",
    "from qbee import *\n",
    "import sympy as sp\n",
    "from Package.Simulation.numerical import *"
   ]
  },
  {
   "cell_type": "code",
   "execution_count": 2,
   "metadata": {},
   "outputs": [
    {
     "name": "stdout",
     "output_type": "stream",
     "text": [
      "-------------------------- Compute a quadratization dissipative at a given equilibrium --------------------------\n",
      "The system before coordinate transformation is: \n"
     ]
    },
    {
     "data": {
      "text/latex": [
       "$$\\begin{cases}\n",
       "(y)' &= - 5 y^{3} + 6 y^{2} - y\n",
       "\\end{cases}$$"
      ],
      "text/plain": [
       "<IPython.core.display.Latex object>"
      ]
     },
     "metadata": {},
     "output_type": "display_data"
    },
    {
     "name": "stdout",
     "output_type": "stream",
     "text": [
      "-------------------------- Dissipative Quadratization on transformed system --------------------------\n",
      "The Original System is: \n"
     ]
    },
    {
     "data": {
      "text/latex": [
       "$$\\begin{cases}\n",
       "(u_{1})' &= - 5 u_{1}^{3} - 9 u_{1}^{2} - 4 u_{1}\n",
       "\\end{cases}$$"
      ],
      "text/plain": [
       "<IPython.core.display.Latex object>"
      ]
     },
     "metadata": {},
     "output_type": "display_data"
    },
    {
     "name": "stdout",
     "output_type": "stream",
     "text": [
      "The Optimal Dissipative Quadratization is: \n"
     ]
    },
    {
     "data": {
      "text/latex": [
       "$$\\begin{cases}\n",
       "(u_{1})' &= - 5 u_{1}^{3} - 9 u_{1}^{2} - 4 u_{1}\\\\\n",
       "(u_{1}^{2})' &= - 10 u_{1}^{4} - 18 u_{1}^{3} - 8 u_{1}^{2}\n",
       "\\end{cases}$$"
      ],
      "text/plain": [
       "<IPython.core.display.Latex object>"
      ]
     },
     "metadata": {},
     "output_type": "display_data"
    },
    {
     "name": "stdout",
     "output_type": "stream",
     "text": [
      "The new introduced variables are: \n"
     ]
    },
    {
     "data": {
      "text/latex": [
       "$$\\begin{cases}\n",
       "w_{1} = u_{1}^{2} \\\\ \n",
       "\\end{cases}$$"
      ],
      "text/plain": [
       "<IPython.core.display.Latex object>"
      ]
     },
     "metadata": {},
     "output_type": "display_data"
    },
    {
     "name": "stdout",
     "output_type": "stream",
     "text": [
      "The Optimal Quadratic Dissipative System is (with substitution): \n"
     ]
    },
    {
     "data": {
      "text/latex": [
       "$$\\begin{cases}\n",
       "(u_{1})' &= - 9 u_{1}^{2} - 5 u_{1} w_{1} - 4 u_{1}\\\\\n",
       "(w_{1})' &= - 8 u_{1}^{2} - 18 u_{1} w_{1} - 10 w_{1}^{2}\n",
       "\\end{cases}$$"
      ],
      "text/plain": [
       "<IPython.core.display.Latex object>"
      ]
     },
     "metadata": {},
     "output_type": "display_data"
    },
    {
     "name": "stdout",
     "output_type": "stream",
     "text": [
      "------------------------------ Optimal Dissipative Quadratization ------------------------------\n",
      "The eigenvalue with the largest real part is (real part):  -4.0\n",
      "Mode: Default diagonal value, we will choose the largest eigenvalue as the diagonal value.\n",
      "The converted Optimal Dissipative Quadratization System is: \n"
     ]
    },
    {
     "data": {
      "text/latex": [
       "$$\\begin{cases}\n",
       "(u_{1})' &= - 9 u_{1}^{2} - 5 u_{1} w_{1} - 4 u_{1}\\\\\n",
       "(w_{1})' &= - 4.0 u_{1}^{2} - 18 u_{1} w_{1} - 10 w_{1}^{2} - 4.0 w_{1}\n",
       "\\end{cases}$$"
      ],
      "text/plain": [
       "<IPython.core.display.Latex object>"
      ]
     },
     "metadata": {},
     "output_type": "display_data"
    },
    {
     "name": "stdout",
     "output_type": "stream",
     "text": [
      "The matrix  associated to the linear part system is:\n"
     ]
    },
    {
     "data": {
      "text/latex": [
       "$$\\left[\\begin{matrix}-4 & 0\\\\0 & -4.0\\end{matrix}\\right]$$"
      ],
      "text/plain": [
       "<IPython.core.display.Latex object>"
      ]
     },
     "metadata": {},
     "output_type": "display_data"
    }
   ],
   "source": [
    "y, z, mu = sp.symbols('y z mu')\n",
    "system_vanderpol = [\n",
    "    sp.Eq(y, -y + 6*y**2-5*y**3)\n",
    "]\n",
    "equilibrium = {y: 1}\n",
    "eq_system = EquationSystem(system_vanderpol)\n",
    "\n",
    "odq_transformed_eq_system, coordinate_transformation, oiq_transformed_eq_system = dquadratization_one_equilibrium(\n",
    "    eq_system, equilibrium)"
   ]
  },
  {
   "cell_type": "code",
   "execution_count": 3,
   "metadata": {},
   "outputs": [
    {
     "name": "stdout",
     "output_type": "stream",
     "text": [
      "-------------------------- Compute a quadratization dissipative with multi given equilibrium --------------------------\n",
      "The original system is: \n"
     ]
    },
    {
     "data": {
      "text/latex": [
       "$$\\begin{cases}\n",
       "(y)' &= - 5 y^{3} + 6 y^{2} - y\n",
       "\\end{cases}$$"
      ],
      "text/plain": [
       "<IPython.core.display.Latex object>"
      ]
     },
     "metadata": {},
     "output_type": "display_data"
    },
    {
     "name": "stdout",
     "output_type": "stream",
     "text": [
      "[g1] [w1]\n",
      "-------------------------- The Dissipative quadratized system --------------------------\n"
     ]
    },
    {
     "data": {
      "text/latex": [
       "$$\\begin{cases}\n",
       "(y)' &= - 5 g_{1} y + 6 y^{2} - y\\\\\n",
       "(g_{1})' &= - 10 g_{1}^{2} - g_{1} \\lambda + 12 g_{1} y + \\lambda y^{2} - 2 y^{2}\n",
       "\\end{cases}$$"
      ],
      "text/plain": [
       "<IPython.core.display.Latex object>"
      ]
     },
     "metadata": {},
     "output_type": "display_data"
    },
    {
     "name": "stdout",
     "output_type": "stream",
     "text": [
      "-------------------------- The lambda value --------------------------\n",
      "The lambda value is:  32\n",
      "-------------------------- The Dissipative quadratized system with lambda value --------------------------\n"
     ]
    },
    {
     "data": {
      "text/latex": [
       "$$\\begin{cases}\n",
       "(y)' &= - 5 g_{1} y + 6 y^{2} - y\\\\\n",
       "(g_{1})' &= - 10 g_{1}^{2} + 12 g_{1} y - 32 g_{1} + 30 y^{2}\n",
       "\\end{cases}$$"
      ],
      "text/plain": [
       "<IPython.core.display.Latex object>"
      ]
     },
     "metadata": {},
     "output_type": "display_data"
    },
    {
     "name": "stdout",
     "output_type": "stream",
     "text": [
      "-------------------------- The Jacobian matrix --------------------------\n"
     ]
    },
    {
     "data": {
      "text/latex": [
       "$$J=\\left[\\begin{matrix}- 5 g_{1} + 12 y - 1 & - 5 y\\\\12 g_{1} + 2 \\lambda y - 4 y & - 20 g_{1} - \\lambda + 12 y\\end{matrix}\\right]$$"
      ],
      "text/plain": [
       "<IPython.core.display.Latex object>"
      ]
     },
     "metadata": {},
     "output_type": "display_data"
    },
    {
     "data": {
      "text/plain": [
       "(32, <Package.EquationSystem.EquationSystem at 0x29055d130>)"
      ]
     },
     "execution_count": 3,
     "metadata": {},
     "output_type": "execute_result"
    }
   ],
   "source": [
    "dquadratization_multi_equilibrium(eq_system, [[1]])"
   ]
  },
  {
   "attachments": {},
   "cell_type": "markdown",
   "metadata": {},
   "source": [
    "### Test for example system from the paper - Duffing system\n",
    "\n",
    "---\n",
    "\n",
    "Consider the following Duffing system:\n",
    "\n",
    "$$\n",
    "\\left\\{\\begin{array}{l}\n",
    "x_0^{\\prime}=x_1 \\\\\n",
    "x_1^{\\prime}=k x_0+a x_0^3+b x_1\n",
    "\\end{array}\\right.\n",
    "$$\n"
   ]
  },
  {
   "cell_type": "code",
   "execution_count": 4,
   "metadata": {},
   "outputs": [],
   "source": [
    "# Set up the variables\n",
    "x0, x1 = sp.symbols('x1 x2')\n",
    "a, b, k = sp.symbols('a b k')  # set symbolic constants\n",
    "\n",
    "system = [\n",
    "    sp.Eq(x0, x1),\n",
    "    sp.Eq(x1, k*x0 + a*x0**3 + b * x1)\n",
    "]\n",
    "\n",
    "eq_system = EquationSystem(system)"
   ]
  },
  {
   "cell_type": "code",
   "execution_count": 5,
   "metadata": {},
   "outputs": [
    {
     "data": {
      "text/plain": [
       "{x1: x2, x2: a*x1**3 + b*x2 + k*x1}"
      ]
     },
     "execution_count": 5,
     "metadata": {},
     "output_type": "execute_result"
    }
   ],
   "source": [
    "eq_system.dict_variables_equations"
   ]
  },
  {
   "cell_type": "code",
   "execution_count": 6,
   "metadata": {},
   "outputs": [
    {
     "name": "stdout",
     "output_type": "stream",
     "text": [
      "The Original System is: \n"
     ]
    },
    {
     "data": {
      "text/latex": [
       "$$\\begin{cases}\n",
       "(x_{1})' &= x_{2}\\\\\n",
       "(x_{2})' &= a x_{1}^{3} + b x_{2} + k x_{1}\n",
       "\\end{cases}$$"
      ],
      "text/plain": [
       "<IPython.core.display.Latex object>"
      ]
     },
     "metadata": {},
     "output_type": "display_data"
    },
    {
     "name": "stdout",
     "output_type": "stream",
     "text": [
      "The Optimal Dissipative Quadratization is: \n"
     ]
    },
    {
     "data": {
      "text/latex": [
       "$$\\begin{cases}\n",
       "(x_{1})' &= x_{2}\\\\\n",
       "(x_{2})' &= a x_{1}^{3} + b x_{2} + k x_{1}\\\\\n",
       "(x_{1}^{2})' &= 2 x_{1} x_{2}\n",
       "\\end{cases}$$"
      ],
      "text/plain": [
       "<IPython.core.display.Latex object>"
      ]
     },
     "metadata": {},
     "output_type": "display_data"
    },
    {
     "name": "stdout",
     "output_type": "stream",
     "text": [
      "The new introduced variables are: \n"
     ]
    },
    {
     "data": {
      "text/latex": [
       "$$\\begin{cases}\n",
       "w_{1} = x_{1}^{2} \\\\ \n",
       "\\end{cases}$$"
      ],
      "text/plain": [
       "<IPython.core.display.Latex object>"
      ]
     },
     "metadata": {},
     "output_type": "display_data"
    },
    {
     "name": "stdout",
     "output_type": "stream",
     "text": [
      "The Optimal Quadratic Dissipative System is (with substitution): \n"
     ]
    },
    {
     "data": {
      "text/latex": [
       "$$\\begin{cases}\n",
       "(x_{1})' &= x_{2}\\\\\n",
       "(x_{2})' &= a w_{1} x_{1} + b x_{2} + k x_{1}\\\\\n",
       "(w_{1})' &= 2 x_{1} x_{2}\n",
       "\\end{cases}$$"
      ],
      "text/plain": [
       "<IPython.core.display.Latex object>"
      ]
     },
     "metadata": {},
     "output_type": "display_data"
    },
    {
     "name": "stdout",
     "output_type": "stream",
     "text": [
      "------------------------------ Optimal Dissipative Quadratization ------------------------------\n",
      "The system contains symbolic constants. Therefore, we cannot make sure that the original system is dissipative.\n",
      "If the system can not jusity which eigenvalue is the largest one due to the symbolic constants, the program will choose the first one as the default value for the largest eigenvalue.\n",
      "The eigenvalue with the largest real part is (real part):  b/2 - sqrt(b**2 + 4*k)/2\n",
      "Mode: Default diagonal value, we will choose the largest eigenvalue as the diagonal value.\n",
      "The converted Optimal Dissipative Quadratization System is: \n"
     ]
    },
    {
     "data": {
      "text/latex": [
       "$$\\begin{cases}\n",
       "(x_{1})' &= x_{2}\\\\\n",
       "(x_{2})' &= a w_{1} x_{1} + b x_{2} + k x_{1}\\\\\n",
       "(w_{1})' &= w_{1} \\left(\\frac{b}{2} - \\frac{\\sqrt{b^{2} + 4 k}}{2}\\right) - x_{1}^{2} \\left(\\frac{b}{2} - \\frac{\\sqrt{b^{2} + 4 k}}{2}\\right) + 2 x_{1} x_{2}\n",
       "\\end{cases}$$"
      ],
      "text/plain": [
       "<IPython.core.display.Latex object>"
      ]
     },
     "metadata": {},
     "output_type": "display_data"
    },
    {
     "name": "stdout",
     "output_type": "stream",
     "text": [
      "The matrix  associated to the linear part system is:\n"
     ]
    },
    {
     "data": {
      "text/latex": [
       "$$\\left[\\begin{matrix}0 & 1 & 0\\\\k & b & 0\\\\0 & 0 & \\frac{b}{2} - \\frac{\\sqrt{b^{2} + 4 k}}{2}\\end{matrix}\\right]$$"
      ],
      "text/plain": [
       "<IPython.core.display.Latex object>"
      ]
     },
     "metadata": {},
     "output_type": "display_data"
    }
   ],
   "source": [
    "system = optimal_inner_quadratization(eq_system)\n",
    "result = optimal_dissipative_quadratization(eq_system, system[1], system[2], system[3])"
   ]
  },
  {
   "attachments": {},
   "cell_type": "markdown",
   "metadata": {},
   "source": [
    "### Example 3 from Optimal Monomial Quadratization\n",
    "\n",
    "---\n",
    "\n",
    "**Example 3.** Consider a system\n",
    "\n",
    "$$\n",
    "\\begin{cases}\n",
    "x_1^{\\prime}=x_2^4\\\\\n",
    "x_2^{\\prime}=x_1^2\n",
    "\\end{cases}\n",
    "\\Rightarrow\n",
    "\\begin{cases}\n",
    "x^{\\prime}=-3x + y^4\\\\\n",
    "y^{\\prime}=-2y + x^2\n",
    "\\end{cases}\n",
    "$$\n"
   ]
  },
  {
   "cell_type": "code",
   "execution_count": 7,
   "metadata": {},
   "outputs": [],
   "source": [
    "x, y = sp.var(\"x y\")\n",
    "\n",
    "system = [\n",
    "    sp.Eq(x, -3 * x + y**4),\n",
    "    sp.Eq(y, -2 * y + x**2),\n",
    "]\n",
    "\n",
    "eq_system = EquationSystem(system)"
   ]
  },
  {
   "cell_type": "code",
   "execution_count": 8,
   "metadata": {},
   "outputs": [
    {
     "name": "stdout",
     "output_type": "stream",
     "text": [
      "The Original System is: \n"
     ]
    },
    {
     "data": {
      "text/latex": [
       "$$\\begin{cases}\n",
       "(x)' &= - 3 x + y^{4}\\\\\n",
       "(y)' &= x^{2} - 2 y\n",
       "\\end{cases}$$"
      ],
      "text/plain": [
       "<IPython.core.display.Latex object>"
      ]
     },
     "metadata": {},
     "output_type": "display_data"
    },
    {
     "name": "stdout",
     "output_type": "stream",
     "text": [
      "The Optimal Dissipative Quadratization is: \n"
     ]
    },
    {
     "data": {
      "text/latex": [
       "$$\\begin{cases}\n",
       "(x)' &= - 3 x + y^{4}\\\\\n",
       "(y)' &= x^{2} - 2 y\\\\\n",
       "(x^{2})' &= - 6 x^{2} + 2 x y^{4}\\\\\n",
       "(y^{3})' &= 3 x^{2} y^{2} - 6 y^{3}\\\\\n",
       "(x y)' &= x^{3} - 5 x y + y^{5}\\\\\n",
       "(y^{2})' &= 2 x^{2} y - 4 y^{2}\n",
       "\\end{cases}$$"
      ],
      "text/plain": [
       "<IPython.core.display.Latex object>"
      ]
     },
     "metadata": {},
     "output_type": "display_data"
    },
    {
     "name": "stdout",
     "output_type": "stream",
     "text": [
      "The new introduced variables are: \n"
     ]
    },
    {
     "data": {
      "text/latex": [
       "$$\\begin{cases}\n",
       "w_{1} = x^{2} \\\\ w_{2} = y^{3} \\\\ w_{4} = x y \\\\ w_{3} = y^{2} \\\\ \n",
       "\\end{cases}$$"
      ],
      "text/plain": [
       "<IPython.core.display.Latex object>"
      ]
     },
     "metadata": {},
     "output_type": "display_data"
    },
    {
     "name": "stdout",
     "output_type": "stream",
     "text": [
      "The Optimal Quadratic Dissipative System is (with substitution): \n"
     ]
    },
    {
     "data": {
      "text/latex": [
       "$$\\begin{cases}\n",
       "(x)' &= w_{3}^{2} - 3 x\\\\\n",
       "(y)' &= x^{2} - 2 y\\\\\n",
       "(w_{1})' &= 2 w_{2} w_{4} - 6 x^{2}\\\\\n",
       "(w_{2})' &= - 6 w_{3} y + 3 w_{4}^{2}\\\\\n",
       "(w_{4})' &= w_{1} x + w_{2} w_{3} - 5 x y\\\\\n",
       "(w_{3})' &= 2 w_{4} x - 4 y^{2}\n",
       "\\end{cases}$$"
      ],
      "text/plain": [
       "<IPython.core.display.Latex object>"
      ]
     },
     "metadata": {},
     "output_type": "display_data"
    },
    {
     "name": "stdout",
     "output_type": "stream",
     "text": [
      "------------------------------ Optimal Dissipative Quadratization ------------------------------\n",
      "The eigenvalue with the largest real part is (real part):  -2.0\n",
      "The converted Optimal Dissipative Quadratization System is: \n"
     ]
    },
    {
     "data": {
      "text/latex": [
       "$$\\begin{cases}\n",
       "(x)' &= w_{3}^{2} - 3 x\\\\\n",
       "(y)' &= x^{2} - 2 y\\\\\n",
       "(w_{1})' &= - 3 w_{1} + 2 w_{2} w_{4} - 3 x^{2}\\\\\n",
       "(w_{2})' &= - 4 w_{2} - 2 w_{3} y + 3 w_{4}^{2}\\\\\n",
       "(w_{4})' &= w_{1} x + w_{2} w_{3} - 5 w_{4}\\\\\n",
       "(w_{3})' &= - 6 w_{3} + 2 w_{4} x + 2 y^{2}\n",
       "\\end{cases}$$"
      ],
      "text/plain": [
       "<IPython.core.display.Latex object>"
      ]
     },
     "metadata": {},
     "output_type": "display_data"
    },
    {
     "name": "stdout",
     "output_type": "stream",
     "text": [
      "The matrix  associated to the linear part system is:\n"
     ]
    },
    {
     "data": {
      "text/latex": [
       "$$\\left[\\begin{matrix}-3 & 0 & 0 & 0 & 0 & 0\\\\0 & -2 & 0 & 0 & 0 & 0\\\\0 & 0 & -3 & 0 & 0 & 0\\\\0 & 0 & 0 & -4 & 0 & 0\\\\0 & 0 & 0 & 0 & -5 & 0\\\\0 & 0 & 0 & 0 & 0 & -6\\end{matrix}\\right]$$"
      ],
      "text/plain": [
       "<IPython.core.display.Latex object>"
      ]
     },
     "metadata": {},
     "output_type": "display_data"
    }
   ],
   "source": [
    "system = optimal_inner_quadratization(eq_system)\n",
    "result = optimal_dissipative_quadratization(eq_system, system[1], system[2], system[3], [-3, -4, -5, -6])"
   ]
  },
  {
   "cell_type": "code",
   "execution_count": 9,
   "metadata": {},
   "outputs": [
    {
     "name": "stdout",
     "output_type": "stream",
     "text": [
      "-------------------------- Compute a quadratization dissipative with multi given equilibrium --------------------------\n",
      "The original system is: \n"
     ]
    },
    {
     "data": {
      "text/latex": [
       "$$\\begin{cases}\n",
       "(x)' &= - 3 x + y^{4}\\\\\n",
       "(y)' &= x^{2} - 2 y\n",
       "\\end{cases}$$"
      ],
      "text/plain": [
       "<IPython.core.display.Latex object>"
      ]
     },
     "metadata": {},
     "output_type": "display_data"
    },
    {
     "name": "stdout",
     "output_type": "stream",
     "text": [
      "(g1, g2, g3, g4) [w1, w3, w4, w2]\n",
      "-------------------------- The Dissipative quadratized system --------------------------\n"
     ]
    },
    {
     "data": {
      "text/latex": [
       "$$\\begin{cases}\n",
       "(x)' &= g_{2}^{2} - 3 x\\\\\n",
       "(y)' &= x^{2} - 2 y\\\\\n",
       "(g_{1})' &= - g_{1} \\lambda + 2 g_{3} g_{4} + \\lambda x^{2} - 6 x^{2}\\\\\n",
       "(g_{2})' &= - g_{2} \\lambda + 2 g_{3} x + \\lambda y^{2} - 4 y^{2}\\\\\n",
       "(g_{3})' &= g_{1} x + g_{2} g_{4} - g_{3} \\lambda + \\lambda x y - 5 x y\\\\\n",
       "(g_{4})' &= g_{2} \\lambda y - 6 g_{2} y + 3 g_{3}^{2} - g_{4} \\lambda\n",
       "\\end{cases}$$"
      ],
      "text/plain": [
       "<IPython.core.display.Latex object>"
      ]
     },
     "metadata": {},
     "output_type": "display_data"
    },
    {
     "name": "stdout",
     "output_type": "stream",
     "text": [
      "-------------------------- The lambda value --------------------------\n",
      "The lambda value is:  1\n",
      "-------------------------- The Dissipative quadratized system with lambda value --------------------------\n"
     ]
    },
    {
     "data": {
      "text/latex": [
       "$$\\begin{cases}\n",
       "(x)' &= g_{2}^{2} - 3 x\\\\\n",
       "(y)' &= x^{2} - 2 y\\\\\n",
       "(g_{1})' &= - g_{1} + 2 g_{3} g_{4} - 5 x^{2}\\\\\n",
       "(g_{2})' &= - g_{2} + 2 g_{3} x - 3 y^{2}\\\\\n",
       "(g_{3})' &= g_{1} x + g_{2} g_{4} - g_{3} - 4 x y\\\\\n",
       "(g_{4})' &= - 5 g_{2} y + 3 g_{3}^{2} - g_{4}\n",
       "\\end{cases}$$"
      ],
      "text/plain": [
       "<IPython.core.display.Latex object>"
      ]
     },
     "metadata": {},
     "output_type": "display_data"
    },
    {
     "name": "stdout",
     "output_type": "stream",
     "text": [
      "-------------------------- The Jacobian matrix --------------------------\n"
     ]
    },
    {
     "data": {
      "text/latex": [
       "$$J=\\left[\\begin{matrix}-3 & 0 & 0 & 2 g_{2} & 0 & 0\\\\2 x & -2 & 0 & 0 & 0 & 0\\\\2 \\lambda x - 12 x & 0 & - \\lambda & 0 & 2 g_{4} & 2 g_{3}\\\\2 g_{3} & 2 \\lambda y - 8 y & 0 & - \\lambda & 2 x & 0\\\\g_{1} + \\lambda y - 5 y & \\lambda x - 5 x & x & g_{4} & - \\lambda & g_{2}\\\\0 & g_{2} \\lambda - 6 g_{2} & 0 & \\lambda y - 6 y & 6 g_{3} & - \\lambda\\end{matrix}\\right]$$"
      ],
      "text/plain": [
       "<IPython.core.display.Latex object>"
      ]
     },
     "metadata": {},
     "output_type": "display_data"
    },
    {
     "data": {
      "text/plain": [
       "(1, <Package.EquationSystem.EquationSystem at 0x2905eca30>)"
      ]
     },
     "execution_count": 9,
     "metadata": {},
     "output_type": "execute_result"
    }
   ],
   "source": [
    "dquadratization_multi_equilibrium(eq_system,[[0,0]])"
   ]
  },
  {
   "attachments": {},
   "cell_type": "markdown",
   "metadata": {},
   "source": [
    "### Larger size example - with higher degree and dimension\n",
    "\n",
    "---\n",
    "\n",
    "Consider the following system:\n",
    "\n",
    "$$\n",
    "\\begin{cases}\n",
    "x_{1}'=\\alpha x_{2} + x_{1} \\\\\n",
    "x_{2}'=x_{1}^{2} + x_{2}^{2} \\\\\n",
    "x_{3}'=\\beta x_{2} + \\gamma^{2} x_{1}^{2} x_{3} + x_{1}\n",
    "\\end{cases}\n",
    "$$\n"
   ]
  },
  {
   "cell_type": "code",
   "execution_count": 10,
   "metadata": {},
   "outputs": [],
   "source": [
    "x1, x2, x3 = sp.var(\"x1 x2 x3\")\n",
    "alpha = sp.Symbol(\"alpha\")\n",
    "beta = sp.Symbol(\"beta\")\n",
    "gamma = sp.Symbol(\"gamma\")\n",
    "\n",
    "system = [\n",
    "    sp.Eq(x1, - x1 + alpha * x2),\n",
    "    sp.Eq(x2, x1 ** 2 + x2 ** 2 - x2),\n",
    "    sp.Eq(x3, x1 + beta * x2 + gamma ** 2 * x3 * x1 ** 2 - x3)\n",
    "]\n",
    "\n",
    "eq_system = EquationSystem(system)"
   ]
  },
  {
   "cell_type": "code",
   "execution_count": 11,
   "metadata": {},
   "outputs": [
    {
     "name": "stdout",
     "output_type": "stream",
     "text": [
      "The Original System is: \n"
     ]
    },
    {
     "data": {
      "text/latex": [
       "$$\\begin{cases}\n",
       "(x_{1})' &= \\alpha x_{2} - x_{1}\\\\\n",
       "(x_{2})' &= x_{1}^{2} + x_{2}^{2} - x_{2}\\\\\n",
       "(x_{3})' &= \\beta x_{2} + \\gamma^{2} x_{1}^{2} x_{3} + x_{1} - x_{3}\n",
       "\\end{cases}$$"
      ],
      "text/plain": [
       "<IPython.core.display.Latex object>"
      ]
     },
     "metadata": {},
     "output_type": "display_data"
    },
    {
     "name": "stdout",
     "output_type": "stream",
     "text": [
      "The Optimal Dissipative Quadratization is: \n"
     ]
    },
    {
     "data": {
      "text/latex": [
       "$$\\begin{cases}\n",
       "(x_{1})' &= \\alpha x_{2} - x_{1}\\\\\n",
       "(x_{2})' &= x_{1}^{2} + x_{2}^{2} - x_{2}\\\\\n",
       "(x_{3})' &= \\beta x_{2} + \\gamma^{2} x_{1}^{2} x_{3} + x_{1} - x_{3}\\\\\n",
       "(x_{1}^{2})' &= 2 \\alpha x_{1} x_{2} - 2 x_{1}^{2}\n",
       "\\end{cases}$$"
      ],
      "text/plain": [
       "<IPython.core.display.Latex object>"
      ]
     },
     "metadata": {},
     "output_type": "display_data"
    },
    {
     "name": "stdout",
     "output_type": "stream",
     "text": [
      "The new introduced variables are: \n"
     ]
    },
    {
     "data": {
      "text/latex": [
       "$$\\begin{cases}\n",
       "w_{1} = x_{1}^{2} \\\\ \n",
       "\\end{cases}$$"
      ],
      "text/plain": [
       "<IPython.core.display.Latex object>"
      ]
     },
     "metadata": {},
     "output_type": "display_data"
    },
    {
     "name": "stdout",
     "output_type": "stream",
     "text": [
      "The Optimal Quadratic Dissipative System is (with substitution): \n"
     ]
    },
    {
     "data": {
      "text/latex": [
       "$$\\begin{cases}\n",
       "(x_{1})' &= \\alpha x_{2} - x_{1}\\\\\n",
       "(x_{2})' &= x_{1}^{2} + x_{2}^{2} - x_{2}\\\\\n",
       "(x_{3})' &= \\beta x_{2} + \\gamma^{2} w_{1} x_{3} + x_{1} - x_{3}\\\\\n",
       "(w_{1})' &= 2 \\alpha x_{1} x_{2} - 2 x_{1}^{2}\n",
       "\\end{cases}$$"
      ],
      "text/plain": [
       "<IPython.core.display.Latex object>"
      ]
     },
     "metadata": {},
     "output_type": "display_data"
    }
   ],
   "source": [
    "system = optimal_inner_quadratization(eq_system)\n",
    "system, introduced_variables, map_variables = system[1], system[2], system[3]"
   ]
  },
  {
   "cell_type": "code",
   "execution_count": 12,
   "metadata": {},
   "outputs": [
    {
     "name": "stdout",
     "output_type": "stream",
     "text": [
      "------------------------------ Optimal Dissipative Quadratization ------------------------------\n",
      "The system contains symbolic constants. Therefore, we cannot make sure that the original system is dissipative.\n",
      "If the system can not jusity which eigenvalue is the largest one due to the symbolic constants, the program will choose the first one as the default value for the largest eigenvalue.\n",
      "The eigenvalue with the largest real part is (real part):  -1\n",
      "Mode: Default diagonal value, we will choose the largest eigenvalue as the diagonal value.\n",
      "The converted Optimal Dissipative Quadratization System is: \n"
     ]
    },
    {
     "data": {
      "text/latex": [
       "$$\\begin{cases}\n",
       "(x_{1})' &= \\alpha x_{2} - x_{1}\\\\\n",
       "(x_{2})' &= x_{1}^{2} + x_{2}^{2} - x_{2}\\\\\n",
       "(x_{3})' &= \\beta x_{2} + \\gamma^{2} w_{1} x_{3} + x_{1} - x_{3}\\\\\n",
       "(w_{1})' &= 2 \\alpha x_{1} x_{2} - w_{1} - x_{1}^{2}\n",
       "\\end{cases}$$"
      ],
      "text/plain": [
       "<IPython.core.display.Latex object>"
      ]
     },
     "metadata": {},
     "output_type": "display_data"
    },
    {
     "name": "stdout",
     "output_type": "stream",
     "text": [
      "The matrix  associated to the linear part system is:\n"
     ]
    },
    {
     "data": {
      "text/latex": [
       "$$\\left[\\begin{matrix}-1 & \\alpha & 0 & 0\\\\0 & -1 & 0 & 0\\\\1 & \\beta & -1 & 0\\\\0 & 0 & 0 & -1\\end{matrix}\\right]$$"
      ],
      "text/plain": [
       "<IPython.core.display.Latex object>"
      ]
     },
     "metadata": {},
     "output_type": "display_data"
    }
   ],
   "source": [
    "result = optimal_dissipative_quadratization(eq_system, system, introduced_variables, map_variables)"
   ]
  },
  {
   "attachments": {},
   "cell_type": "markdown",
   "metadata": {},
   "source": [
    "---\n",
    "\n",
    "Here is an example with more computational complexity. Consider the following system:\n",
    "\n",
    "$$\n",
    "\\left\\{\\begin{array}{l}\n",
    "\\left(x_1\\right)^{\\prime}=x_2^7 \\\\\n",
    "\\left(x_2\\right)^{\\prime}=x_1^3\n",
    "\\end{array}\\right.\n",
    "$$\n"
   ]
  },
  {
   "cell_type": "code",
   "execution_count": 13,
   "metadata": {},
   "outputs": [],
   "source": [
    "system = [\n",
    "    sp.Eq(x1, x2**7),\n",
    "    sp.Eq(x2, x1**3),\n",
    "]\n",
    "\n",
    "eq_system = EquationSystem(system)"
   ]
  },
  {
   "cell_type": "code",
   "execution_count": 14,
   "metadata": {},
   "outputs": [
    {
     "name": "stdout",
     "output_type": "stream",
     "text": [
      "The Original System is: \n"
     ]
    },
    {
     "data": {
      "text/latex": [
       "$$\\begin{cases}\n",
       "(x_{1})' &= x_{2}^{7}\\\\\n",
       "(x_{2})' &= x_{1}^{3}\n",
       "\\end{cases}$$"
      ],
      "text/plain": [
       "<IPython.core.display.Latex object>"
      ]
     },
     "metadata": {},
     "output_type": "display_data"
    },
    {
     "name": "stdout",
     "output_type": "stream",
     "text": [
      "The Optimal Dissipative Quadratization is: \n"
     ]
    },
    {
     "data": {
      "text/latex": [
       "$$\\begin{cases}\n",
       "(x_{1})' &= x_{2}^{7}\\\\\n",
       "(x_{2})' &= x_{1}^{3}\\\\\n",
       "(x_{2}^{4})' &= 4 x_{1}^{3} x_{2}^{3}\\\\\n",
       "(x_{1}^{2})' &= 2 x_{1} x_{2}^{7}\\\\\n",
       "(x_{2}^{6})' &= 6 x_{1}^{3} x_{2}^{5}\\\\\n",
       "(x_{1} x_{2}^{2})' &= 2 x_{1}^{4} x_{2} + x_{2}^{9}\\\\\n",
       "(x_{2}^{2})' &= 2 x_{1}^{3} x_{2}\\\\\n",
       "(x_{2}^{5})' &= 5 x_{1}^{3} x_{2}^{4}\\\\\n",
       "(x_{1}^{3})' &= 3 x_{1}^{2} x_{2}^{7}\\\\\n",
       "(x_{1}^{2} x_{2})' &= x_{1}^{5} + 2 x_{1} x_{2}^{8}\n",
       "\\end{cases}$$"
      ],
      "text/plain": [
       "<IPython.core.display.Latex object>"
      ]
     },
     "metadata": {},
     "output_type": "display_data"
    },
    {
     "name": "stdout",
     "output_type": "stream",
     "text": [
      "The new introduced variables are: \n"
     ]
    },
    {
     "data": {
      "text/latex": [
       "$$\\begin{cases}\n",
       "w_{1} = x_{2}^{4} \\\\ w_{2} = x_{1}^{2} \\\\ w_{4} = x_{2}^{6} \\\\ w_{5} = x_{1} x_{2}^{2} \\\\ w_{6} = x_{2}^{2} \\\\ w_{7} = x_{2}^{5} \\\\ w_{8} = x_{1}^{3} \\\\ w_{3} = x_{1}^{2} x_{2} \\\\ \n",
       "\\end{cases}$$"
      ],
      "text/plain": [
       "<IPython.core.display.Latex object>"
      ]
     },
     "metadata": {},
     "output_type": "display_data"
    },
    {
     "name": "stdout",
     "output_type": "stream",
     "text": [
      "The Optimal Quadratic Dissipative System is (with substitution): \n"
     ]
    },
    {
     "data": {
      "text/latex": [
       "$$\\begin{cases}\n",
       "(x_{1})' &= w_{6} w_{7}\\\\\n",
       "(x_{2})' &= w_{2} x_{1}\\\\\n",
       "(w_{1})' &= 4 w_{3} w_{5}\\\\\n",
       "(w_{2})' &= 2 w_{5} w_{7}\\\\\n",
       "(w_{4})' &= 6 w_{7} w_{8}\\\\\n",
       "(w_{5})' &= w_{1} w_{7} + 2 w_{2} w_{3}\\\\\n",
       "(w_{6})' &= 2 w_{8} x_{2}\\\\\n",
       "(w_{7})' &= 5 w_{1} w_{8}\\\\\n",
       "(w_{8})' &= 3 w_{3} w_{4}\\\\\n",
       "(w_{3})' &= w_{2} w_{8} + 2 w_{4} w_{5}\n",
       "\\end{cases}$$"
      ],
      "text/plain": [
       "<IPython.core.display.Latex object>"
      ]
     },
     "metadata": {},
     "output_type": "display_data"
    }
   ],
   "source": [
    "system = optimal_inner_quadratization(eq_system)\n",
    "system, introduced_variables, map_variables = system[1], system[2], system[3]"
   ]
  }
 ],
 "metadata": {
  "kernelspec": {
   "display_name": "Python 3",
   "language": "python",
   "name": "python3"
  },
  "language_info": {
   "codemirror_mode": {
    "name": "ipython",
    "version": 3
   },
   "file_extension": ".py",
   "mimetype": "text/x-python",
   "name": "python",
   "nbconvert_exporter": "python",
   "pygments_lexer": "ipython3",
   "version": "3.9.16"
  },
  "orig_nbformat": 4
 },
 "nbformat": 4,
 "nbformat_minor": 2
}
