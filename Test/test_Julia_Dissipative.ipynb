{
 "cells": [
  {
   "cell_type": "code",
   "execution_count": 1,
   "metadata": {},
   "outputs": [
    {
     "name": "stderr",
     "output_type": "stream",
     "text": [
      "/Users/yubocai/anaconda3/envs/mlp/lib/python3.9/site-packages/qbee/util.py:6: TqdmExperimentalWarning: Using `tqdm.autonotebook.tqdm` in notebook mode. Use `tqdm.tqdm` instead to force console mode (e.g. in jupyter console)\n",
      "  from tqdm.autonotebook import tqdm\n"
     ]
    }
   ],
   "source": [
    "import sys\n",
    "sys.path.append(\"..\")\n",
    "from DQbee.DQuadratization import *\n",
    "from DQbee.EquationSystem import *\n",
    "from DQbee.Combinations import *\n",
    "from qbee import *\n",
    "import sympy as sp"
   ]
  },
  {
   "cell_type": "code",
   "execution_count": 2,
   "metadata": {},
   "outputs": [
    {
     "name": "stdout",
     "output_type": "stream",
     "text": [
      "The Original System is: \n"
     ]
    },
    {
     "data": {
      "text/latex": [
       "$$\\begin{cases}\n",
       "(x_{1})' &= x_{2}\\\\\n",
       "(x_{2})' &= - x_{1} - 1.0 x_{2} \\cdot \\left(1 - x_{1}^{2}\\right)\n",
       "\\end{cases}$$"
      ],
      "text/plain": [
       "<IPython.core.display.Latex object>"
      ]
     },
     "metadata": {},
     "output_type": "display_data"
    },
    {
     "name": "stdout",
     "output_type": "stream",
     "text": [
      "The Optimal Dissipative Quadratization is: \n"
     ]
    },
    {
     "data": {
      "text/latex": [
       "$$\\begin{cases}\n",
       "(x_{1})' &= x_{2}\\\\\n",
       "(x_{2})' &= - x_{1} - 1.0 x_{2} \\cdot \\left(1 - x_{1}^{2}\\right)\\\\\n",
       "(x_{1}^{2})' &= 2 x_{1} x_{2}\n",
       "\\end{cases}$$"
      ],
      "text/plain": [
       "<IPython.core.display.Latex object>"
      ]
     },
     "metadata": {},
     "output_type": "display_data"
    },
    {
     "name": "stdout",
     "output_type": "stream",
     "text": [
      "The new introduced variables are: \n"
     ]
    },
    {
     "data": {
      "text/latex": [
       "$$\\begin{cases}\n",
       "w_{1} = x_{1}^{2} \\\\ \n",
       "\\end{cases}$$"
      ],
      "text/plain": [
       "<IPython.core.display.Latex object>"
      ]
     },
     "metadata": {},
     "output_type": "display_data"
    },
    {
     "name": "stdout",
     "output_type": "stream",
     "text": [
      "The Optimal Quadratic Dissipative System is (with substitution): \n"
     ]
    },
    {
     "data": {
      "text/latex": [
       "$$\\begin{cases}\n",
       "(x_{1})' &= x_{2}\\\\\n",
       "(x_{2})' &= 1.0 w_{1} x_{2} - 1.0 x_{1} - 1.0 x_{2}\\\\\n",
       "(w_{1})' &= 2 x_{1} x_{2}\n",
       "\\end{cases}$$"
      ],
      "text/plain": [
       "<IPython.core.display.Latex object>"
      ]
     },
     "metadata": {},
     "output_type": "display_data"
    }
   ],
   "source": [
    "x1, x2 = sp.symbols('x1, x2')\n",
    "mu = sp.symbols('mu')\n",
    "\n",
    "mu = - 1.0\n",
    "system = [\n",
    "    sp.Eq(x1, x2),\n",
    "    sp.Eq(x2, (mu * x2) * (1 - x1**2) - x1)\n",
    "]\n",
    "\n",
    "eq_system = EquationSystem(system)\n",
    "eq_system.computation_D_mult()\n",
    "system = optimal_inner_quadratization(eq_system)"
   ]
  },
  {
   "cell_type": "code",
   "execution_count": 3,
   "metadata": {},
   "outputs": [
    {
     "name": "stdout",
     "output_type": "stream",
     "text": [
      "-------------------------- Compute Weakly Nonlinearity bound for |x| --------------------------\n",
      "-------------------------- Warning: Please enter a quadratic ODE system --------------------------\n"
     ]
    },
    {
     "data": {
      "text/latex": [
       "$$F_1=\\left[\\begin{matrix}0 & 1 & 0\\\\-1.0 & -1.0 & 0\\\\0 & 0 & 0\\end{matrix}\\right]$$"
      ],
      "text/plain": [
       "<IPython.core.display.Latex object>"
      ]
     },
     "metadata": {},
     "output_type": "display_data"
    },
    {
     "data": {
      "text/latex": [
       "$$F_2=\\left[\\begin{matrix}0 & 0 & 0 & 0 & 0 & 0 & 0 & 0 & 0\\\\0 & 0 & 0 & 0 & 0 & 1.0 & 0 & 0 & 0\\\\0 & 2 & 0 & 0 & 0 & 0 & 0 & 0 & 0\\end{matrix}\\right]$$"
      ],
      "text/plain": [
       "<IPython.core.display.Latex object>"
      ]
     },
     "metadata": {},
     "output_type": "display_data"
    },
    {
     "data": {
      "text/latex": [
       "The system is said to be weakly nonlinear if the ratio $$R:=\\frac{\\left\\|X_0\\right\\|\\left\\|F_2\\right\\|}{\\left|\\Re\\left(\\lambda_1\\right)\\right|} < 1 \\Rightarrow 0 < \\|X_0\\| < \\frac{\\left|\\Re\\left(\\lambda_1\\right)\\right|}{\\left\\|F_2\\right\\|}$$"
      ],
      "text/plain": [
       "<IPython.core.display.Latex object>"
      ]
     },
     "metadata": {},
     "output_type": "display_data"
    },
    {
     "data": {
      "text/latex": [
       "The bound for $\\|X\\|$ is invalid since $\\left|\\Re\\left(\\lambda_1\\right)\\right|=0$"
      ],
      "text/plain": [
       "<IPython.core.display.Latex object>"
      ]
     },
     "metadata": {},
     "output_type": "display_data"
    }
   ],
   "source": [
    "F2, upper_bound = compute_weakly_nonlinearity(system[1])"
   ]
  },
  {
   "cell_type": "code",
   "execution_count": 4,
   "metadata": {},
   "outputs": [
    {
     "data": {
      "text/latex": [
       "$$\\begin{cases}\n",
       "(x_{1})' &= x_{2}\\\\\n",
       "(x_{2})' &= 1.0 w_{1} x_{2} - 1.0 x_{1} - 1.0 x_{2}\\\\\n",
       "(w_{1})' &= 2 x_{1} x_{2}\n",
       "\\end{cases}$$"
      ],
      "text/plain": [
       "<IPython.core.display.Latex object>"
      ]
     },
     "metadata": {},
     "output_type": "display_data"
    },
    {
     "name": "stdout",
     "output_type": "stream",
     "text": [
      "------------------------------ Optimal Dissipative Quadratization ------------------------------\n",
      "The eigenvalue with the largest real part is (real part):  -0.5\n",
      "The converted Optimal Dissipative Quadratization System is: \n"
     ]
    },
    {
     "data": {
      "text/latex": [
       "$$\\begin{cases}\n",
       "(x_{1})' &= x_{2}\\\\\n",
       "(x_{2})' &= 1.0 w_{1} x_{2} - 1.0 x_{1} - 1.0 x_{2}\\\\\n",
       "(w_{1})' &= - 4 w_{1} + 4 x_{1}^{2} + 2 x_{1} x_{2}\n",
       "\\end{cases}$$"
      ],
      "text/plain": [
       "<IPython.core.display.Latex object>"
      ]
     },
     "metadata": {},
     "output_type": "display_data"
    },
    {
     "name": "stdout",
     "output_type": "stream",
     "text": [
      "The matrix  associated to the linear part system is:\n"
     ]
    },
    {
     "data": {
      "text/latex": [
       "$$\\left[\\begin{matrix}0 & 1 & 0\\\\-1.0 & -1.0 & 0\\\\0 & 0 & -4\\end{matrix}\\right]$$"
      ],
      "text/plain": [
       "<IPython.core.display.Latex object>"
      ]
     },
     "metadata": {},
     "output_type": "display_data"
    }
   ],
   "source": [
    "display_or_print(system[1].show_system_latex())\n",
    "result = optimal_dissipative_quadratization(eq_system, system[1], system[2], system[3], [-4])"
   ]
  },
  {
   "cell_type": "code",
   "execution_count": 5,
   "metadata": {},
   "outputs": [
    {
     "name": "stdout",
     "output_type": "stream",
     "text": [
      "-------------------------- Compute Weakly Nonlinearity bound for |x| --------------------------\n",
      "-------------------------- Warning: Please enter a quadratic ODE system --------------------------\n"
     ]
    },
    {
     "data": {
      "text/latex": [
       "$$F_1=\\left[\\begin{matrix}0 & 1 & 0\\\\-1.0 & -1.0 & 0\\\\0 & 0 & -4\\end{matrix}\\right]$$"
      ],
      "text/plain": [
       "<IPython.core.display.Latex object>"
      ]
     },
     "metadata": {},
     "output_type": "display_data"
    },
    {
     "data": {
      "text/latex": [
       "$$F_2=\\left[\\begin{matrix}0 & 0 & 0 & 0 & 0 & 0 & 0 & 0 & 0\\\\0 & 0 & 0 & 0 & 0 & 1.0 & 0 & 0 & 0\\\\4 & 2 & 0 & 0 & 0 & 0 & 0 & 0 & 0\\end{matrix}\\right]$$"
      ],
      "text/plain": [
       "<IPython.core.display.Latex object>"
      ]
     },
     "metadata": {},
     "output_type": "display_data"
    },
    {
     "data": {
      "text/latex": [
       "The system is said to be weakly nonlinear if the ratio $$R:=\\frac{\\left\\|X_0\\right\\|\\left\\|F_2\\right\\|}{\\left|\\Re\\left(\\lambda_1\\right)\\right|} < 1 \\Rightarrow 0 < \\|X_0\\| < \\frac{\\left|\\Re\\left(\\lambda_1\\right)\\right|}{\\left\\|F_2\\right\\|}$$"
      ],
      "text/plain": [
       "<IPython.core.display.Latex object>"
      ]
     },
     "metadata": {},
     "output_type": "display_data"
    },
    {
     "data": {
      "text/latex": [
       "The upper bound for $\\|X\\|$ is: $$0 < \\|X\\| < 8.94427190999916$$ where $\\left|\\Re\\left(\\lambda_1\\right)\\right|=0.5$ and $\\left\\|F_2\\right\\|=4.47213595499958$"
      ],
      "text/plain": [
       "<IPython.core.display.Latex object>"
      ]
     },
     "metadata": {},
     "output_type": "display_data"
    }
   ],
   "source": [
    "F2, upper_bound = compute_weakly_nonlinearity(result[0])"
   ]
  },
  {
   "attachments": {},
   "cell_type": "markdown",
   "metadata": {},
   "source": [
    "### 2. Coupled Van der Pol oscillator\n",
    "\n",
    "```julia\n",
    "@taylorize function coupled_vanderpol!(du, u, p, t)\n",
    "    du[1] = u[2]\n",
    "    du[2] = (1.0 - u[1]^2) * u[2] - u[1] + (u[3] - u[1])\n",
    "    du[3] = u[4]\n",
    "    du[4] = (1.0 - u[3]^2) * u[4] - u[3] + (u[1] - u[3])\n",
    "    return du\n",
    "end\n",
    "\n",
    "function model(X0)\n",
    "    S = @system(x' = coupled_vanderpol!(x), dim:4)\n",
    "    return IVP(S, X0)\n",
    "end\n",
    "```"
   ]
  },
  {
   "attachments": {},
   "cell_type": "markdown",
   "metadata": {},
   "source": [
    "## Test cases from Julia Reachability\n",
    "\n",
    "---\n",
    "\n",
    "### 1. Van der Pol Oscillator\n",
    "```julia\n",
    "module vanderpol\n",
    "using ReachabilityAnalysis\n",
    "@taylorize function vanderpol!(dx, x, params, t)\n",
    "    local μ = 1.0\n",
    "    dx[1] = x[2]\n",
    "    dx[2] = (μ * x[2]) * (1 - x[1]^2) - x[1]\n",
    "    return dx\n",
    "end\n",
    "\n",
    "function model(X0)\n",
    "    S = @system(x' = vanderpol!(x), dim:2)\n",
    "    return IVP(S, X0)\n",
    "end\n",
    "end # module\n",
    "```"
   ]
  },
  {
   "cell_type": "code",
   "execution_count": 6,
   "metadata": {},
   "outputs": [
    {
     "name": "stdout",
     "output_type": "stream",
     "text": [
      "The Original System is: \n"
     ]
    },
    {
     "data": {
      "text/latex": [
       "$$\\begin{cases}\n",
       "(x_{1})' &= x_{2}\\\\\n",
       "(x_{2})' &= - 2 x_{1} + x_{2} \\cdot \\left(1 - x_{1}^{2}\\right) + x_{3}\\\\\n",
       "(x_{3})' &= x_{4}\\\\\n",
       "(x_{4})' &= x_{1} - 2 x_{3} + x_{4} \\cdot \\left(1 - x_{3}^{2}\\right)\n",
       "\\end{cases}$$"
      ],
      "text/plain": [
       "<IPython.core.display.Latex object>"
      ]
     },
     "metadata": {},
     "output_type": "display_data"
    },
    {
     "name": "stdout",
     "output_type": "stream",
     "text": [
      "The Optimal Dissipative Quadratization is: \n"
     ]
    },
    {
     "data": {
      "text/latex": [
       "$$\\begin{cases}\n",
       "(x_{1})' &= x_{2}\\\\\n",
       "(x_{2})' &= - 2 x_{1} + x_{2} \\cdot \\left(1 - x_{1}^{2}\\right) + x_{3}\\\\\n",
       "(x_{3})' &= x_{4}\\\\\n",
       "(x_{4})' &= x_{1} - 2 x_{3} + x_{4} \\cdot \\left(1 - x_{3}^{2}\\right)\\\\\n",
       "(x_{3}^{2})' &= 2 x_{3} x_{4}\\\\\n",
       "(x_{1}^{2})' &= 2 x_{1} x_{2}\n",
       "\\end{cases}$$"
      ],
      "text/plain": [
       "<IPython.core.display.Latex object>"
      ]
     },
     "metadata": {},
     "output_type": "display_data"
    },
    {
     "name": "stdout",
     "output_type": "stream",
     "text": [
      "The new introduced variables are: \n"
     ]
    },
    {
     "data": {
      "text/latex": [
       "$$\\begin{cases}\n",
       "w_{1} = x_{3}^{2} \\\\ w_{2} = x_{1}^{2} \\\\ \n",
       "\\end{cases}$$"
      ],
      "text/plain": [
       "<IPython.core.display.Latex object>"
      ]
     },
     "metadata": {},
     "output_type": "display_data"
    },
    {
     "name": "stdout",
     "output_type": "stream",
     "text": [
      "The Optimal Quadratic Dissipative System is (with substitution): \n"
     ]
    },
    {
     "data": {
      "text/latex": [
       "$$\\begin{cases}\n",
       "(x_{1})' &= x_{2}\\\\\n",
       "(x_{2})' &= - w_{2} x_{2} - 2 x_{1} + x_{2} + x_{3}\\\\\n",
       "(x_{3})' &= x_{4}\\\\\n",
       "(x_{4})' &= - w_{1} x_{4} + x_{1} - 2 x_{3} + x_{4}\\\\\n",
       "(w_{1})' &= 2 x_{3} x_{4}\\\\\n",
       "(w_{2})' &= 2 x_{1} x_{2}\n",
       "\\end{cases}$$"
      ],
      "text/plain": [
       "<IPython.core.display.Latex object>"
      ]
     },
     "metadata": {},
     "output_type": "display_data"
    }
   ],
   "source": [
    "x1, x2, x3, x4 = symbols('x1 x2 x3 x4')\n",
    "\n",
    "system = [\n",
    "    sp.Eq(x1, x2),\n",
    "    sp.Eq(x2, (1 - x1 ** 2) * x2 - x1 + (x3 - x1)),\n",
    "    sp.Eq(x3, x4),\n",
    "    sp.Eq(x4, (1 - x3 ** 2) * x4 - x3 + (x1 - x3))\n",
    "]\n",
    "\n",
    "eq_system = EquationSystem(system)\n",
    "system = optimal_inner_quadratization(eq_system)"
   ]
  },
  {
   "cell_type": "code",
   "execution_count": 7,
   "metadata": {},
   "outputs": [
    {
     "name": "stdout",
     "output_type": "stream",
     "text": [
      "------------------------------ Optimal Dissipative Quadratization ------------------------------\n",
      "[1/2 - sqrt(3)*I/2, 1/2 + sqrt(3)*I/2, 1/2 - sqrt(11)*I/2, 1/2 + sqrt(11)*I/2]\n"
     ]
    },
    {
     "ename": "ValueError",
     "evalue": "The largest eigenvalue is not negative, the original system is not dissipative",
     "output_type": "error",
     "traceback": [
      "\u001b[0;31m---------------------------------------------------------------------------\u001b[0m",
      "\u001b[0;31mValueError\u001b[0m                                Traceback (most recent call last)",
      "Cell \u001b[0;32mIn[7], line 1\u001b[0m\n\u001b[0;32m----> 1\u001b[0m result \u001b[39m=\u001b[39m optimal_dissipative_quadratization(eq_system, system[\u001b[39m1\u001b[39;49m], system[\u001b[39m2\u001b[39;49m], system[\u001b[39m3\u001b[39;49m])\n",
      "File \u001b[0;32m~/anaconda3/envs/mlp/lib/python3.9/site-packages/DQbee/DQuadratization.py:236\u001b[0m, in \u001b[0;36moptimal_dissipative_quadratization\u001b[0;34m(original_system, iq_system, variables_dict, map_variables, Input_diagonal, display)\u001b[0m\n\u001b[1;32m    233\u001b[0m \u001b[39melse\u001b[39;00m:\n\u001b[1;32m    234\u001b[0m     type_system \u001b[39m=\u001b[39m \u001b[39m'\u001b[39m\u001b[39mnumeric\u001b[39m\u001b[39m'\u001b[39m\n\u001b[0;32m--> 236\u001b[0m largest_eigenvalue \u001b[39m=\u001b[39m compute_largest_eigenvalue(F1_original, type_system)\n\u001b[1;32m    237\u001b[0m \u001b[39mif\u001b[39;00m display:\n\u001b[1;32m    238\u001b[0m     \u001b[39mprint\u001b[39m(\u001b[39m'\u001b[39m\u001b[39mThe eigenvalue with the largest real part is (real part): \u001b[39m\u001b[39m'\u001b[39m,\n\u001b[1;32m    239\u001b[0m           largest_eigenvalue)\n",
      "File \u001b[0;32m~/anaconda3/envs/mlp/lib/python3.9/site-packages/DQbee/DQuadratization.py:46\u001b[0m, in \u001b[0;36mcompute_largest_eigenvalue\u001b[0;34m(matrix, type_system)\u001b[0m\n\u001b[1;32m     44\u001b[0m \u001b[39mif\u001b[39;00m max_real_eigen \u001b[39m>\u001b[39m\u001b[39m=\u001b[39m \u001b[39m0\u001b[39m:\n\u001b[1;32m     45\u001b[0m     \u001b[39mprint\u001b[39m(eigenvalues)\n\u001b[0;32m---> 46\u001b[0m     \u001b[39mraise\u001b[39;00m \u001b[39mValueError\u001b[39;00m(\n\u001b[1;32m     47\u001b[0m         \u001b[39m'\u001b[39m\u001b[39mThe largest eigenvalue is not negative, the original system is not dissipative\u001b[39m\u001b[39m'\u001b[39m)\n\u001b[1;32m     48\u001b[0m \u001b[39melse\u001b[39;00m:\n\u001b[1;32m     49\u001b[0m     \u001b[39mreturn\u001b[39;00m max_real_eigen\n",
      "\u001b[0;31mValueError\u001b[0m: The largest eigenvalue is not negative, the original system is not dissipative"
     ]
    }
   ],
   "source": [
    "result = optimal_dissipative_quadratization(eq_system, system[1], system[2], system[3])"
   ]
  }
 ],
 "metadata": {
  "kernelspec": {
   "display_name": "Python 3",
   "language": "python",
   "name": "python3"
  },
  "language_info": {
   "codemirror_mode": {
    "name": "ipython",
    "version": 3
   },
   "file_extension": ".py",
   "mimetype": "text/x-python",
   "name": "python",
   "nbconvert_exporter": "python",
   "pygments_lexer": "ipython3",
   "version": "3.9.16"
  },
  "orig_nbformat": 4
 },
 "nbformat": 4,
 "nbformat_minor": 2
}
