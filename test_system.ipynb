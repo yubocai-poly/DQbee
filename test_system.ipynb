{
 "cells": [
  {
   "cell_type": "code",
   "execution_count": 1,
   "metadata": {},
   "outputs": [],
   "source": [
    "from AST_walk import *\n",
    "import AST_walk as ast\n",
    "from EquationSystem import *\n",
    "from DifferientialPoly import *\n",
    "from Combinations import *"
   ]
  },
  {
   "attachments": {},
   "cell_type": "markdown",
   "metadata": {},
   "source": [
    "### AST Walk Test - test for whether the equation is all polynomial\n",
    "\n",
    "---"
   ]
  },
  {
   "cell_type": "code",
   "execution_count": 2,
   "metadata": {},
   "outputs": [
    {
     "name": "stdout",
     "output_type": "stream",
     "text": [
      "True\n"
     ]
    }
   ],
   "source": [
    "# test\n",
    "x, y, z = sp.symbols('x y z')\n",
    "expr = x ** 2 + y - x * y + y ** 3\n",
    "print(ast.is_polynomial_function_all(expr))"
   ]
  },
  {
   "cell_type": "code",
   "execution_count": 3,
   "metadata": {},
   "outputs": [
    {
     "name": "stdout",
     "output_type": "stream",
     "text": [
      "(False, 1/(x + y**2))\n",
      "(False, sin(x))\n"
     ]
    }
   ],
   "source": [
    "expr = (x ** 2 + y) / (x + y ** 2)\n",
    "print(ast.is_polynomial_function_all(expr))\n",
    "\n",
    "x, y = sp.symbols([\"x\", \"y\"])\n",
    "sin = sp.Function(\"sin\")\n",
    "\n",
    "expr = x ** 2 - y + (x + y) * sin(x)\n",
    "print(ast.is_polynomial_function_all(expr))"
   ]
  },
  {
   "attachments": {},
   "cell_type": "markdown",
   "metadata": {},
   "source": [
    "### Equation System - Testing\n",
    "\n",
    "---\n",
    "\n",
    "$$\n",
    "\\begin{cases}\n",
    "x_{1}'= x_{1} + \\alpha x_{2} \\\\\n",
    "x_{2}'=x_{1}^{2} + x_{2}^{2}\n",
    "\\end{cases}\n",
    "$$"
   ]
  },
  {
   "cell_type": "code",
   "execution_count": 4,
   "metadata": {},
   "outputs": [
    {
     "name": "stdout",
     "output_type": "stream",
     "text": [
      "[alpha*x2 + x1, x1**2 + x2**2]\n",
      "{x2, x1}\n",
      "{alpha}\n",
      "{x1: alpha*x2 + x1, x2: x1**2 + x2**2}\n",
      "{x1*x2, x2**2, x2, x1, x1**2}\n",
      "{x2**2, x2, x1, x1**2}\n",
      "set()\n"
     ]
    }
   ],
   "source": [
    "x1, x2 = sp.var(\"x1 x2\")\n",
    "alpha = sp.Symbol(\"alpha\")\n",
    "\n",
    "system = [\n",
    "    sp.Eq(x1, x1 + alpha * x2),\n",
    "    sp.Eq(x2, x1 ** 2 + x2 ** 2)\n",
    "]\n",
    "\n",
    "eq_system = EquationSystem(system)\n",
    "\n",
    "print(eq_system.righthand)  # [x1 + alpha*x2, x1**2 + x2**2]\n",
    "print(eq_system.variables)  # {x1, x2}\n",
    "print(eq_system.constants)  # {alpha}\n",
    "print(eq_system.dict_variables_equations)\n",
    "print(eq_system.VSquare)\n",
    "print(eq_system.all_terms_RHS)\n",
    "print(eq_system.NSquare)"
   ]
  },
  {
   "cell_type": "code",
   "execution_count": 5,
   "metadata": {},
   "outputs": [
    {
     "name": "stdout",
     "output_type": "stream",
     "text": [
      "x_{1}'=\\alpha x_{2} + x_{1}\n",
      "x_{2}'=x_{1}^{2} + x_{2}^{2}\n"
     ]
    }
   ],
   "source": [
    "latex_str = eq_system.print_system_latex(system)\n",
    "print(latex_str)"
   ]
  },
  {
   "attachments": {},
   "cell_type": "markdown",
   "metadata": {},
   "source": [
    "$$\n",
    "\\begin{cases}\n",
    "x_{1}'=\\alpha x_{2} + x_{1} \\\\\n",
    "x_{2}'=x_{1}^{2} + x_{2}^{2} \\\\\n",
    "x_{3}'=\\beta x_{2} + \\gamma^{2} x_{1}^{2} x_{3} + x_{1}\n",
    "\\end{cases}\n",
    "$$"
   ]
  },
  {
   "cell_type": "code",
   "execution_count": 6,
   "metadata": {},
   "outputs": [
    {
     "name": "stdout",
     "output_type": "stream",
     "text": [
      "[alpha*x2 + x1, x1**2 + x2**2, beta*x2 + gamma**2*x1**2*x3 + x1]\n",
      "{x3, x2, x1}\n",
      "{alpha, beta, gamma}\n",
      "{x1: alpha*x2 + x1, x2: x1**2 + x2**2, x3: beta*x2 + gamma**2*x1**2*x3 + x1}\n",
      "{x1*x2, x1*x3, x2*x3, x1**2, x2, x3**2, x1, x2**2, x3}\n",
      "{x1, x1**2, x2**2, x1**2*x3, x2}\n",
      "{x1**2*x3}\n",
      "x_{1}'=\\alpha x_{2} + x_{1}\n",
      "x_{2}'=x_{1}^{2} + x_{2}^{2}\n",
      "x_{3}'=\\beta x_{2} + \\gamma^{2} x_{1}^{2} x_{3} + x_{1}\n"
     ]
    }
   ],
   "source": [
    "# create a more complex system\n",
    "x1, x2, x3 = sp.var(\"x1 x2 x3\")\n",
    "alpha = sp.Symbol(\"alpha\")\n",
    "beta = sp.Symbol(\"beta\")\n",
    "gamma = sp.Symbol(\"gamma\")\n",
    "\n",
    "system = [\n",
    "    sp.Eq(x1, x1 + alpha * x2),\n",
    "    sp.Eq(x2, x1 ** 2 + x2 ** 2),\n",
    "    sp.Eq(x3, x1 + beta * x2 + gamma ** 2 * x3 * x1 ** 2)\n",
    "]\n",
    "\n",
    "eq_system = EquationSystem(system)\n",
    "\n",
    "print(eq_system.righthand)  # [x1 + alpha*x2, x1**2 + x2**2, x1 + beta*x2 + gamma*x3]\n",
    "print(eq_system.variables)  # {x1, x2, x3}\n",
    "print(eq_system.constants)  # {alpha, beta, gamma}\n",
    "print(eq_system.dict_variables_equations)\n",
    "print(eq_system.VSquare)\n",
    "print(eq_system.all_terms_RHS)\n",
    "print(eq_system.NSquare)\n",
    "\n",
    "latex_str = eq_system.print_system_latex(system)\n",
    "print(latex_str)"
   ]
  },
  {
   "cell_type": "code",
   "execution_count": 7,
   "metadata": {},
   "outputs": [
    {
     "data": {
      "text/latex": [
       "$\\displaystyle 8 \\alpha^{2} x_{1}^{3} x_{2}^{3} x_{3}^{4} + 8 \\alpha \\beta x_{1}^{4} x_{2}^{3} x_{3}^{3} + 8 \\alpha \\gamma^{2} x_{1}^{6} x_{2}^{2} x_{3}^{4} + 4 \\alpha x_{1}^{6} x_{2} x_{3}^{4} + 8 \\alpha x_{1}^{5} x_{2}^{2} x_{3}^{3} + 4 \\alpha x_{1}^{4} x_{2}^{3} x_{3}^{4} + 8 \\alpha x_{1}^{4} x_{2}^{2} x_{3}^{4}$"
      ],
      "text/plain": [
       "8*alpha**2*x1**3*x2**3*x3**4 + 8*alpha*beta*x1**4*x2**3*x3**3 + 8*alpha*gamma**2*x1**6*x2**2*x3**4 + 4*alpha*x1**6*x2*x3**4 + 8*alpha*x1**5*x2**2*x3**3 + 4*alpha*x1**4*x2**3*x3**4 + 8*alpha*x1**4*x2**2*x3**4"
      ]
     },
     "execution_count": 7,
     "metadata": {},
     "output_type": "execute_result"
    }
   ],
   "source": [
    "# test calculate_polynomial_derivative\n",
    "expr = 2  * x1 ** 4 * alpha * x2 ** 2 * x3 ** 4\n",
    "calculate_polynomial_derivative(expr, eq_system)"
   ]
  },
  {
   "cell_type": "code",
   "execution_count": 8,
   "metadata": {},
   "outputs": [
    {
     "ename": "ValueError",
     "evalue": "The system is not a polynomial system, please enter a polynomial system.",
     "output_type": "error",
     "traceback": [
      "\u001b[0;31m---------------------------------------------------------------------------\u001b[0m",
      "\u001b[0;31mValueError\u001b[0m                                Traceback (most recent call last)",
      "Cell \u001b[0;32mIn[8], line 13\u001b[0m\n\u001b[1;32m      5\u001b[0m gamma \u001b[39m=\u001b[39m sp\u001b[39m.\u001b[39mSymbol(\u001b[39m\"\u001b[39m\u001b[39mgamma\u001b[39m\u001b[39m\"\u001b[39m)\n\u001b[1;32m      7\u001b[0m system \u001b[39m=\u001b[39m [\n\u001b[1;32m      8\u001b[0m     sp\u001b[39m.\u001b[39mEq(x1, x1 \u001b[39m+\u001b[39m alpha \u001b[39m*\u001b[39m x2),\n\u001b[1;32m      9\u001b[0m     sp\u001b[39m.\u001b[39mEq(x2, x1 \u001b[39m*\u001b[39m\u001b[39m*\u001b[39m \u001b[39m2\u001b[39m \u001b[39m+\u001b[39m x2 \u001b[39m*\u001b[39m\u001b[39m*\u001b[39m \u001b[39m2\u001b[39m),\n\u001b[1;32m     10\u001b[0m     sp\u001b[39m.\u001b[39mEq(x3, x1 \u001b[39m+\u001b[39m beta \u001b[39m*\u001b[39m x2 \u001b[39m+\u001b[39m gamma \u001b[39m*\u001b[39m\u001b[39m*\u001b[39m \u001b[39m2\u001b[39m \u001b[39m*\u001b[39m x3 \u001b[39m*\u001b[39m x1 \u001b[39m*\u001b[39m\u001b[39m*\u001b[39m \u001b[39m2\u001b[39m \u001b[39m+\u001b[39m sp\u001b[39m.\u001b[39msin(x1))\n\u001b[1;32m     11\u001b[0m ]\n\u001b[0;32m---> 13\u001b[0m eq_system \u001b[39m=\u001b[39m EquationSystem(system)\n",
      "File \u001b[0;32m~/Desktop/Ecole Polytechnique/Internship/MAX/Project/Dissipative-Quadratiation-Package/EquationSystem.py:23\u001b[0m, in \u001b[0;36mEquationSystem.__init__\u001b[0;34m(self, system)\u001b[0m\n\u001b[1;32m     20\u001b[0m \u001b[39mself\u001b[39m\u001b[39m.\u001b[39mis_poly \u001b[39m=\u001b[39m \u001b[39mself\u001b[39m\u001b[39m.\u001b[39mcheck_is_polynomial_system(system)\n\u001b[1;32m     22\u001b[0m \u001b[39mif\u001b[39;00m \u001b[39mself\u001b[39m\u001b[39m.\u001b[39mis_poly \u001b[39mis\u001b[39;00m \u001b[39mFalse\u001b[39;00m:\n\u001b[0;32m---> 23\u001b[0m     \u001b[39mraise\u001b[39;00m \u001b[39mValueError\u001b[39;00m(\u001b[39m\"\u001b[39m\u001b[39mThe system is not a polynomial system, please enter a polynomial system.\u001b[39m\u001b[39m\"\u001b[39m)\n\u001b[1;32m     25\u001b[0m \u001b[39mfor\u001b[39;00m eq \u001b[39min\u001b[39;00m system:\n\u001b[1;32m     26\u001b[0m     \u001b[39mself\u001b[39m\u001b[39m.\u001b[39m_righthand\u001b[39m.\u001b[39mappend(eq\u001b[39m.\u001b[39mrhs)\n",
      "\u001b[0;31mValueError\u001b[0m: The system is not a polynomial system, please enter a polynomial system."
     ]
    }
   ],
   "source": [
    "# create a more complex system\n",
    "x1, x2, x3 = sp.var(\"x1 x2 x3\")\n",
    "alpha = sp.Symbol(\"alpha\")\n",
    "beta = sp.Symbol(\"beta\")\n",
    "gamma = sp.Symbol(\"gamma\")\n",
    "\n",
    "system = [\n",
    "    sp.Eq(x1, x1 + alpha * x2),\n",
    "    sp.Eq(x2, x1 ** 2 + x2 ** 2),\n",
    "    sp.Eq(x3, x1 + beta * x2 + gamma ** 2 * x3 * x1 ** 2 + sp.sin(x1))\n",
    "]\n",
    "\n",
    "eq_system = EquationSystem(system)"
   ]
  }
 ],
 "metadata": {
  "kernelspec": {
   "display_name": "Python 3",
   "language": "python",
   "name": "python3"
  },
  "language_info": {
   "codemirror_mode": {
    "name": "ipython",
    "version": 3
   },
   "file_extension": ".py",
   "mimetype": "text/x-python",
   "name": "python",
   "nbconvert_exporter": "python",
   "pygments_lexer": "ipython3",
   "version": "3.9.16"
  },
  "orig_nbformat": 4
 },
 "nbformat": 4,
 "nbformat_minor": 2
}
