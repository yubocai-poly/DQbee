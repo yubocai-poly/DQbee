{
 "cells": [
  {
   "cell_type": "code",
   "execution_count": 35,
   "metadata": {},
   "outputs": [],
   "source": [
    "from Combinations import *\n",
    "from EquationSystem import *\n",
    "from DifferientialPoly import *\n",
    "from DQuadratization import *\n",
    "import sympy as sp\n",
    "from qbee import *"
   ]
  },
  {
   "attachments": {},
   "cell_type": "markdown",
   "metadata": {},
   "source": [
    "### Test for combinatorial functions\n",
    "\n",
    "---\n",
    "\n",
    "$$\n",
    "\\begin{cases}\n",
    "x_{1}'=\\alpha x_{2} + x_{1} \\\\\n",
    "x_{2}'=x_{1}^{2} + x_{2}^{2} \\\\\n",
    "x_{3}'=\\beta x_{2} + \\gamma^{2} x_{1}^{2} x_{3} + x_{1}\n",
    "\\end{cases}\n",
    "$$"
   ]
  },
  {
   "cell_type": "code",
   "execution_count": 36,
   "metadata": {},
   "outputs": [],
   "source": [
    "x1, x2, x3 = sp.var(\"x1 x2 x3\")\n",
    "alpha = sp.Symbol(\"alpha\")\n",
    "beta = sp.Symbol(\"beta\")\n",
    "gamma = sp.Symbol(\"gamma\")\n",
    "\n",
    "system = [\n",
    "    sp.Eq(x1, x1 + alpha * x2),\n",
    "    sp.Eq(x2, x1 ** 2 + x2 ** 2),\n",
    "    sp.Eq(x3, x1 + beta * x2 + gamma ** 2 * x3 * x1 ** 2)\n",
    "]\n",
    "\n",
    "eq_system = EquationSystem(system)"
   ]
  },
  {
   "cell_type": "code",
   "execution_count": 37,
   "metadata": {},
   "outputs": [
    {
     "name": "stdout",
     "output_type": "stream",
     "text": [
      "{x1**2*x3: 6}\n",
      "3\n",
      "3\n",
      "set() \n",
      " {x1**2*x3}\n",
      "(x1**2*x3, 'NS')\n"
     ]
    }
   ],
   "source": [
    "print(set_to_score_dict(eq_system.NSquare))\n",
    "print(eq_system.degree)\n",
    "print(eq_system.dimension)\n",
    "print(eq_system.NQuadratic, \"\\n\", eq_system.NSquare)\n",
    "print(select_decompose_variable(eq_system))"
   ]
  },
  {
   "cell_type": "code",
   "execution_count": 38,
   "metadata": {},
   "outputs": [
    {
     "name": "stdout",
     "output_type": "stream",
     "text": [
      "[(x1**2, x3), (1, x1**2*x3), (x1, x1*x3)]\n",
      "((x1**2*x3, 'NS'), [[x1**2], [x1*x3]])\n"
     ]
    }
   ],
   "source": [
    "print(decomposition_monomial(x1**2*x3))\n",
    "print(decompose_variable(eq_system, eq_system.degree))"
   ]
  },
  {
   "attachments": {},
   "cell_type": "markdown",
   "metadata": {},
   "source": [
    "### Test for NQ decomposition\n",
    "\n",
    "---"
   ]
  },
  {
   "cell_type": "code",
   "execution_count": 39,
   "metadata": {},
   "outputs": [],
   "source": [
    "def decomposition_NQ(system: EquationSystem):\n",
    "    system_degree = system.degree\n",
    "    selected_variable = select_decompose_variable(system)\n",
    "    decomposition = decomposition_monomial(selected_variable[0])\n",
    "    valid_decomposition = []\n",
    "\n",
    "    for decompose in decomposition:\n",
    "        res = []\n",
    "        if 1 in decompose:\n",
    "            continue\n",
    "        else:\n",
    "            for i in range(2):\n",
    "                if degree_function(decompose[i]) < system_degree and decompose[i] not in system.V:\n",
    "                    res.append(decompose[i])\n",
    "            if len(res) == 0:\n",
    "                continue\n",
    "            elif len(res) == 2 and res[0] == res[1]:\n",
    "                valid_decomposition.append([res[0]])\n",
    "            else:\n",
    "                valid_decomposition.append(res)\n",
    "\n",
    "    return selected_variable, valid_decomposition"
   ]
  },
  {
   "cell_type": "code",
   "execution_count": 40,
   "metadata": {},
   "outputs": [
    {
     "name": "stdout",
     "output_type": "stream",
     "text": [
      "((x1**2*x3, 'NS'), [[x1**2], [x1*x3]])\n"
     ]
    }
   ],
   "source": [
    "print(decomposition_NQ(eq_system))"
   ]
  },
  {
   "attachments": {},
   "cell_type": "markdown",
   "metadata": {},
   "source": [
    "---\n",
    "\n",
    "**Example 3.** Consider a system\n",
    "$$\n",
    "x_1^{\\prime}=x_2^4, \\quad x_2^{\\prime}=x_1^2 .\n",
    "$$"
   ]
  },
  {
   "cell_type": "code",
   "execution_count": 41,
   "metadata": {},
   "outputs": [],
   "source": [
    "system = [\n",
    "    sp.Eq(x1, x2**4),\n",
    "    sp.Eq(x2, x1**2),\n",
    "]\n",
    "\n",
    "eq_system = EquationSystem(system)"
   ]
  },
  {
   "cell_type": "code",
   "execution_count": 42,
   "metadata": {},
   "outputs": [
    {
     "name": "stdout",
     "output_type": "stream",
     "text": [
      "((x2**4, 'NS'), [[x2**2], [x2**3]])\n"
     ]
    }
   ],
   "source": [
    "print(decompose_variable(eq_system, eq_system.degree))"
   ]
  },
  {
   "cell_type": "code",
   "execution_count": 43,
   "metadata": {},
   "outputs": [
    {
     "name": "stdout",
     "output_type": "stream",
     "text": [
      "2*x1**2*x2\n"
     ]
    }
   ],
   "source": [
    "print(calculate_polynomial_derivative(x2**2, eq_system))"
   ]
  },
  {
   "cell_type": "code",
   "execution_count": 44,
   "metadata": {},
   "outputs": [
    {
     "name": "stdout",
     "output_type": "stream",
     "text": [
      "{x2**2, x1**2, x2, x1*x2**2, x1*x2, x2**3, x1}\n"
     ]
    }
   ],
   "source": [
    "print(getOneDQuadratization(eq_system)[1])"
   ]
  },
  {
   "cell_type": "code",
   "execution_count": 45,
   "metadata": {},
   "outputs": [
    {
     "name": "stdout",
     "output_type": "stream",
     "text": [
      "{x2**2, x1**2, x2, x1*x2**2, x1*x2, x2**3, x1}\n",
      "{x2**2, x1**2, x2, x1*x2**2, x1**2*x2, x2**3, x1}\n",
      "{x2**2, x1**2, x2, x1*x2**2, x2**3, x1**3, x1}\n",
      "{x2**2, x1**2, x2, x1*x2, x2**3, x1}\n",
      "{x2**2, x1**2, x2, x1*x2**2, x1**2*x2, x2**3, x1}\n",
      "{x2**2, x1**2, x2, x1*x2**2, x1**2*x2, x1*x2, x2**3, x1}\n",
      "{x2**2, x1**2, x2, x1*x2**2, x1**2*x2, x2**3, x1**3, x1}\n",
      "{x2**2, x1**2, x2, x1*x2**2, x1**2*x2, x1*x2, x2**3, x1**3, x1}\n",
      "{x2**2, x1**2, x2, x1*x2**2, x1*x2, x2**3, x1**3, x1}\n",
      "{x2**2, x1**2, x2, x1*x2**2, x1**2*x2, x1*x2, x2**3, x1**3, x1}\n",
      "{x2**2, x1**2, x2, x1*x2, x2**3, x1}\n",
      "{x2**2, x1**2, x2, x1*x2**2, x1*x2, x2**3, x1}\n",
      "{x2**2, x1**2, x2, x1*x2**2, x1**2*x2, x2**3, x1}\n",
      "{x2**2, x1**2, x2, x1*x2**2, x2**3, x1**3, x1}\n",
      "{x2**2, x1**2, x2, x1*x2, x2**3, x1}\n",
      "{x2**2, x1**2, x2, x1*x2**2, x1**2*x2, x2**3, x1}\n",
      "{x2**2, x1**2, x2, x1*x2**2, x1**2*x2, x1*x2, x2**3, x1}\n",
      "{x2**2, x1**2, x2, x1*x2**2, x1**2*x2, x2**3, x1**3, x1}\n",
      "{x2**2, x1**2, x2, x1*x2**2, x1**2*x2, x1*x2, x2**3, x1**3, x1}\n",
      "{x2**2, x1**2, x2, x1*x2**2, x1*x2, x2**3, x1**3, x1}\n",
      "{x2**2, x1**2, x2, x1*x2**2, x1**2*x2, x1*x2, x2**3, x1**3, x1}\n",
      "{x2**2, x1**2, x2, x1*x2, x2**3, x1}\n"
     ]
    }
   ],
   "source": [
    "DissipativeQuadratization(eq_system, 4)"
   ]
  },
  {
   "attachments": {},
   "cell_type": "markdown",
   "metadata": {},
   "source": [
    "---\n",
    "\n",
    "**Example 4.** Consider a system\n",
    "$$\n",
    "x^{\\prime}=x^4+x^3\n",
    "$$"
   ]
  },
  {
   "cell_type": "code",
   "execution_count": 46,
   "metadata": {},
   "outputs": [
    {
     "name": "stdout",
     "output_type": "stream",
     "text": [
      "((x1**4, 'NS'), [[x1**2], [x1**3], [x1**4]])\n"
     ]
    }
   ],
   "source": [
    "system = [\n",
    "    sp.Eq(x1, x1**9 + x1 ** 4)\n",
    "]\n",
    "\n",
    "eq_system = EquationSystem(system)\n",
    "print(decompose_variable(eq_system, eq_system.degree))"
   ]
  },
  {
   "cell_type": "code",
   "execution_count": 47,
   "metadata": {},
   "outputs": [
    {
     "name": "stdout",
     "output_type": "stream",
     "text": [
      "3*x1**11 + 3*x1**6\n"
     ]
    }
   ],
   "source": [
    "print(calculate_polynomial_derivative(x1**3, eq_system))"
   ]
  },
  {
   "cell_type": "code",
   "execution_count": 48,
   "metadata": {},
   "outputs": [
    {
     "name": "stdout",
     "output_type": "stream",
     "text": [
      "set()\n"
     ]
    }
   ],
   "source": [
    "print(getOneDQuadratization(eq_system)[0].NQuadratic)"
   ]
  },
  {
   "cell_type": "code",
   "execution_count": 49,
   "metadata": {},
   "outputs": [
    {
     "name": "stdout",
     "output_type": "stream",
     "text": [
      "{x1**2, x1**5, x1**8, x1**7, x1**4, x1}\n",
      "{x1**2, x1**5, x1**8, x1**7, x1**4, x1, x1**6}\n",
      "{x1**2, x1**5, x1**8, x1**7, x1**4, x1**3, x1, x1**6}\n",
      "{x1**2, x1**5, x1**8, x1**7, x1**4, x1**3, x1}\n",
      "{x1**2, x1**5, x1**8, x1**7, x1**4, x1**3, x1, x1**6}\n",
      "{x1**2, x1**5, x1**8, x1**4, x1**3, x1}\n",
      "{x1**2, x1**5, x1**8, x1**4, x1, x1**6}\n",
      "{x1**2, x1**5, x1**8, x1**7, x1**4, x1}\n",
      "{x1**2, x1**5, x1**8, x1**4, x1, x1**6}\n",
      "{x1**2, x1**5, x1**8, x1**7, x1**4, x1, x1**6}\n",
      "{x1**2, x1**5, x1**8, x1**7, x1**4, x1**3, x1, x1**6}\n",
      "{x1**2, x1**5, x1**8, x1**4, x1**3, x1, x1**6}\n",
      "{x1**2, x1**5, x1**8, x1**7, x1**4, x1**3, x1, x1**6}\n",
      "{x1**2, x1**5, x1**8, x1**4, x1**3, x1}\n",
      "{x1**2, x1**5, x1**8, x1**4, x1**3, x1, x1**6}\n",
      "{x1**2, x1**5, x1**8, x1**7, x1**4, x1**3, x1, x1**6}\n",
      "{x1**2, x1**5, x1**8, x1**7, x1**4, x1**3, x1}\n",
      "{x1**2, x1**5, x1**8, x1**7, x1**4, x1**3, x1, x1**6}\n",
      "{x1**2, x1**5, x1**8, x1**7, x1**3, x1}\n",
      "{x1**2, x1**5, x1**8, x1**7, x1**4, x1**3, x1, x1**6}\n",
      "{x1**2, x1**5, x1**8, x1**7, x1**3, x1, x1**6}\n",
      "{x1**2, x1**5, x1**8, x1**7, x1**4, x1**3, x1}\n",
      "{x1**2, x1**5, x1**8, x1**7, x1**4, x1**3, x1, x1**6}\n",
      "{x1**2, x1**5, x1**8, x1**3, x1, x1**6}\n",
      "{x1**2, x1**5, x1**8, x1**7, x1**4, x1**3, x1, x1**6}\n",
      "{x1**2, x1**5, x1**8, x1**7, x1**3, x1, x1**6}\n",
      "{x1**2, x1**5, x1**8, x1**4, x1**3, x1, x1**6}\n",
      "{x1**2, x1**5, x1**8, x1**7, x1**4, x1**3, x1, x1**6}\n",
      "{x1**2, x1**5, x1**8, x1**4, x1**3, x1}\n",
      "{x1**2, x1**5, x1**8, x1**4, x1**3, x1, x1**6}\n",
      "{x1**2, x1**5, x1**8, x1**7, x1**4, x1**3, x1, x1**6}\n",
      "{x1**2, x1**5, x1**8, x1**7, x1**4, x1**3, x1}\n",
      "{x1**2, x1**5, x1**8, x1**7, x1**4, x1**3, x1, x1**6}\n",
      "{x1**2, x1**5, x1**8, x1**3, x1}\n",
      "{x1**2, x1**5, x1**8, x1**7, x1**4, x1**3, x1}\n",
      "{x1**2, x1**5, x1**8, x1**7, x1**4, x1**3, x1, x1**6}\n",
      "{x1**2, x1**8, x1**7, x1**4, x1**3, x1}\n",
      "{x1**2, x1**8, x1**7, x1**4, x1**3, x1, x1**6}\n",
      "{x1**2, x1**5, x1**8, x1**7, x1**4, x1**3, x1, x1**6}\n",
      "{x1**2, x1**8, x1**4, x1**3, x1, x1**6}\n",
      "{x1**2, x1**5, x1**8, x1**4, x1**3, x1, x1**6}\n",
      "{x1**2, x1**5, x1**8, x1**7, x1**4, x1**3, x1, x1**6}\n",
      "{x1**2, x1**8, x1**7, x1**4, x1**3, x1, x1**6}\n",
      "{x1**2, x1**5, x1**8, x1**7, x1**4, x1**3, x1, x1**6}\n",
      "{x1**2, x1**5, x1**8, x1**4, x1**3, x1}\n",
      "{x1**2, x1**5, x1**8, x1**4, x1**3, x1, x1**6}\n",
      "{x1**2, x1**5, x1**8, x1**7, x1**4, x1**3, x1, x1**6}\n",
      "{x1**2, x1**5, x1**8, x1**7, x1**4, x1**3, x1}\n",
      "{x1**2, x1**5, x1**8, x1**7, x1**4, x1**3, x1, x1**6}\n",
      "{x1**2, x1**8, x1**4, x1**3, x1}\n",
      "{x1**2, x1**8, x1**7, x1**4, x1, x1**6}\n",
      "{x1**2, x1**8, x1**7, x1**4, x1**3, x1, x1**6}\n",
      "{x1**2, x1**5, x1**8, x1**7, x1**4, x1**3, x1, x1**6}\n",
      "{x1**2, x1**5, x1**8, x1**7, x1**4, x1, x1**6}\n",
      "{x1**2, x1**5, x1**8, x1**7, x1**4, x1**3, x1, x1**6}\n",
      "{x1**2, x1**8, x1**4, x1**3, x1, x1**6}\n",
      "{x1**2, x1**5, x1**8, x1**4, x1**3, x1, x1**6}\n",
      "{x1**2, x1**5, x1**8, x1**7, x1**4, x1**3, x1, x1**6}\n",
      "{x1**2, x1**8, x1**7, x1**4, x1**3, x1, x1**6}\n",
      "{x1**2, x1**5, x1**8, x1**7, x1**4, x1**3, x1, x1**6}\n",
      "{x1**2, x1**5, x1**8, x1**4, x1, x1**6}\n",
      "{x1**2, x1**5, x1**8, x1**7, x1**4, x1, x1**6}\n",
      "{x1**2, x1**5, x1**8, x1**7, x1**4, x1**3, x1, x1**6}\n",
      "{x1**2, x1**5, x1**8, x1**4, x1**3, x1, x1**6}\n",
      "{x1**2, x1**5, x1**8, x1**7, x1**4, x1**3, x1, x1**6}\n",
      "{x1**2, x1**8, x1**4, x1**3, x1, x1**6}\n",
      "{x1**2, x1**5, x1**8, x1**4, x1, x1**6}\n",
      "{x1**2, x1**8, x1**7, x1**4, x1, x1**6}\n",
      "{x1**2, x1**5, x1**8, x1**7, x1**4, x1**3, x1}\n",
      "{x1**2, x1**5, x1**8, x1**7, x1**4, x1**3, x1, x1**6}\n",
      "{x1**2, x1**8, x1**7, x1**4, x1**3, x1}\n",
      "{x1**2, x1**8, x1**7, x1**4, x1**3, x1, x1**6}\n",
      "{x1**2, x1**5, x1**8, x1**7, x1**4, x1**3, x1, x1**6}\n",
      "{x1**2, x1**8, x1**7, x1**4, x1, x1**6}\n",
      "{x1**2, x1**8, x1**7, x1**4, x1**3, x1, x1**6}\n",
      "{x1**2, x1**5, x1**8, x1**7, x1**4, x1**3, x1, x1**6}\n",
      "{x1**2, x1**5, x1**8, x1**7, x1**4, x1, x1**6}\n",
      "{x1**2, x1**5, x1**8, x1**7, x1**4, x1**3, x1, x1**6}\n",
      "{x1**2, x1**5, x1**8, x1**7, x1**4, x1}\n",
      "{x1**2, x1**5, x1**8, x1**7, x1**4, x1, x1**6}\n",
      "{x1**2, x1**5, x1**8, x1**7, x1**4, x1**3, x1, x1**6}\n",
      "{x1**2, x1**5, x1**8, x1**7, x1**4, x1**3, x1}\n",
      "{x1**2, x1**5, x1**8, x1**7, x1**4, x1**3, x1, x1**6}\n",
      "{x1**2, x1**5, x1**8, x1**7, x1**4, x1}\n",
      "{x1**2, x1**5, x1**8, x1**7, x1**4, x1, x1**6}\n",
      "{x1**2, x1**5, x1**8, x1**7, x1**4, x1**3, x1, x1**6}\n",
      "{x1**2, x1**5, x1**8, x1**7, x1**4, x1**3, x1}\n",
      "{x1**2, x1**5, x1**8, x1**7, x1**4, x1**3, x1, x1**6}\n",
      "{x1**2, x1**5, x1**8, x1**4, x1**3, x1}\n",
      "{x1**2, x1**5, x1**8, x1**4, x1, x1**6}\n",
      "{x1**2, x1**5, x1**8, x1**7, x1**4, x1}\n",
      "{x1**2, x1**5, x1**8, x1**4, x1, x1**6}\n",
      "{x1**2, x1**5, x1**8, x1**7, x1**4, x1, x1**6}\n",
      "{x1**2, x1**5, x1**8, x1**7, x1**4, x1**3, x1, x1**6}\n",
      "{x1**2, x1**5, x1**8, x1**4, x1**3, x1, x1**6}\n",
      "{x1**2, x1**5, x1**8, x1**7, x1**4, x1**3, x1, x1**6}\n",
      "{x1**2, x1**5, x1**8, x1**4, x1**3, x1}\n",
      "{x1**2, x1**5, x1**8, x1**4, x1**3, x1, x1**6}\n",
      "{x1**2, x1**5, x1**8, x1**7, x1**4, x1**3, x1, x1**6}\n",
      "{x1**2, x1**5, x1**8, x1**7, x1**4, x1**3, x1}\n",
      "{x1**2, x1**5, x1**8, x1**7, x1**4, x1**3, x1, x1**6}\n",
      "{x1**2, x1**5, x1**8, x1**7, x1**4, x1**3, x1}\n",
      "{x1**2, x1**5, x1**8, x1**7, x1**4, x1**3, x1, x1**6}\n",
      "{x1**2, x1**8, x1**7, x1**4, x1**3, x1}\n",
      "{x1**2, x1**8, x1**7, x1**4, x1**3, x1, x1**6}\n",
      "{x1**2, x1**5, x1**8, x1**7, x1**4, x1**3, x1, x1**6}\n",
      "{x1**2, x1**8, x1**7, x1**3, x1, x1**6}\n",
      "{x1**2, x1**5, x1**8, x1**7, x1**4, x1**3, x1, x1**6}\n",
      "{x1**2, x1**5, x1**8, x1**7, x1**3, x1, x1**6}\n",
      "{x1**2, x1**8, x1**7, x1**4, x1**3, x1, x1**6}\n",
      "{x1**2, x1**5, x1**8, x1**7, x1**4, x1**3, x1, x1**6}\n",
      "{x1**2, x1**5, x1**8, x1**7, x1**3, x1}\n",
      "{x1**2, x1**5, x1**8, x1**7, x1**4, x1**3, x1, x1**6}\n",
      "{x1**2, x1**5, x1**8, x1**7, x1**3, x1, x1**6}\n",
      "{x1**2, x1**5, x1**8, x1**7, x1**4, x1**3, x1}\n",
      "{x1**2, x1**5, x1**8, x1**7, x1**4, x1**3, x1, x1**6}\n",
      "{x1**2, x1**5, x1**8, x1**3, x1, x1**6}\n",
      "{x1**2, x1**5, x1**8, x1**7, x1**4, x1**3, x1, x1**6}\n",
      "{x1**2, x1**5, x1**8, x1**7, x1**3, x1, x1**6}\n",
      "{x1**2, x1**5, x1**8, x1**4, x1**3, x1, x1**6}\n",
      "{x1**2, x1**5, x1**8, x1**7, x1**4, x1**3, x1, x1**6}\n",
      "{x1**2, x1**8, x1**4, x1**3, x1, x1**6}\n",
      "{x1**2, x1**5, x1**8, x1**4, x1**3, x1, x1**6}\n",
      "{x1**2, x1**5, x1**8, x1**7, x1**4, x1**3, x1, x1**6}\n",
      "{x1**2, x1**8, x1**7, x1**4, x1**3, x1, x1**6}\n",
      "{x1**2, x1**5, x1**8, x1**7, x1**4, x1**3, x1, x1**6}\n",
      "{x1**2, x1**8, x1**7, x1**3, x1, x1**6}\n",
      "{x1**2, x1**5, x1**8, x1**7, x1**4, x1**3, x1, x1**6}\n",
      "{x1**2, x1**5, x1**8, x1**7, x1**3, x1, x1**6}\n",
      "{x1**2, x1**8, x1**7, x1**4, x1**3, x1, x1**6}\n",
      "{x1**2, x1**5, x1**8, x1**7, x1**4, x1**3, x1, x1**6}\n",
      "{x1**2, x1**8, x1**3, x1, x1**6}\n",
      "{x1**2, x1**5, x1**8, x1**4, x1**3, x1}\n",
      "{x1**2, x1**5, x1**8, x1**4, x1**3, x1, x1**6}\n",
      "{x1**2, x1**5, x1**8, x1**7, x1**4, x1**3, x1, x1**6}\n",
      "{x1**2, x1**5, x1**8, x1**7, x1**4, x1**3, x1}\n",
      "{x1**2, x1**5, x1**8, x1**7, x1**4, x1**3, x1, x1**6}\n",
      "{x1**2, x1**8, x1**4, x1**3, x1}\n",
      "{x1**2, x1**8, x1**7, x1**4, x1**3, x1}\n",
      "{x1**2, x1**8, x1**7, x1**3, x1, x1**6}\n",
      "{x1**2, x1**5, x1**8, x1**7, x1**3, x1}\n",
      "{x1**2, x1**5, x1**8, x1**3, x1}\n",
      "{x1**2, x1**8, x1**3, x1, x1**6}\n",
      "{x1**2, x1**5, x1**8, x1**7, x1**4, x1**3, x1}\n",
      "{x1**2, x1**5, x1**8, x1**7, x1**4, x1**3, x1, x1**6}\n",
      "{x1**2, x1**8, x1**7, x1**4, x1**3, x1}\n",
      "{x1**2, x1**8, x1**7, x1**4, x1**3, x1, x1**6}\n",
      "{x1**2, x1**5, x1**8, x1**7, x1**4, x1**3, x1, x1**6}\n",
      "{x1**2, x1**8, x1**7, x1**3, x1, x1**6}\n",
      "{x1**2, x1**5, x1**8, x1**7, x1**4, x1**3, x1, x1**6}\n",
      "{x1**2, x1**5, x1**8, x1**7, x1**3, x1, x1**6}\n",
      "{x1**2, x1**8, x1**7, x1**4, x1**3, x1, x1**6}\n",
      "{x1**2, x1**5, x1**8, x1**7, x1**4, x1**3, x1, x1**6}\n",
      "{x1**2, x1**5, x1**8, x1**7, x1**3, x1}\n",
      "{x1**2, x1**5, x1**8, x1**7, x1**4, x1**3, x1, x1**6}\n",
      "{x1**2, x1**5, x1**8, x1**7, x1**3, x1, x1**6}\n",
      "{x1**2, x1**5, x1**8, x1**7, x1**4, x1**3, x1}\n",
      "{x1**2, x1**5, x1**8, x1**7, x1**4, x1**3, x1, x1**6}\n",
      "{x1**2, x1**5, x1**8, x1**3, x1, x1**6}\n",
      "{x1**2, x1**5, x1**8, x1**7, x1**4, x1**3, x1, x1**6}\n",
      "{x1**2, x1**5, x1**8, x1**7, x1**3, x1, x1**6}\n",
      "{x1**2, x1**5, x1**8, x1**4, x1**3, x1, x1**6}\n",
      "{x1**2, x1**5, x1**8, x1**7, x1**4, x1**3, x1, x1**6}\n",
      "{x1**2, x1**8, x1**4, x1**3, x1, x1**6}\n",
      "{x1**2, x1**5, x1**8, x1**4, x1**3, x1, x1**6}\n",
      "{x1**2, x1**5, x1**8, x1**7, x1**4, x1**3, x1, x1**6}\n",
      "{x1**2, x1**8, x1**7, x1**4, x1**3, x1, x1**6}\n",
      "{x1**2, x1**5, x1**8, x1**7, x1**4, x1**3, x1, x1**6}\n",
      "{x1**2, x1**8, x1**7, x1**3, x1, x1**6}\n",
      "{x1**2, x1**5, x1**8, x1**7, x1**4, x1**3, x1, x1**6}\n",
      "{x1**2, x1**5, x1**8, x1**7, x1**3, x1, x1**6}\n",
      "{x1**2, x1**8, x1**7, x1**4, x1**3, x1, x1**6}\n",
      "{x1**2, x1**5, x1**8, x1**7, x1**4, x1**3, x1, x1**6}\n",
      "{x1**2, x1**8, x1**3, x1, x1**6}\n",
      "{x1**2, x1**5, x1**8, x1**4, x1**3, x1}\n",
      "{x1**2, x1**5, x1**8, x1**4, x1**3, x1, x1**6}\n",
      "{x1**2, x1**5, x1**8, x1**7, x1**4, x1**3, x1, x1**6}\n",
      "{x1**2, x1**5, x1**8, x1**7, x1**4, x1**3, x1}\n",
      "{x1**2, x1**5, x1**8, x1**7, x1**4, x1**3, x1, x1**6}\n",
      "{x1**2, x1**8, x1**4, x1**3, x1}\n",
      "{x1**2, x1**8, x1**7, x1**4, x1**3, x1}\n",
      "{x1**2, x1**8, x1**7, x1**3, x1, x1**6}\n",
      "{x1**2, x1**5, x1**8, x1**7, x1**3, x1}\n",
      "{x1**2, x1**5, x1**8, x1**3, x1}\n",
      "{x1**2, x1**8, x1**3, x1, x1**6}\n",
      "{x1**2, x1**5, x1**8, x1**7, x1**4, x1**3, x1}\n",
      "{x1**2, x1**5, x1**8, x1**7, x1**4, x1**3, x1, x1**6}\n",
      "{x1**2, x1**8, x1**7, x1**4, x1**3, x1}\n",
      "{x1**2, x1**8, x1**7, x1**4, x1**3, x1, x1**6}\n",
      "{x1**2, x1**5, x1**8, x1**7, x1**4, x1**3, x1, x1**6}\n",
      "{x1**2, x1**8, x1**4, x1**3, x1, x1**6}\n",
      "{x1**2, x1**5, x1**8, x1**4, x1**3, x1, x1**6}\n",
      "{x1**2, x1**5, x1**8, x1**7, x1**4, x1**3, x1, x1**6}\n",
      "{x1**2, x1**8, x1**7, x1**4, x1**3, x1, x1**6}\n",
      "{x1**2, x1**5, x1**8, x1**7, x1**4, x1**3, x1, x1**6}\n",
      "{x1**2, x1**5, x1**8, x1**4, x1**3, x1}\n",
      "{x1**2, x1**5, x1**8, x1**4, x1**3, x1, x1**6}\n",
      "{x1**2, x1**5, x1**8, x1**7, x1**4, x1**3, x1, x1**6}\n",
      "{x1**2, x1**5, x1**8, x1**7, x1**4, x1**3, x1}\n",
      "{x1**2, x1**5, x1**8, x1**7, x1**4, x1**3, x1, x1**6}\n",
      "{x1**2, x1**8, x1**4, x1**3, x1}\n",
      "{x1**2, x1**8, x1**7, x1**4, x1, x1**6}\n",
      "{x1**2, x1**8, x1**7, x1**4, x1**3, x1, x1**6}\n",
      "{x1**2, x1**5, x1**8, x1**7, x1**4, x1**3, x1, x1**6}\n",
      "{x1**2, x1**5, x1**8, x1**7, x1**4, x1, x1**6}\n",
      "{x1**2, x1**5, x1**8, x1**7, x1**4, x1**3, x1, x1**6}\n",
      "{x1**2, x1**8, x1**4, x1**3, x1, x1**6}\n",
      "{x1**2, x1**5, x1**8, x1**4, x1**3, x1, x1**6}\n",
      "{x1**2, x1**5, x1**8, x1**7, x1**4, x1**3, x1, x1**6}\n",
      "{x1**2, x1**8, x1**7, x1**4, x1**3, x1, x1**6}\n",
      "{x1**2, x1**5, x1**8, x1**7, x1**4, x1**3, x1, x1**6}\n",
      "{x1**2, x1**5, x1**8, x1**4, x1, x1**6}\n",
      "{x1**2, x1**5, x1**8, x1**7, x1**4, x1, x1**6}\n",
      "{x1**2, x1**5, x1**8, x1**7, x1**4, x1**3, x1, x1**6}\n",
      "{x1**2, x1**5, x1**8, x1**4, x1**3, x1, x1**6}\n",
      "{x1**2, x1**5, x1**8, x1**7, x1**4, x1**3, x1, x1**6}\n",
      "{x1**2, x1**8, x1**4, x1**3, x1, x1**6}\n",
      "{x1**2, x1**5, x1**8, x1**4, x1, x1**6}\n",
      "{x1**2, x1**8, x1**7, x1**4, x1, x1**6}\n",
      "{x1**2, x1**5, x1**8, x1**7, x1**4, x1**3, x1}\n",
      "{x1**2, x1**5, x1**8, x1**7, x1**4, x1**3, x1, x1**6}\n",
      "{x1**2, x1**8, x1**7, x1**4, x1**3, x1}\n",
      "{x1**2, x1**8, x1**7, x1**4, x1**3, x1, x1**6}\n",
      "{x1**2, x1**5, x1**8, x1**7, x1**4, x1**3, x1, x1**6}\n",
      "{x1**2, x1**8, x1**7, x1**4, x1, x1**6}\n",
      "{x1**2, x1**8, x1**7, x1**4, x1**3, x1, x1**6}\n",
      "{x1**2, x1**5, x1**8, x1**7, x1**4, x1**3, x1, x1**6}\n",
      "{x1**2, x1**5, x1**8, x1**7, x1**4, x1, x1**6}\n",
      "{x1**2, x1**5, x1**8, x1**7, x1**4, x1**3, x1, x1**6}\n",
      "{x1**2, x1**5, x1**8, x1**7, x1**4, x1}\n",
      "{x1**2, x1**5, x1**8, x1**7, x1**4, x1, x1**6}\n",
      "{x1**2, x1**5, x1**8, x1**7, x1**4, x1**3, x1, x1**6}\n",
      "{x1**2, x1**5, x1**8, x1**7, x1**4, x1**3, x1}\n",
      "{x1**2, x1**5, x1**8, x1**7, x1**4, x1**3, x1, x1**6}\n",
      "{x1**2, x1**5, x1**8, x1**7, x1**4, x1}\n",
      "{x1**2, x1**5, x1**8, x1**7, x1**4, x1, x1**6}\n",
      "{x1**2, x1**5, x1**8, x1**7, x1**4, x1**3, x1, x1**6}\n",
      "{x1**2, x1**5, x1**8, x1**7, x1**4, x1**3, x1}\n",
      "{x1**2, x1**5, x1**8, x1**7, x1**4, x1**3, x1, x1**6}\n",
      "{x1**2, x1**5, x1**8, x1**4, x1**3, x1}\n",
      "{x1**2, x1**5, x1**8, x1**4, x1, x1**6}\n",
      "{x1**2, x1**5, x1**8, x1**7, x1**4, x1}\n",
      "{x1**2, x1**5, x1**8, x1**4, x1, x1**6}\n",
      "{x1**2, x1**5, x1**8, x1**7, x1**4, x1, x1**6}\n",
      "{x1**2, x1**5, x1**8, x1**7, x1**4, x1**3, x1, x1**6}\n",
      "{x1**2, x1**5, x1**8, x1**4, x1**3, x1, x1**6}\n",
      "{x1**2, x1**5, x1**8, x1**7, x1**4, x1**3, x1, x1**6}\n",
      "{x1**2, x1**5, x1**8, x1**4, x1**3, x1}\n",
      "{x1**2, x1**5, x1**8, x1**4, x1**3, x1, x1**6}\n",
      "{x1**2, x1**5, x1**8, x1**7, x1**4, x1**3, x1, x1**6}\n",
      "{x1**2, x1**5, x1**8, x1**7, x1**4, x1**3, x1}\n",
      "{x1**2, x1**5, x1**8, x1**7, x1**4, x1**3, x1, x1**6}\n",
      "{x1**2, x1**5, x1**8, x1**7, x1**4, x1**3, x1}\n",
      "{x1**2, x1**5, x1**8, x1**7, x1**4, x1**3, x1, x1**6}\n",
      "{x1**2, x1**8, x1**7, x1**4, x1**3, x1}\n",
      "{x1**2, x1**8, x1**7, x1**4, x1**3, x1, x1**6}\n",
      "{x1**2, x1**5, x1**8, x1**7, x1**4, x1**3, x1, x1**6}\n",
      "{x1**2, x1**8, x1**4, x1**3, x1, x1**6}\n",
      "{x1**2, x1**5, x1**8, x1**4, x1**3, x1, x1**6}\n",
      "{x1**2, x1**5, x1**8, x1**7, x1**4, x1**3, x1, x1**6}\n",
      "{x1**2, x1**8, x1**7, x1**4, x1**3, x1, x1**6}\n",
      "{x1**2, x1**5, x1**8, x1**7, x1**4, x1**3, x1, x1**6}\n",
      "{x1**2, x1**5, x1**8, x1**4, x1**3, x1}\n",
      "{x1**2, x1**5, x1**8, x1**4, x1**3, x1, x1**6}\n",
      "{x1**2, x1**5, x1**8, x1**7, x1**4, x1**3, x1, x1**6}\n",
      "{x1**2, x1**5, x1**8, x1**7, x1**4, x1**3, x1}\n",
      "{x1**2, x1**5, x1**8, x1**7, x1**4, x1**3, x1, x1**6}\n",
      "{x1**2, x1**8, x1**4, x1**3, x1}\n"
     ]
    }
   ],
   "source": [
    "DissipativeQuadratization(eq_system, 9)"
   ]
  },
  {
   "cell_type": "code",
   "execution_count": 52,
   "metadata": {},
   "outputs": [
    {
     "data": {
      "application/vnd.jupyter.widget-view+json": {
       "model_id": "42225485557844329c530f097ce61800",
       "version_major": 2,
       "version_minor": 0
      },
      "text/plain": [
       "Nodes processed: 0 nodes [00:00, ? nodes/s]"
      ]
     },
     "metadata": {},
     "output_type": "display_data"
    },
    {
     "name": "stdout",
     "output_type": "stream",
     "text": [
      "No upper bound was found\n"
     ]
    },
    {
     "data": {
      "application/vnd.jupyter.widget-view+json": {
       "model_id": "273be5602b45492088860cf08229f65c",
       "version_major": 2,
       "version_minor": 0
      },
      "text/plain": [
       "Nodes processed: 0 nodes [00:00, ? nodes/s]"
      ]
     },
     "metadata": {},
     "output_type": "display_data"
    },
    {
     "name": "stdout",
     "output_type": "stream",
     "text": [
      "Introduced variables:\n",
      "w0 = x1**3\n",
      "w1 = x1**8\n",
      "\n",
      "x1' = w0*x1 + w1*x1\n",
      "w0' = 3*w0**2 + 3*w0*w1\n",
      "w1' = 8*w0*w1 + 8*w1**2\n"
     ]
    }
   ],
   "source": [
    "x1 = functions(\"x1\")\n",
    "\n",
    "system = [\n",
    "    (x1, x1**9 + x1 ** 4)\n",
    "]\n",
    "\n",
    "res = quadratize(system)\n",
    "res.print()"
   ]
  }
 ],
 "metadata": {
  "kernelspec": {
   "display_name": "Python 3",
   "language": "python",
   "name": "python3"
  },
  "language_info": {
   "codemirror_mode": {
    "name": "ipython",
    "version": 3
   },
   "file_extension": ".py",
   "mimetype": "text/x-python",
   "name": "python",
   "nbconvert_exporter": "python",
   "pygments_lexer": "ipython3",
   "version": "3.9.16"
  },
  "orig_nbformat": 4
 },
 "nbformat": 4,
 "nbformat_minor": 2
}
