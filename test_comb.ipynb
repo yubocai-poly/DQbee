{
 "cells": [
  {
   "cell_type": "code",
   "execution_count": 1,
   "metadata": {},
   "outputs": [],
   "source": [
    "from Combinations import *\n",
    "from EquationSystem import *\n",
    "import sympy as sp"
   ]
  },
  {
   "attachments": {},
   "cell_type": "markdown",
   "metadata": {},
   "source": [
    "### Test for combinatorial functions\n",
    "\n",
    "---\n",
    "\n",
    "$$\n",
    "\\begin{cases}\n",
    "x_{1}'=\\alpha x_{2} + x_{1} \\\\\n",
    "x_{2}'=x_{1}^{2} + x_{2}^{2} \\\\\n",
    "x_{3}'=\\beta x_{2} + \\gamma^{2} x_{1}^{2} x_{3} + x_{1}\n",
    "\\end{cases}\n",
    "$$"
   ]
  },
  {
   "cell_type": "code",
   "execution_count": 2,
   "metadata": {},
   "outputs": [],
   "source": [
    "x1, x2, x3 = sp.var(\"x1 x2 x3\")\n",
    "alpha = sp.Symbol(\"alpha\")\n",
    "beta = sp.Symbol(\"beta\")\n",
    "gamma = sp.Symbol(\"gamma\")\n",
    "\n",
    "system = [\n",
    "    sp.Eq(x1, x1 + alpha * x2),\n",
    "    sp.Eq(x2, x1 ** 2 + x2 ** 2),\n",
    "    sp.Eq(x3, x1 + beta * x2 + gamma ** 2 * x3 * x1 ** 2)\n",
    "]\n",
    "\n",
    "eq_system = EquationSystem(system)"
   ]
  },
  {
   "cell_type": "code",
   "execution_count": 4,
   "metadata": {},
   "outputs": [
    {
     "name": "stdout",
     "output_type": "stream",
     "text": [
      "{x1**2*x3: 6}\n"
     ]
    }
   ],
   "source": [
    "print(set_to_score_dict(eq_system.NSquare))"
   ]
  }
 ],
 "metadata": {
  "kernelspec": {
   "display_name": "Python 3",
   "language": "python",
   "name": "python3"
  },
  "language_info": {
   "codemirror_mode": {
    "name": "ipython",
    "version": 3
   },
   "file_extension": ".py",
   "mimetype": "text/x-python",
   "name": "python",
   "nbconvert_exporter": "python",
   "pygments_lexer": "ipython3",
   "version": "3.9.16"
  },
  "orig_nbformat": 4
 },
 "nbformat": 4,
 "nbformat_minor": 2
}
