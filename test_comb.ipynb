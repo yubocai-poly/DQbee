{
 "cells": [
  {
   "cell_type": "code",
   "execution_count": 1,
   "metadata": {},
   "outputs": [],
   "source": [
    "from Combinations import *\n",
    "from EquationSystem import *\n",
    "import sympy as sp"
   ]
  },
  {
   "attachments": {},
   "cell_type": "markdown",
   "metadata": {},
   "source": [
    "### Test for combinatorial functions\n",
    "\n",
    "---\n",
    "\n",
    "$$\n",
    "\\begin{cases}\n",
    "x_{1}'=\\alpha x_{2} + x_{1} \\\\\n",
    "x_{2}'=x_{1}^{2} + x_{2}^{2} \\\\\n",
    "x_{3}'=\\beta x_{2} + \\gamma^{2} x_{1}^{2} x_{3} + x_{1}\n",
    "\\end{cases}\n",
    "$$"
   ]
  },
  {
   "cell_type": "code",
   "execution_count": 2,
   "metadata": {},
   "outputs": [],
   "source": [
    "x1, x2, x3 = sp.var(\"x1 x2 x3\")\n",
    "alpha = sp.Symbol(\"alpha\")\n",
    "beta = sp.Symbol(\"beta\")\n",
    "gamma = sp.Symbol(\"gamma\")\n",
    "\n",
    "system = [\n",
    "    sp.Eq(x1, x1 + alpha * x2),\n",
    "    sp.Eq(x2, x1 ** 2 + x2 ** 2),\n",
    "    sp.Eq(x3, x1 + beta * x2 + gamma ** 2 * x3 * x1 ** 2)\n",
    "]\n",
    "\n",
    "eq_system = EquationSystem(system)"
   ]
  },
  {
   "cell_type": "code",
   "execution_count": 3,
   "metadata": {},
   "outputs": [
    {
     "name": "stdout",
     "output_type": "stream",
     "text": [
      "{x1**2*x3: 6}\n",
      "3\n",
      "3\n",
      "set() \n",
      " {x1**2*x3}\n",
      "(x1**2*x3, 'NS')\n"
     ]
    }
   ],
   "source": [
    "print(set_to_score_dict(eq_system.NSquare))\n",
    "print(eq_system.degree)\n",
    "print(eq_system.dimension)\n",
    "print(eq_system.NQuadratic, \"\\n\", eq_system.NSquare)\n",
    "print(select_decompose_variable(eq_system))"
   ]
  },
  {
   "cell_type": "code",
   "execution_count": 4,
   "metadata": {},
   "outputs": [
    {
     "name": "stdout",
     "output_type": "stream",
     "text": [
      "[(x1**2, x3), (1, x1**2*x3), (x1, x1*x3)]\n",
      "((x1**2*x3, 'NS'), [[x1**2], [x1*x3]])\n"
     ]
    }
   ],
   "source": [
    "print(decomposition_monomial(x1**2*x3))\n",
    "print(decompose_variable(eq_system))"
   ]
  },
  {
   "attachments": {},
   "cell_type": "markdown",
   "metadata": {},
   "source": [
    "### Test for NQ decomposition\n",
    "\n",
    "---"
   ]
  },
  {
   "cell_type": "code",
   "execution_count": 5,
   "metadata": {},
   "outputs": [],
   "source": [
    "def decomposition_NQ(system: EquationSystem):\n",
    "    system_degree = system.degree\n",
    "    selected_variable = select_decompose_variable(system)\n",
    "    decomposition = decomposition_monomial(selected_variable[0])\n",
    "    valid_decomposition = []\n",
    "\n",
    "    for decompose in decomposition:\n",
    "        res = []\n",
    "        if 1 in decompose:\n",
    "            continue\n",
    "        else:\n",
    "            for i in range(2):\n",
    "                if degree_function(decompose[i]) < system_degree and decompose[i] not in system.V:\n",
    "                    res.append(decompose[i])\n",
    "            if len(res) == 0:\n",
    "                continue\n",
    "            elif len(res) == 2 and res[0] == res[1]:\n",
    "                valid_decomposition.append([res[0]])\n",
    "            else:\n",
    "                valid_decomposition.append(res)\n",
    "\n",
    "    return selected_variable, valid_decomposition"
   ]
  },
  {
   "cell_type": "code",
   "execution_count": 6,
   "metadata": {},
   "outputs": [
    {
     "name": "stdout",
     "output_type": "stream",
     "text": [
      "((x1**2*x3, 'NS'), [[x1**2], [x1*x3]])\n"
     ]
    }
   ],
   "source": [
    "print(decomposition_NQ(eq_system))"
   ]
  },
  {
   "attachments": {},
   "cell_type": "markdown",
   "metadata": {},
   "source": [
    "---\n",
    "\n",
    "**Example 3.** Consider a system\n",
    "$$\n",
    "x_1^{\\prime}=x_2^4, \\quad x_2^{\\prime}=x_1^2 .\n",
    "$$"
   ]
  },
  {
   "cell_type": "code",
   "execution_count": 7,
   "metadata": {},
   "outputs": [],
   "source": [
    "system = [\n",
    "    sp.Eq(x1, x2**4),\n",
    "    sp.Eq(x2, x1**2),\n",
    "]\n",
    "\n",
    "eq_system = EquationSystem(system)"
   ]
  },
  {
   "cell_type": "code",
   "execution_count": 8,
   "metadata": {},
   "outputs": [
    {
     "name": "stdout",
     "output_type": "stream",
     "text": [
      "((x2**4, 'NS'), [[x2**2], [x2**3]])\n"
     ]
    }
   ],
   "source": [
    "print(decompose_variable(eq_system))"
   ]
  },
  {
   "attachments": {},
   "cell_type": "markdown",
   "metadata": {},
   "source": [
    "---\n",
    "\n",
    "**Example 4.** Consider a system\n",
    "$$\n",
    "x^{\\prime}=x^4+x^3\n",
    "$$"
   ]
  },
  {
   "cell_type": "code",
   "execution_count": 9,
   "metadata": {},
   "outputs": [
    {
     "name": "stdout",
     "output_type": "stream",
     "text": [
      "((x1**3, 'NS'), [[x1**3], [x1**2]])\n"
     ]
    }
   ],
   "source": [
    "system = [\n",
    "    sp.Eq(x1, x1**4 + x1 ** 3),\n",
    "]\n",
    "\n",
    "eq_system = EquationSystem(system)\n",
    "print(decompose_variable(eq_system))"
   ]
  }
 ],
 "metadata": {
  "kernelspec": {
   "display_name": "Python 3",
   "language": "python",
   "name": "python3"
  },
  "language_info": {
   "codemirror_mode": {
    "name": "ipython",
    "version": 3
   },
   "file_extension": ".py",
   "mimetype": "text/x-python",
   "name": "python",
   "nbconvert_exporter": "python",
   "pygments_lexer": "ipython3",
   "version": "3.9.16"
  },
  "orig_nbformat": 4
 },
 "nbformat": 4,
 "nbformat_minor": 2
}
