{
 "cells": [
  {
   "cell_type": "code",
   "execution_count": 1,
   "metadata": {},
   "outputs": [
    {
     "name": "stderr",
     "output_type": "stream",
     "text": [
      "/Users/yubocai/anaconda3/envs/mlp/lib/python3.9/site-packages/qbee/util.py:6: TqdmExperimentalWarning: Using `tqdm.autonotebook.tqdm` in notebook mode. Use `tqdm.tqdm` instead to force console mode (e.g. in jupyter console)\n",
      "  from tqdm.autonotebook import tqdm\n"
     ]
    }
   ],
   "source": [
    "from Combinations import *\n",
    "from EquationSystem import *\n",
    "from DifferientialPoly import *\n",
    "from DQuadratization import *\n",
    "import sympy as sp\n",
    "from qbee import *"
   ]
  },
  {
   "attachments": {},
   "cell_type": "markdown",
   "metadata": {},
   "source": [
    "### Test for combinatorial functions\n",
    "\n",
    "---\n",
    "\n",
    "$$\n",
    "\\begin{cases}\n",
    "x_{1}'=\\alpha x_{2} + x_{1} \\\\\n",
    "x_{2}'=x_{1}^{2} + x_{2}^{2} \\\\\n",
    "x_{3}'=\\beta x_{2} + \\gamma^{2} x_{1}^{2} x_{3} + x_{1}\n",
    "\\end{cases}\n",
    "$$"
   ]
  },
  {
   "cell_type": "code",
   "execution_count": 2,
   "metadata": {},
   "outputs": [],
   "source": [
    "x1, x2, x3 = sp.var(\"x1 x2 x3\")\n",
    "alpha = sp.Symbol(\"alpha\")\n",
    "beta = sp.Symbol(\"beta\")\n",
    "gamma = sp.Symbol(\"gamma\")\n",
    "\n",
    "system = [\n",
    "    sp.Eq(x1, x1 + alpha * x2),\n",
    "    sp.Eq(x2, x1 ** 2 + x2 ** 2),\n",
    "    sp.Eq(x3, x1 + beta * x2 + gamma ** 2 * x3 * x1 ** 2)\n",
    "]\n",
    "\n",
    "eq_system = EquationSystem(system)"
   ]
  },
  {
   "cell_type": "code",
   "execution_count": 3,
   "metadata": {},
   "outputs": [
    {
     "name": "stdout",
     "output_type": "stream",
     "text": [
      "The Original System is: \n"
     ]
    },
    {
     "data": {
      "text/latex": [
       "$$\\begin{cases}\n",
       "(x_{1})' &= \\alpha x_{2} + x_{1}\\\\\n",
       "(x_{2})' &= x_{1}^{2} + x_{2}^{2}\\\\\n",
       "(x_{3})' &= \\beta x_{2} + \\gamma^{2} x_{1}^{2} x_{3} + x_{1}\n",
       "\\end{cases}$$"
      ],
      "text/plain": [
       "<IPython.core.display.Latex object>"
      ]
     },
     "metadata": {},
     "output_type": "display_data"
    },
    {
     "name": "stdout",
     "output_type": "stream",
     "text": [
      "The Optimal Dissipative Quadratization is: \n"
     ]
    },
    {
     "data": {
      "text/latex": [
       "$$\\begin{cases}\n",
       "(x_{1})' &= \\alpha x_{2} + x_{1}\\\\\n",
       "(x_{2})' &= x_{1}^{2} + x_{2}^{2}\\\\\n",
       "(x_{3})' &= \\beta x_{2} + \\gamma^{2} x_{1}^{2} x_{3} + x_{1}\\\\\n",
       "(x_{1}^{2})' &= 2 \\alpha x_{1} x_{2} + 2 x_{1}^{2}\n",
       "\\end{cases}$$"
      ],
      "text/plain": [
       "<IPython.core.display.Latex object>"
      ]
     },
     "metadata": {},
     "output_type": "display_data"
    },
    {
     "name": "stdout",
     "output_type": "stream",
     "text": [
      "The new introduced variables are: \n"
     ]
    },
    {
     "data": {
      "text/latex": [
       "$$\\begin{cases}\n",
       "w_{1} = x_{1}^{2} \\\\ \n",
       "\\end{cases}$$"
      ],
      "text/plain": [
       "<IPython.core.display.Latex object>"
      ]
     },
     "metadata": {},
     "output_type": "display_data"
    },
    {
     "name": "stdout",
     "output_type": "stream",
     "text": [
      "The Optimal Quadratic Dissipative System is (with substitution): \n"
     ]
    },
    {
     "data": {
      "text/latex": [
       "$$\\begin{cases}\n",
       "(x_{1})' &= \\alpha x_{2} + x_{1}\\\\\n",
       "(x_{2})' &= x_{1}^{2} + x_{2}^{2}\\\\\n",
       "(x_{3})' &= \\beta x_{2} + \\gamma^{2} w_{1} x_{3} + x_{1}\\\\\n",
       "(w_{1})' &= 2 \\alpha x_{1} x_{2} + 2 x_{1}^{2}\n",
       "\\end{cases}$$"
      ],
      "text/plain": [
       "<IPython.core.display.Latex object>"
      ]
     },
     "metadata": {},
     "output_type": "display_data"
    }
   ],
   "source": [
    "system = OptimalDissipativeQuadratization(eq_system)[1]"
   ]
  },
  {
   "attachments": {},
   "cell_type": "markdown",
   "metadata": {},
   "source": [
    "---\n",
    "\n",
    "**Example 3.** Consider a system\n",
    "$$\n",
    "x_1^{\\prime}=x_2^4, \\quad x_2^{\\prime}=x_1^2 .\n",
    "$$"
   ]
  },
  {
   "cell_type": "code",
   "execution_count": 4,
   "metadata": {},
   "outputs": [],
   "source": [
    "system = [\n",
    "    sp.Eq(x1, x2**4),\n",
    "    sp.Eq(x2, x1**2),\n",
    "]\n",
    "\n",
    "eq_system = EquationSystem(system)"
   ]
  },
  {
   "cell_type": "code",
   "execution_count": 5,
   "metadata": {},
   "outputs": [
    {
     "name": "stdout",
     "output_type": "stream",
     "text": [
      "((x2**4, 'NS'), [[x2**2], [x2**3]])\n"
     ]
    }
   ],
   "source": [
    "print(decompose_variable(eq_system, eq_system.degree))"
   ]
  },
  {
   "cell_type": "code",
   "execution_count": 6,
   "metadata": {},
   "outputs": [
    {
     "name": "stdout",
     "output_type": "stream",
     "text": [
      "2*x1**2*x2\n"
     ]
    }
   ],
   "source": [
    "print(calculate_polynomial_derivative(x2**2, eq_system))"
   ]
  },
  {
   "cell_type": "code",
   "execution_count": 7,
   "metadata": {},
   "outputs": [
    {
     "name": "stdout",
     "output_type": "stream",
     "text": [
      "{x1**2, x2**2, x1*x2, x1, x1*x2**2, x2, x2**3}\n"
     ]
    }
   ],
   "source": [
    "print(getOneDQuadratization(eq_system)[1])"
   ]
  },
  {
   "cell_type": "code",
   "execution_count": 8,
   "metadata": {},
   "outputs": [
    {
     "name": "stdout",
     "output_type": "stream",
     "text": [
      "The Original System is: \n"
     ]
    },
    {
     "data": {
      "text/latex": [
       "$$\\begin{cases}\n",
       "(x_{1})' &= x_{2}^{4}\\\\\n",
       "(x_{2})' &= x_{1}^{2}\n",
       "\\end{cases}$$"
      ],
      "text/plain": [
       "<IPython.core.display.Latex object>"
      ]
     },
     "metadata": {},
     "output_type": "display_data"
    },
    {
     "name": "stdout",
     "output_type": "stream",
     "text": [
      "The Optimal Dissipative Quadratization is: \n"
     ]
    },
    {
     "data": {
      "text/latex": [
       "$$\\begin{cases}\n",
       "(x_{1})' &= x_{2}^{4}\\\\\n",
       "(x_{2})' &= x_{1}^{2}\\\\\n",
       "(x_{1}^{2})' &= 2 x_{1} x_{2}^{4}\\\\\n",
       "(x_{2}^{2})' &= 2 x_{1}^{2} x_{2}\\\\\n",
       "(x_{1} x_{2})' &= x_{1}^{3} + x_{2}^{5}\\\\\n",
       "(x_{2}^{3})' &= 3 x_{1}^{2} x_{2}^{2}\n",
       "\\end{cases}$$"
      ],
      "text/plain": [
       "<IPython.core.display.Latex object>"
      ]
     },
     "metadata": {},
     "output_type": "display_data"
    },
    {
     "name": "stdout",
     "output_type": "stream",
     "text": [
      "The new introduced variables are: \n"
     ]
    },
    {
     "data": {
      "text/latex": [
       "$$\\begin{cases}\n",
       "w_{1} = x_{1}^{2} \\\\ w_{2} = x_{2}^{2} \\\\ w_{3} = x_{1} x_{2} \\\\ w_{4} = x_{2}^{3} \\\\ \n",
       "\\end{cases}$$"
      ],
      "text/plain": [
       "<IPython.core.display.Latex object>"
      ]
     },
     "metadata": {},
     "output_type": "display_data"
    },
    {
     "name": "stdout",
     "output_type": "stream",
     "text": [
      "The Optimal Quadratic Dissipative System is (with substitution): \n"
     ]
    },
    {
     "data": {
      "text/latex": [
       "$$\\begin{cases}\n",
       "(x_{1})' &= w_{4} x_{2}\\\\\n",
       "(x_{2})' &= x_{1}^{2}\\\\\n",
       "(w_{1})' &= 2 w_{3} w_{4}\\\\\n",
       "(w_{2})' &= 2 w_{1} x_{2}\\\\\n",
       "(w_{3})' &= w_{1} x_{1} + w_{2} w_{4}\\\\\n",
       "(w_{4})' &= 3 w_{3}^{2}\n",
       "\\end{cases}$$"
      ],
      "text/plain": [
       "<IPython.core.display.Latex object>"
      ]
     },
     "metadata": {},
     "output_type": "display_data"
    },
    {
     "data": {
      "text/plain": [
       "(<EquationSystem.EquationSystem at 0x14e7dac10>, {x1**2, x1*x2, x2**2, x2**3})"
      ]
     },
     "execution_count": 8,
     "metadata": {},
     "output_type": "execute_result"
    }
   ],
   "source": [
    "OptimalDissipativeQuadratization(eq_system)"
   ]
  },
  {
   "attachments": {},
   "cell_type": "markdown",
   "metadata": {},
   "source": [
    "---\n",
    "\n",
    "**Example 4.** Consider a system\n",
    "$$\n",
    "x^{\\prime}=x^4+x^3\n",
    "$$"
   ]
  },
  {
   "cell_type": "code",
   "execution_count": 9,
   "metadata": {},
   "outputs": [
    {
     "name": "stdout",
     "output_type": "stream",
     "text": [
      "((x1**4, 'NS'), [[x1**2], [x1**3], [x1**4]])\n"
     ]
    }
   ],
   "source": [
    "system = [\n",
    "    sp.Eq(x1, x1**9 + x1 ** 4)\n",
    "]\n",
    "\n",
    "eq_system = EquationSystem(system)\n",
    "print(decompose_variable(eq_system, eq_system.degree))"
   ]
  },
  {
   "cell_type": "code",
   "execution_count": 10,
   "metadata": {},
   "outputs": [
    {
     "name": "stdout",
     "output_type": "stream",
     "text": [
      "The Original System is: \n"
     ]
    },
    {
     "data": {
      "text/latex": [
       "$$\\begin{cases}\n",
       "(x_{1})' &= x_{1}^{9} + x_{1}^{4}\n",
       "\\end{cases}$$"
      ],
      "text/plain": [
       "<IPython.core.display.Latex object>"
      ]
     },
     "metadata": {},
     "output_type": "display_data"
    },
    {
     "name": "stdout",
     "output_type": "stream",
     "text": [
      "The Optimal Dissipative Quadratization is: \n"
     ]
    },
    {
     "data": {
      "text/latex": [
       "$$\\begin{cases}\n",
       "(x_{1})' &= x_{1}^{9} + x_{1}^{4}\\\\\n",
       "(x_{1}^{2})' &= 2 x_{1}^{10} + 2 x_{1}^{5}\\\\\n",
       "(x_{1}^{8})' &= 8 x_{1}^{16} + 8 x_{1}^{11}\\\\\n",
       "(x_{1}^{3})' &= 3 x_{1}^{11} + 3 x_{1}^{6}\\\\\n",
       "(x_{1}^{5})' &= 5 x_{1}^{13} + 5 x_{1}^{8}\n",
       "\\end{cases}$$"
      ],
      "text/plain": [
       "<IPython.core.display.Latex object>"
      ]
     },
     "metadata": {},
     "output_type": "display_data"
    },
    {
     "name": "stdout",
     "output_type": "stream",
     "text": [
      "The new introduced variables are: \n"
     ]
    },
    {
     "data": {
      "text/latex": [
       "$$\\begin{cases}\n",
       "w_{1} = x_{1}^{2} \\\\ w_{2} = x_{1}^{8} \\\\ w_{3} = x_{1}^{3} \\\\ w_{4} = x_{1}^{5} \\\\ \n",
       "\\end{cases}$$"
      ],
      "text/plain": [
       "<IPython.core.display.Latex object>"
      ]
     },
     "metadata": {},
     "output_type": "display_data"
    },
    {
     "name": "stdout",
     "output_type": "stream",
     "text": [
      "The Optimal Quadratic Dissipative System is (with substitution): \n"
     ]
    },
    {
     "data": {
      "text/latex": [
       "$$\\begin{cases}\n",
       "(x_{1})' &= w_{2} x_{1} + w_{3} x_{1}\\\\\n",
       "(w_{1})' &= 2 w_{4}^{2} + 2 w_{4}\\\\\n",
       "(w_{2})' &= 8 w_{2}^{2} + 8 w_{2} w_{3}\\\\\n",
       "(w_{3})' &= 3 w_{2} w_{3} + 3 w_{4} x_{1}\\\\\n",
       "(w_{4})' &= 5 w_{2} w_{4} + 5 w_{2}\n",
       "\\end{cases}$$"
      ],
      "text/plain": [
       "<IPython.core.display.Latex object>"
      ]
     },
     "metadata": {},
     "output_type": "display_data"
    },
    {
     "data": {
      "text/plain": [
       "(<EquationSystem.EquationSystem at 0x14e8273d0>, {x1**2, x1**3, x1**5, x1**8})"
      ]
     },
     "execution_count": 10,
     "metadata": {},
     "output_type": "execute_result"
    }
   ],
   "source": [
    "OptimalDissipativeQuadratization(eq_system)"
   ]
  },
  {
   "cell_type": "code",
   "execution_count": 11,
   "metadata": {},
   "outputs": [
    {
     "name": "stdout",
     "output_type": "stream",
     "text": [
      "The Original System is: \n"
     ]
    },
    {
     "data": {
      "text/latex": [
       "$$\\begin{cases}\n",
       "(x_{1})' &= x_{2}^{7}\\\\\n",
       "(x_{2})' &= x_{1}^{3}\n",
       "\\end{cases}$$"
      ],
      "text/plain": [
       "<IPython.core.display.Latex object>"
      ]
     },
     "metadata": {},
     "output_type": "display_data"
    },
    {
     "name": "stdout",
     "output_type": "stream",
     "text": [
      "The Optimal Dissipative Quadratization is: \n"
     ]
    },
    {
     "data": {
      "text/latex": [
       "$$\\begin{cases}\n",
       "(x_{1})' &= x_{2}^{7}\\\\\n",
       "(x_{2})' &= x_{1}^{3}\\\\\n",
       "(x_{2}^{6})' &= 6 x_{1}^{3} x_{2}^{5}\\\\\n",
       "(x_{1}^{2})' &= 2 x_{1} x_{2}^{7}\\\\\n",
       "(x_{2}^{2})' &= 2 x_{1}^{3} x_{2}\\\\\n",
       "(x_{1}^{2} x_{2})' &= x_{1}^{5} + 2 x_{1} x_{2}^{8}\\\\\n",
       "(x_{2}^{5})' &= 5 x_{1}^{3} x_{2}^{4}\\\\\n",
       "(x_{2}^{4})' &= 4 x_{1}^{3} x_{2}^{3}\\\\\n",
       "(x_{1}^{3})' &= 3 x_{1}^{2} x_{2}^{7}\\\\\n",
       "(x_{1} x_{2}^{2})' &= 2 x_{1}^{4} x_{2} + x_{2}^{9}\n",
       "\\end{cases}$$"
      ],
      "text/plain": [
       "<IPython.core.display.Latex object>"
      ]
     },
     "metadata": {},
     "output_type": "display_data"
    },
    {
     "name": "stdout",
     "output_type": "stream",
     "text": [
      "The new introduced variables are: \n"
     ]
    },
    {
     "data": {
      "text/latex": [
       "$$\\begin{cases}\n",
       "w_{1} = x_{2}^{6} \\\\ w_{2} = x_{1}^{2} \\\\ w_{3} = x_{2}^{2} \\\\ w_{4} = x_{1}^{2} x_{2} \\\\ w_{5} = x_{2}^{5} \\\\ w_{6} = x_{2}^{4} \\\\ w_{7} = x_{1}^{3} \\\\ w_{8} = x_{1} x_{2}^{2} \\\\ \n",
       "\\end{cases}$$"
      ],
      "text/plain": [
       "<IPython.core.display.Latex object>"
      ]
     },
     "metadata": {},
     "output_type": "display_data"
    },
    {
     "name": "stdout",
     "output_type": "stream",
     "text": [
      "The Optimal Quadratic Dissipative System is (with substitution): \n"
     ]
    },
    {
     "data": {
      "text/latex": [
       "$$\\begin{cases}\n",
       "(x_{1})' &= w_{1} x_{2}\\\\\n",
       "(x_{2})' &= w_{7}\\\\\n",
       "(w_{1})' &= 6 w_{5} w_{7}\\\\\n",
       "(w_{2})' &= 2 w_{5} w_{8}\\\\\n",
       "(w_{3})' &= 2 w_{7} x_{2}\\\\\n",
       "(w_{4})' &= 2 w_{1} w_{8} + w_{2} w_{7}\\\\\n",
       "(w_{5})' &= 5 w_{6} w_{7}\\\\\n",
       "(w_{6})' &= 4 w_{4} w_{8}\\\\\n",
       "(w_{7})' &= 3 w_{1} w_{4}\\\\\n",
       "(w_{8})' &= 2 w_{2} w_{4} + w_{5} w_{6}\n",
       "\\end{cases}$$"
      ],
      "text/plain": [
       "<IPython.core.display.Latex object>"
      ]
     },
     "metadata": {},
     "output_type": "display_data"
    }
   ],
   "source": [
    "x1, x2, x3 = sp.var(\"x1 x2 x3\")\n",
    "\n",
    "system = [\n",
    "    sp.Eq(x1, x2**7),\n",
    "    sp.Eq(x2, x1**3),\n",
    "]\n",
    "\n",
    "eq_system = EquationSystem(system)\n",
    "\n",
    "system = OptimalDissipativeQuadratization(eq_system)"
   ]
  }
 ],
 "metadata": {
  "kernelspec": {
   "display_name": "Python 3",
   "language": "python",
   "name": "python3"
  },
  "language_info": {
   "codemirror_mode": {
    "name": "ipython",
    "version": 3
   },
   "file_extension": ".py",
   "mimetype": "text/x-python",
   "name": "python",
   "nbconvert_exporter": "python",
   "pygments_lexer": "ipython3",
   "version": "3.9.16"
  },
  "orig_nbformat": 4
 },
 "nbformat": 4,
 "nbformat_minor": 2
}
