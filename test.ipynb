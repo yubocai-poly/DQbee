{
 "cells": [
  {
   "cell_type": "code",
   "execution_count": 1,
   "metadata": {},
   "outputs": [],
   "source": [
    "from AST_walk import *\n",
    "import AST_walk as ast\n",
    "from EquationSystem import *"
   ]
  },
  {
   "cell_type": "code",
   "execution_count": 2,
   "metadata": {},
   "outputs": [
    {
     "name": "stdout",
     "output_type": "stream",
     "text": [
      "True\n"
     ]
    }
   ],
   "source": [
    "# test\n",
    "x, y, z = sp.symbols('x y z')\n",
    "expr = x ** 2 + y - x * y + y ** 3\n",
    "print(ast.is_polynomial_function_all(expr))"
   ]
  },
  {
   "attachments": {},
   "cell_type": "markdown",
   "metadata": {},
   "source": [
    "---"
   ]
  },
  {
   "cell_type": "code",
   "execution_count": 3,
   "metadata": {},
   "outputs": [
    {
     "name": "stdout",
     "output_type": "stream",
     "text": [
      "(False, 1/(x + y**2))\n",
      "(False, sin(x))\n"
     ]
    }
   ],
   "source": [
    "expr = (x ** 2 + y) / (x + y ** 2)\n",
    "print(ast.is_polynomial_function_all(expr))\n",
    "\n",
    "x, y = sp.symbols([\"x\", \"y\"])\n",
    "sin = sp.Function(\"sin\")\n",
    "\n",
    "expr = x ** 2 - y + (x + y) * sin(x)\n",
    "print(ast.is_polynomial_function_all(expr))"
   ]
  },
  {
   "cell_type": "code",
   "execution_count": 4,
   "metadata": {},
   "outputs": [
    {
     "name": "stdout",
     "output_type": "stream",
     "text": [
      "[alpha*x2 + x1, x1**2 + x2**2]\n",
      "{x1, x2}\n",
      "{alpha}\n"
     ]
    }
   ],
   "source": [
    "x1, x2 = sp.var(\"x1 x2\")\n",
    "alpha = sp.Symbol(\"alpha\")\n",
    "\n",
    "system = [\n",
    "    sp.Eq(x1, x1 + alpha * x2),\n",
    "    sp.Eq(x2, x1 ** 2 + x2 ** 2)\n",
    "]\n",
    "\n",
    "eq_system = EquationSystem(system)\n",
    "\n",
    "print(eq_system.righthand)  # [x1 + alpha*x2, x1**2 + x2**2]\n",
    "print(eq_system.variables)  # {x1, x2}\n",
    "print(eq_system.constants)  # {alpha}"
   ]
  },
  {
   "cell_type": "code",
   "execution_count": 5,
   "metadata": {},
   "outputs": [
    {
     "name": "stdout",
     "output_type": "stream",
     "text": [
      "x_{1}'=\\alpha x_{2} + x_{1}\n",
      "x_{2}'=x_{1}^{2} + x_{2}^{2}\n"
     ]
    }
   ],
   "source": [
    "latex_str = eq_system.print_system_latex(system)\n",
    "print(latex_str)"
   ]
  },
  {
   "cell_type": "code",
   "execution_count": 8,
   "metadata": {},
   "outputs": [
    {
     "name": "stdout",
     "output_type": "stream",
     "text": [
      "[alpha*x2 + x1, x1**2 + x2**2, beta*x2 + gamma*x3 + x1]\n",
      "{x3, x1, x2}\n",
      "{gamma, alpha, beta}\n",
      "x_{1}'=\\alpha x_{2} + x_{1}\n",
      "x_{2}'=x_{1}^{2} + x_{2}^{2}\n",
      "x_{3}'=\\beta x_{2} + \\gamma x_{3} + x_{1}\n"
     ]
    }
   ],
   "source": [
    "# create a more complex system\n",
    "x1, x2, x3 = sp.var(\"x1 x2 x3\")\n",
    "alpha = sp.Symbol(\"alpha\")\n",
    "beta = sp.Symbol(\"beta\")\n",
    "gamma = sp.Symbol(\"gamma\")\n",
    "\n",
    "system = [\n",
    "    sp.Eq(x1, x1 + alpha * x2),\n",
    "    sp.Eq(x2, x1 ** 2 + x2 ** 2),\n",
    "    sp.Eq(x3, x1 + beta * x2 + gamma * x3)\n",
    "]\n",
    "\n",
    "eq_system = EquationSystem(system)\n",
    "\n",
    "print(eq_system.righthand)  # [x1 + alpha*x2, x1**2 + x2**2, x1 + beta*x2 + gamma*x3]\n",
    "print(eq_system.variables)  # {x1, x2, x3}\n",
    "print(eq_system.constants)  # {alpha, beta, gamma}\n",
    "\n",
    "latex_str = eq_system.print_system_latex(system)\n",
    "print(latex_str)"
   ]
  }
 ],
 "metadata": {
  "kernelspec": {
   "display_name": "Python 3",
   "language": "python",
   "name": "python3"
  },
  "language_info": {
   "codemirror_mode": {
    "name": "ipython",
    "version": 3
   },
   "file_extension": ".py",
   "mimetype": "text/x-python",
   "name": "python",
   "nbconvert_exporter": "python",
   "pygments_lexer": "ipython3",
   "version": "3.9.16"
  },
  "orig_nbformat": 4
 },
 "nbformat": 4,
 "nbformat_minor": 2
}
