{
 "cells": [
  {
   "cell_type": "code",
   "execution_count": 8,
   "metadata": {},
   "outputs": [],
   "source": [
    "from AST_walk import *\n",
    "import AST_walk as ast\n",
    "from EquationSystem import *\n",
    "from DifferientialPoly import *"
   ]
  },
  {
   "cell_type": "code",
   "execution_count": 9,
   "metadata": {},
   "outputs": [
    {
     "name": "stdout",
     "output_type": "stream",
     "text": [
      "True\n"
     ]
    }
   ],
   "source": [
    "# test\n",
    "x, y, z = sp.symbols('x y z')\n",
    "expr = x ** 2 + y - x * y + y ** 3\n",
    "print(ast.is_polynomial_function_all(expr))"
   ]
  },
  {
   "attachments": {},
   "cell_type": "markdown",
   "metadata": {},
   "source": [
    "---"
   ]
  },
  {
   "cell_type": "code",
   "execution_count": 10,
   "metadata": {},
   "outputs": [
    {
     "name": "stdout",
     "output_type": "stream",
     "text": [
      "(False, 1/(x + y**2))\n",
      "(False, sin(x))\n"
     ]
    }
   ],
   "source": [
    "expr = (x ** 2 + y) / (x + y ** 2)\n",
    "print(ast.is_polynomial_function_all(expr))\n",
    "\n",
    "x, y = sp.symbols([\"x\", \"y\"])\n",
    "sin = sp.Function(\"sin\")\n",
    "\n",
    "expr = x ** 2 - y + (x + y) * sin(x)\n",
    "print(ast.is_polynomial_function_all(expr))"
   ]
  },
  {
   "cell_type": "code",
   "execution_count": 11,
   "metadata": {},
   "outputs": [
    {
     "name": "stdout",
     "output_type": "stream",
     "text": [
      "[alpha*x2 + x1, x1**2 + x2**2]\n",
      "{x2, x1}\n",
      "{alpha}\n"
     ]
    }
   ],
   "source": [
    "x1, x2 = sp.var(\"x1 x2\")\n",
    "alpha = sp.Symbol(\"alpha\")\n",
    "\n",
    "system = [\n",
    "    sp.Eq(x1, x1 + alpha * x2),\n",
    "    sp.Eq(x2, x1 ** 2 + x2 ** 2)\n",
    "]\n",
    "\n",
    "eq_system = EquationSystem(system)\n",
    "\n",
    "print(eq_system.righthand)  # [x1 + alpha*x2, x1**2 + x2**2]\n",
    "print(eq_system.variables)  # {x1, x2}\n",
    "print(eq_system.constants)  # {alpha}"
   ]
  },
  {
   "cell_type": "code",
   "execution_count": 12,
   "metadata": {},
   "outputs": [
    {
     "name": "stdout",
     "output_type": "stream",
     "text": [
      "x_{1}'=\\alpha x_{2} + x_{1}\n",
      "x_{2}'=x_{1}^{2} + x_{2}^{2}\n"
     ]
    }
   ],
   "source": [
    "latex_str = eq_system.print_system_latex(system)\n",
    "print(latex_str)"
   ]
  },
  {
   "cell_type": "code",
   "execution_count": 13,
   "metadata": {},
   "outputs": [
    {
     "name": "stdout",
     "output_type": "stream",
     "text": [
      "[alpha*x2 + x1, x1**2 + x2**2, beta*x2 + gamma*x1**2*x3 + x1]\n",
      "{x2, x3, x1}\n",
      "{alpha, beta, gamma}\n",
      "{x1: alpha*x2 + x1, x2: x1**2 + x2**2, x3: beta*x2 + gamma*x1**2*x3 + x1}\n",
      "{x1*x3, x2*x3, x3**2, x2**2, x1**2, x1*x2}\n",
      "{x2, x2**2, x1**2, x1**2*x3, x1}\n",
      "x_{1}'=\\alpha x_{2} + x_{1}\n",
      "x_{2}'=x_{1}^{2} + x_{2}^{2}\n",
      "x_{3}'=\\beta x_{2} + \\gamma x_{1}^{2} x_{3} + x_{1}\n"
     ]
    }
   ],
   "source": [
    "# create a more complex system\n",
    "x1, x2, x3 = sp.var(\"x1 x2 x3\")\n",
    "alpha = sp.Symbol(\"alpha\")\n",
    "beta = sp.Symbol(\"beta\")\n",
    "gamma = sp.Symbol(\"gamma\")\n",
    "\n",
    "system = [\n",
    "    sp.Eq(x1, x1 + alpha * x2),\n",
    "    sp.Eq(x2, x1 ** 2 + x2 ** 2),\n",
    "    sp.Eq(x3, x1 + beta * x2 + gamma * x3 * x1 ** 2)\n",
    "]\n",
    "\n",
    "eq_system = EquationSystem(system)\n",
    "\n",
    "print(eq_system.righthand)  # [x1 + alpha*x2, x1**2 + x2**2, x1 + beta*x2 + gamma*x3]\n",
    "print(eq_system.variables)  # {x1, x2, x3}\n",
    "print(eq_system.constants)  # {alpha, beta, gamma}\n",
    "print(eq_system.dict_variables_equations)\n",
    "print(eq_system.VSquare)\n",
    "print(eq_system.all_terms_RHS)\n",
    "\n",
    "latex_str = eq_system.print_system_latex(system)\n",
    "print(latex_str)"
   ]
  },
  {
   "cell_type": "code",
   "execution_count": 14,
   "metadata": {},
   "outputs": [
    {
     "data": {
      "text/latex": [
       "$\\displaystyle 4 \\alpha^{2} x_{1}^{3} x_{2}^{3} x_{3}^{4} + 4 \\alpha \\beta x_{1}^{4} x_{2}^{3} x_{3}^{3} + 4 \\alpha \\gamma x_{1}^{6} x_{2}^{2} x_{3}^{4} + 2 \\alpha x_{1}^{6} x_{2} x_{3}^{4} + 4 \\alpha x_{1}^{5} x_{2}^{2} x_{3}^{3} + 2 \\alpha x_{1}^{4} x_{2}^{3} x_{3}^{4} + 4 \\alpha x_{1}^{4} x_{2}^{2} x_{3}^{4}$"
      ],
      "text/plain": [
       "4*alpha**2*x1**3*x2**3*x3**4 + 4*alpha*beta*x1**4*x2**3*x3**3 + 4*alpha*gamma*x1**6*x2**2*x3**4 + 2*alpha*x1**6*x2*x3**4 + 4*alpha*x1**5*x2**2*x3**3 + 2*alpha*x1**4*x2**3*x3**4 + 4*alpha*x1**4*x2**2*x3**4"
      ]
     },
     "execution_count": 14,
     "metadata": {},
     "output_type": "execute_result"
    }
   ],
   "source": [
    "# test calculate_polynomial_derivative\n",
    "expr = x1 ** 4 * alpha * x2 ** 2 * x3 ** 4\n",
    "calculate_polynomial_derivative(expr, eq_system)"
   ]
  }
 ],
 "metadata": {
  "kernelspec": {
   "display_name": "Python 3",
   "language": "python",
   "name": "python3"
  },
  "language_info": {
   "codemirror_mode": {
    "name": "ipython",
    "version": 3
   },
   "file_extension": ".py",
   "mimetype": "text/x-python",
   "name": "python",
   "nbconvert_exporter": "python",
   "pygments_lexer": "ipython3",
   "version": "3.9.16"
  },
  "orig_nbformat": 4
 },
 "nbformat": 4,
 "nbformat_minor": 2
}
